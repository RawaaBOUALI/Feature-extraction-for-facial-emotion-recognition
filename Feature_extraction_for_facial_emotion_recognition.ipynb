{
  "nbformat": 4,
  "nbformat_minor": 0,
  "metadata": {
    "colab": {
      "provenance": [],
      "collapsed_sections": [
        "0WBAYIX1r8Ib",
        "xotw0uJXV4Yv",
        "CL9t2iYFWR5C",
        "zE8bOBo4aeZj",
        "qUQsF0j4aogM",
        "3Ds5udPgbuW2",
        "Cj4sWfbqb-Yt",
        "Uq1kfilvgD4B",
        "ApUOct1zhsLt",
        "5Nk3qfkdimKj",
        "tv5McS8hjQBR",
        "0G0Mmm9wjhHR"
      ],
      "authorship_tag": "ABX9TyOmt4Q5Wpg0umDYocgp0QAY",
      "include_colab_link": true
    },
    "kernelspec": {
      "name": "python3",
      "display_name": "Python 3"
    },
    "language_info": {
      "name": "python"
    },
    "accelerator": "GPU",
    "gpuClass": "standard"
  },
  "cells": [
    {
      "cell_type": "markdown",
      "metadata": {
        "id": "view-in-github",
        "colab_type": "text"
      },
      "source": [
        "<a href=\"https://colab.research.google.com/github/RawaaBOUALI/Feature-extraction-for-facial-emotion-recognition/blob/main/Feature_extraction_for_facial_emotion_recognition.ipynb\" target=\"_parent\"><img src=\"https://colab.research.google.com/assets/colab-badge.svg\" alt=\"Open In Colab\"/></a>"
      ]
    },
    {
      "cell_type": "markdown",
      "source": [
        "**This notebook contains several feature extraction techniques which are used to extract features from the facial images and then passed to a CNN model to compare their results.**"
      ],
      "metadata": {
        "id": "78J3x_AeVsfp"
      }
    },
    {
      "cell_type": "markdown",
      "source": [
        "## Download Data from kaggle"
      ],
      "metadata": {
        "id": "0WBAYIX1r8Ib"
      }
    },
    {
      "cell_type": "code",
      "source": [
        "import os\n",
        "\n",
        "# Configure kaggle\n",
        "os.chdir('/root/')\n",
        "!mkdir -p .kaggle\n",
        "os.chdir('/root/.kaggle')\n",
        "!wget --no-check-certificate 'https://docs.google.com/uc?export=download&id=1Y-o0TVcjehM8SZB3Nt8U3xkyeQu-Nse-' -O kaggle.json > /dev/null 2>&1\n",
        "!ls /root/.kaggle\n",
        "\n",
        "# Set permissions \n",
        "!chmod 600 /root/.kaggle/kaggle.json\n",
        "\n",
        "# Create data folder\n",
        "os.chdir('/content/')\n",
        "!rm -rf data\n",
        "!mkdir data\n",
        "os.chdir('data')\n",
        "!pwd\n",
        "\n",
        "# Download data\n",
        "!pip install -q kaggle\n",
        "!kaggle datasets download -d shawon10/ckplus\n",
        "\n",
        "# Unzip data\n",
        "!unzip *.zip "
      ],
      "metadata": {
        "colab": {
          "base_uri": "https://localhost:8080/"
        },
        "id": "BdVUcgORYtbo",
        "outputId": "9d951c87-8b9f-439d-effb-3f7d9f4e8825"
      },
      "execution_count": 9,
      "outputs": [
        {
          "output_type": "stream",
          "name": "stdout",
          "text": [
            "kaggle.json\n",
            "/content/data\n",
            "Downloading ckplus.zip to /content/data\n",
            " 83% 3.00M/3.63M [00:01<00:00, 2.91MB/s]\n",
            "100% 3.63M/3.63M [00:01<00:00, 2.63MB/s]\n",
            "Archive:  ckplus.zip\n",
            "  inflating: CK+48/anger/S010_004_00000017.png  \n",
            "  inflating: CK+48/anger/S010_004_00000018.png  \n",
            "  inflating: CK+48/anger/S010_004_00000019.png  \n",
            "  inflating: CK+48/anger/S011_004_00000019.png  \n",
            "  inflating: CK+48/anger/S011_004_00000020.png  \n",
            "  inflating: CK+48/anger/S011_004_00000021.png  \n",
            "  inflating: CK+48/anger/S014_003_00000028.png  \n",
            "  inflating: CK+48/anger/S014_003_00000029.png  \n",
            "  inflating: CK+48/anger/S014_003_00000030.png  \n",
            "  inflating: CK+48/anger/S022_005_00000030.png  \n",
            "  inflating: CK+48/anger/S022_005_00000031.png  \n",
            "  inflating: CK+48/anger/S022_005_00000032.png  \n",
            "  inflating: CK+48/anger/S026_003_00000013.png  \n",
            "  inflating: CK+48/anger/S026_003_00000014.png  \n",
            "  inflating: CK+48/anger/S026_003_00000015.png  \n",
            "  inflating: CK+48/anger/S028_001_00000022.png  \n",
            "  inflating: CK+48/anger/S028_001_00000023.png  \n",
            "  inflating: CK+48/anger/S028_001_00000024.png  \n",
            "  inflating: CK+48/anger/S029_001_00000017.png  \n",
            "  inflating: CK+48/anger/S029_001_00000018.png  \n",
            "  inflating: CK+48/anger/S029_001_00000019.png  \n",
            "  inflating: CK+48/anger/S032_003_00000015.png  \n",
            "  inflating: CK+48/anger/S032_003_00000016.png  \n",
            "  inflating: CK+48/anger/S032_003_00000017.png  \n",
            "  inflating: CK+48/anger/S034_003_00000025.png  \n",
            "  inflating: CK+48/anger/S034_003_00000026.png  \n",
            "  inflating: CK+48/anger/S034_003_00000027.png  \n",
            "  inflating: CK+48/anger/S037_003_00000020.png  \n",
            "  inflating: CK+48/anger/S037_003_00000021.png  \n",
            "  inflating: CK+48/anger/S037_003_00000022.png  \n",
            "  inflating: CK+48/anger/S042_004_00000018.png  \n",
            "  inflating: CK+48/anger/S042_004_00000019.png  \n",
            "  inflating: CK+48/anger/S042_004_00000020.png  \n",
            "  inflating: CK+48/anger/S045_005_00000028.png  \n",
            "  inflating: CK+48/anger/S045_005_00000029.png  \n",
            "  inflating: CK+48/anger/S045_005_00000030.png  \n",
            "  inflating: CK+48/anger/S050_004_00000019.png  \n",
            "  inflating: CK+48/anger/S050_004_00000020.png  \n",
            "  inflating: CK+48/anger/S050_004_00000021.png  \n",
            "  inflating: CK+48/anger/S055_004_00000026.png  \n",
            "  inflating: CK+48/anger/S055_004_00000027.png  \n",
            "  inflating: CK+48/anger/S055_004_00000028.png  \n",
            "  inflating: CK+48/anger/S058_005_00000008.png  \n",
            "  inflating: CK+48/anger/S058_005_00000009.png  \n",
            "  inflating: CK+48/anger/S058_005_00000010.png  \n",
            "  inflating: CK+48/anger/S066_005_00000009.png  \n",
            "  inflating: CK+48/anger/S066_005_00000010.png  \n",
            "  inflating: CK+48/anger/S066_005_00000011.png  \n",
            "  inflating: CK+48/anger/S067_004_00000021.png  \n",
            "  inflating: CK+48/anger/S067_004_00000022.png  \n",
            "  inflating: CK+48/anger/S067_004_00000023.png  \n",
            "  inflating: CK+48/anger/S071_004_00000026.png  \n",
            "  inflating: CK+48/anger/S071_004_00000027.png  \n",
            "  inflating: CK+48/anger/S071_004_00000028.png  \n",
            "  inflating: CK+48/anger/S072_005_00000017.png  \n",
            "  inflating: CK+48/anger/S072_005_00000018.png  \n",
            "  inflating: CK+48/anger/S072_005_00000019.png  \n",
            "  inflating: CK+48/anger/S075_008_00000010.png  \n",
            "  inflating: CK+48/anger/S075_008_00000011.png  \n",
            "  inflating: CK+48/anger/S075_008_00000012.png  \n",
            "  inflating: CK+48/anger/S082_005_00000015.png  \n",
            "  inflating: CK+48/anger/S082_005_00000016.png  \n",
            "  inflating: CK+48/anger/S082_005_00000017.png  \n",
            "  inflating: CK+48/anger/S087_007_00000014.png  \n",
            "  inflating: CK+48/anger/S087_007_00000015.png  \n",
            "  inflating: CK+48/anger/S087_007_00000016.png  \n",
            "  inflating: CK+48/anger/S089_003_00000034.png  \n",
            "  inflating: CK+48/anger/S089_003_00000035.png  \n",
            "  inflating: CK+48/anger/S089_003_00000036.png  \n",
            "  inflating: CK+48/anger/S090_007_00000012.png  \n",
            "  inflating: CK+48/anger/S090_007_00000013.png  \n",
            "  inflating: CK+48/anger/S090_007_00000014.png  \n",
            "  inflating: CK+48/anger/S092_003_00000012.png  \n",
            "  inflating: CK+48/anger/S092_003_00000013.png  \n",
            "  inflating: CK+48/anger/S092_003_00000014.png  \n",
            "  inflating: CK+48/anger/S100_005_00000021.png  \n",
            "  inflating: CK+48/anger/S100_005_00000022.png  \n",
            "  inflating: CK+48/anger/S100_005_00000023.png  \n",
            "  inflating: CK+48/anger/S109_003_00000015.png  \n",
            "  inflating: CK+48/anger/S109_003_00000016.png  \n",
            "  inflating: CK+48/anger/S109_003_00000017.png  \n",
            "  inflating: CK+48/anger/S111_006_00000008.png  \n",
            "  inflating: CK+48/anger/S111_006_00000009.png  \n",
            "  inflating: CK+48/anger/S111_006_00000010.png  \n",
            "  inflating: CK+48/anger/S112_005_00000015.png  \n",
            "  inflating: CK+48/anger/S112_005_00000016.png  \n",
            "  inflating: CK+48/anger/S112_005_00000017.png  \n",
            "  inflating: CK+48/anger/S113_008_00000021.png  \n",
            "  inflating: CK+48/anger/S113_008_00000022.png  \n",
            "  inflating: CK+48/anger/S113_008_00000023.png  \n",
            "  inflating: CK+48/anger/S117_006_00000008.png  \n",
            "  inflating: CK+48/anger/S117_006_00000009.png  \n",
            "  inflating: CK+48/anger/S117_006_00000010.png  \n",
            "  inflating: CK+48/anger/S119_008_00000016.png  \n",
            "  inflating: CK+48/anger/S119_008_00000017.png  \n",
            "  inflating: CK+48/anger/S119_008_00000018.png  \n",
            "  inflating: CK+48/anger/S126_008_00000027.png  \n",
            "  inflating: CK+48/anger/S126_008_00000028.png  \n",
            "  inflating: CK+48/anger/S126_008_00000029.png  \n",
            "  inflating: CK+48/anger/S127_010_00000016.png  \n",
            "  inflating: CK+48/anger/S127_010_00000017.png  \n",
            "  inflating: CK+48/anger/S127_010_00000018.png  \n",
            "  inflating: CK+48/anger/S129_006_00000008.png  \n",
            "  inflating: CK+48/anger/S129_006_00000009.png  \n",
            "  inflating: CK+48/anger/S129_006_00000010.png  \n",
            "  inflating: CK+48/anger/S130_007_00000018.png  \n",
            "  inflating: CK+48/anger/S130_007_00000019.png  \n",
            "  inflating: CK+48/anger/S130_007_00000020.png  \n",
            "  inflating: CK+48/anger/S133_003_00000045.png  \n",
            "  inflating: CK+48/anger/S133_003_00000046.png  \n",
            "  inflating: CK+48/anger/S133_003_00000047.png  \n",
            "  inflating: CK+48/anger/S134_003_00000009.png  \n",
            "  inflating: CK+48/anger/S134_003_00000010.png  \n",
            "  inflating: CK+48/anger/S134_003_00000011.png  \n",
            "  inflating: CK+48/anger/S136_005_00000008.png  \n",
            "  inflating: CK+48/anger/S136_005_00000009.png  \n",
            "  inflating: CK+48/anger/S136_005_00000010.png  \n",
            "  inflating: CK+48/anger/S501_001_00000065.png  \n",
            "  inflating: CK+48/anger/S501_001_00000066.png  \n",
            "  inflating: CK+48/anger/S501_001_00000067.png  \n",
            "  inflating: CK+48/anger/S502_001_00000014.png  \n",
            "  inflating: CK+48/anger/S502_001_00000015.png  \n",
            "  inflating: CK+48/anger/S502_001_00000016.png  \n",
            "  inflating: CK+48/anger/S503_001_00000069.png  \n",
            "  inflating: CK+48/anger/S503_001_00000070.png  \n",
            "  inflating: CK+48/anger/S503_001_00000071.png  \n",
            "  inflating: CK+48/anger/S504_001_00000020.png  \n",
            "  inflating: CK+48/anger/S504_001_00000021.png  \n",
            "  inflating: CK+48/anger/S504_001_00000022.png  \n",
            "  inflating: CK+48/anger/S506_001_00000038.png  \n",
            "  inflating: CK+48/anger/S506_001_00000039.png  \n",
            "  inflating: CK+48/anger/S506_001_00000040.png  \n",
            "  inflating: CK+48/anger/S999_001_00000016.png  \n",
            "  inflating: CK+48/anger/S999_001_00000017.png  \n",
            "  inflating: CK+48/anger/S999_001_00000018.png  \n",
            "  inflating: CK+48/contempt/S138_008_00000007.png  \n",
            "  inflating: CK+48/contempt/S138_008_00000008.png  \n",
            "  inflating: CK+48/contempt/S138_008_00000009.png  \n",
            "  inflating: CK+48/contempt/S139_002_00000011.png  \n",
            "  inflating: CK+48/contempt/S139_002_00000012.png  \n",
            "  inflating: CK+48/contempt/S139_002_00000013.png  \n",
            "  inflating: CK+48/contempt/S147_002_00000011.png  \n",
            "  inflating: CK+48/contempt/S147_002_00000012.png  \n",
            "  inflating: CK+48/contempt/S147_002_00000013.png  \n",
            "  inflating: CK+48/contempt/S148_002_00000013.png  \n",
            "  inflating: CK+48/contempt/S148_002_00000014.png  \n",
            "  inflating: CK+48/contempt/S148_002_00000015.png  \n",
            "  inflating: CK+48/contempt/S149_002_00000011.png  \n",
            "  inflating: CK+48/contempt/S149_002_00000012.png  \n",
            "  inflating: CK+48/contempt/S149_002_00000013.png  \n",
            "  inflating: CK+48/contempt/S151_002_00000027.png  \n",
            "  inflating: CK+48/contempt/S151_002_00000028.png  \n",
            "  inflating: CK+48/contempt/S151_002_00000029.png  \n",
            "  inflating: CK+48/contempt/S154_002_00000011.png  \n",
            "  inflating: CK+48/contempt/S154_002_00000012.png  \n",
            "  inflating: CK+48/contempt/S154_002_00000013.png  \n",
            "  inflating: CK+48/contempt/S155_002_00000010.png  \n",
            "  inflating: CK+48/contempt/S155_002_00000011.png  \n",
            "  inflating: CK+48/contempt/S155_002_00000012.png  \n",
            "  inflating: CK+48/contempt/S156_002_00000019.png  \n",
            "  inflating: CK+48/contempt/S156_002_00000020.png  \n",
            "  inflating: CK+48/contempt/S156_002_00000021.png  \n",
            "  inflating: CK+48/contempt/S157_002_00000009.png  \n",
            "  inflating: CK+48/contempt/S157_002_00000010.png  \n",
            "  inflating: CK+48/contempt/S157_002_00000011.png  \n",
            "  inflating: CK+48/contempt/S158_002_00000009.png  \n",
            "  inflating: CK+48/contempt/S158_002_00000010.png  \n",
            "  inflating: CK+48/contempt/S158_002_00000011.png  \n",
            "  inflating: CK+48/contempt/S160_006_00000008.png  \n",
            "  inflating: CK+48/contempt/S160_006_00000009.png  \n",
            "  inflating: CK+48/contempt/S160_006_00000010.png  \n",
            "  inflating: CK+48/contempt/S502_002_00000007.png  \n",
            "  inflating: CK+48/contempt/S502_002_00000008.png  \n",
            "  inflating: CK+48/contempt/S502_002_00000009.png  \n",
            "  inflating: CK+48/contempt/S503_002_00000006.png  \n",
            "  inflating: CK+48/contempt/S503_002_00000007.png  \n",
            "  inflating: CK+48/contempt/S503_002_00000008.png  \n",
            "  inflating: CK+48/contempt/S504_002_00000007.png  \n",
            "  inflating: CK+48/contempt/S504_002_00000008.png  \n",
            "  inflating: CK+48/contempt/S504_002_00000009.png  \n",
            "  inflating: CK+48/contempt/S505_002_00000019.png  \n",
            "  inflating: CK+48/contempt/S505_002_00000020.png  \n",
            "  inflating: CK+48/contempt/S505_002_00000021.png  \n",
            "  inflating: CK+48/contempt/S506_002_00000007.png  \n",
            "  inflating: CK+48/contempt/S506_002_00000008.png  \n",
            "  inflating: CK+48/contempt/S506_002_00000009.png  \n",
            "  inflating: CK+48/contempt/S895_002_00000005.png  \n",
            "  inflating: CK+48/contempt/S895_002_00000006.png  \n",
            "  inflating: CK+48/contempt/S895_002_00000007.png  \n",
            "  inflating: CK+48/disgust/S005_001_00000009.png  \n",
            "  inflating: CK+48/disgust/S005_001_00000010.png  \n",
            "  inflating: CK+48/disgust/S005_001_00000011.png  \n",
            "  inflating: CK+48/disgust/S011_005_00000018.png  \n",
            "  inflating: CK+48/disgust/S011_005_00000019.png  \n",
            "  inflating: CK+48/disgust/S011_005_00000020.png  \n",
            "  inflating: CK+48/disgust/S022_006_00000015.png  \n",
            "  inflating: CK+48/disgust/S022_006_00000016.png  \n",
            "  inflating: CK+48/disgust/S022_006_00000017.png  \n",
            "  inflating: CK+48/disgust/S032_005_00000014.png  \n",
            "  inflating: CK+48/disgust/S032_005_00000015.png  \n",
            "  inflating: CK+48/disgust/S032_005_00000016.png  \n",
            "  inflating: CK+48/disgust/S035_005_00000017.png  \n",
            "  inflating: CK+48/disgust/S035_005_00000018.png  \n",
            "  inflating: CK+48/disgust/S035_005_00000019.png  \n",
            "  inflating: CK+48/disgust/S044_006_00000017.png  \n",
            "  inflating: CK+48/disgust/S044_006_00000018.png  \n",
            "  inflating: CK+48/disgust/S044_006_00000019.png  \n",
            "  inflating: CK+48/disgust/S045_004_00000013.png  \n",
            "  inflating: CK+48/disgust/S045_004_00000014.png  \n",
            "  inflating: CK+48/disgust/S045_004_00000015.png  \n",
            "  inflating: CK+48/disgust/S046_004_00000015.png  \n",
            "  inflating: CK+48/disgust/S046_004_00000016.png  \n",
            "  inflating: CK+48/disgust/S046_004_00000017.png  \n",
            "  inflating: CK+48/disgust/S051_003_00000016.png  \n",
            "  inflating: CK+48/disgust/S051_003_00000017.png  \n",
            "  inflating: CK+48/disgust/S051_003_00000018.png  \n",
            "  inflating: CK+48/disgust/S052_006_00000011.png  \n",
            "  inflating: CK+48/disgust/S052_006_00000012.png  \n",
            "  inflating: CK+48/disgust/S052_006_00000013.png  \n",
            "  inflating: CK+48/disgust/S054_004_00000022.png  \n",
            "  inflating: CK+48/disgust/S054_004_00000023.png  \n",
            "  inflating: CK+48/disgust/S054_004_00000024.png  \n",
            "  inflating: CK+48/disgust/S055_003_00000007.png  \n",
            "  inflating: CK+48/disgust/S055_003_00000008.png  \n",
            "  inflating: CK+48/disgust/S055_003_00000009.png  \n",
            "  inflating: CK+48/disgust/S056_002_00000008.png  \n",
            "  inflating: CK+48/disgust/S056_002_00000009.png  \n",
            "  inflating: CK+48/disgust/S056_002_00000010.png  \n",
            "  inflating: CK+48/disgust/S057_003_00000013.png  \n",
            "  inflating: CK+48/disgust/S057_003_00000014.png  \n",
            "  inflating: CK+48/disgust/S057_003_00000015.png  \n",
            "  inflating: CK+48/disgust/S058_006_00000016.png  \n",
            "  inflating: CK+48/disgust/S058_006_00000017.png  \n",
            "  inflating: CK+48/disgust/S058_006_00000018.png  \n",
            "  inflating: CK+48/disgust/S060_005_00000019.png  \n",
            "  inflating: CK+48/disgust/S060_005_00000020.png  \n",
            "  inflating: CK+48/disgust/S060_005_00000021.png  \n",
            "  inflating: CK+48/disgust/S061_004_00000020.png  \n",
            "  inflating: CK+48/disgust/S061_004_00000021.png  \n",
            "  inflating: CK+48/disgust/S061_004_00000022.png  \n",
            "  inflating: CK+48/disgust/S062_005_00000027.png  \n",
            "  inflating: CK+48/disgust/S062_005_00000028.png  \n",
            "  inflating: CK+48/disgust/S062_005_00000029.png  \n",
            "  inflating: CK+48/disgust/S065_005_00000006.png  \n",
            "  inflating: CK+48/disgust/S065_005_00000007.png  \n",
            "  inflating: CK+48/disgust/S065_005_00000008.png  \n",
            "  inflating: CK+48/disgust/S067_006_00000009.png  \n",
            "  inflating: CK+48/disgust/S067_006_00000010.png  \n",
            "  inflating: CK+48/disgust/S067_006_00000011.png  \n",
            "  inflating: CK+48/disgust/S068_005_00000019.png  \n",
            "  inflating: CK+48/disgust/S068_005_00000020.png  \n",
            "  inflating: CK+48/disgust/S068_005_00000021.png  \n",
            "  inflating: CK+48/disgust/S069_003_00000009.png  \n",
            "  inflating: CK+48/disgust/S069_003_00000010.png  \n",
            "  inflating: CK+48/disgust/S069_003_00000011.png  \n",
            "  inflating: CK+48/disgust/S070_005_00000014.png  \n",
            "  inflating: CK+48/disgust/S070_005_00000015.png  \n",
            "  inflating: CK+48/disgust/S070_005_00000016.png  \n",
            "  inflating: CK+48/disgust/S071_006_00000012.png  \n",
            "  inflating: CK+48/disgust/S071_006_00000013.png  \n",
            "  inflating: CK+48/disgust/S071_006_00000014.png  \n",
            "  inflating: CK+48/disgust/S073_006_00000012.png  \n",
            "  inflating: CK+48/disgust/S073_006_00000013.png  \n",
            "  inflating: CK+48/disgust/S073_006_00000014.png  \n",
            "  inflating: CK+48/disgust/S074_004_00000016.png  \n",
            "  inflating: CK+48/disgust/S074_004_00000017.png  \n",
            "  inflating: CK+48/disgust/S074_004_00000018.png  \n",
            "  inflating: CK+48/disgust/S075_005_00000010.png  \n",
            "  inflating: CK+48/disgust/S075_005_00000011.png  \n",
            "  inflating: CK+48/disgust/S075_005_00000012.png  \n",
            "  inflating: CK+48/disgust/S076_005_00000010.png  \n",
            "  inflating: CK+48/disgust/S076_005_00000011.png  \n",
            "  inflating: CK+48/disgust/S076_005_00000012.png  \n",
            "  inflating: CK+48/disgust/S077_006_00000012.png  \n",
            "  inflating: CK+48/disgust/S077_006_00000013.png  \n",
            "  inflating: CK+48/disgust/S077_006_00000014.png  \n",
            "  inflating: CK+48/disgust/S078_007_00000011.png  \n",
            "  inflating: CK+48/disgust/S078_007_00000012.png  \n",
            "  inflating: CK+48/disgust/S078_007_00000013.png  \n",
            "  inflating: CK+48/disgust/S079_002_00000010.png  \n",
            "  inflating: CK+48/disgust/S079_002_00000011.png  \n",
            "  inflating: CK+48/disgust/S079_002_00000012.png  \n",
            "  inflating: CK+48/disgust/S080_008_00000007.png  \n",
            "  inflating: CK+48/disgust/S080_008_00000008.png  \n",
            "  inflating: CK+48/disgust/S080_008_00000009.png  \n",
            "  inflating: CK+48/disgust/S081_008_00000009.png  \n",
            "  inflating: CK+48/disgust/S081_008_00000010.png  \n",
            "  inflating: CK+48/disgust/S081_008_00000011.png  \n",
            "  inflating: CK+48/disgust/S082_007_00000008.png  \n",
            "  inflating: CK+48/disgust/S082_007_00000009.png  \n",
            "  inflating: CK+48/disgust/S082_007_00000010.png  \n",
            "  inflating: CK+48/disgust/S085_004_00000015.png  \n",
            "  inflating: CK+48/disgust/S085_004_00000016.png  \n",
            "  inflating: CK+48/disgust/S085_004_00000017.png  \n",
            "  inflating: CK+48/disgust/S087_004_00000010.png  \n",
            "  inflating: CK+48/disgust/S087_004_00000011.png  \n",
            "  inflating: CK+48/disgust/S087_004_00000012.png  \n",
            "  inflating: CK+48/disgust/S088_004_00000018.png  \n",
            "  inflating: CK+48/disgust/S088_004_00000019.png  \n",
            "  inflating: CK+48/disgust/S088_004_00000020.png  \n",
            "  inflating: CK+48/disgust/S090_006_00000009.png  \n",
            "  inflating: CK+48/disgust/S090_006_00000010.png  \n",
            "  inflating: CK+48/disgust/S090_006_00000011.png  \n",
            "  inflating: CK+48/disgust/S095_006_00000011.png  \n",
            "  inflating: CK+48/disgust/S095_006_00000012.png  \n",
            "  inflating: CK+48/disgust/S095_006_00000013.png  \n",
            "  inflating: CK+48/disgust/S096_003_00000010.png  \n",
            "  inflating: CK+48/disgust/S096_003_00000011.png  \n",
            "  inflating: CK+48/disgust/S096_003_00000012.png  \n",
            "  inflating: CK+48/disgust/S097_004_00000028.png  \n",
            "  inflating: CK+48/disgust/S097_004_00000029.png  \n",
            "  inflating: CK+48/disgust/S097_004_00000030.png  \n",
            "  inflating: CK+48/disgust/S098_003_00000011.png  \n",
            "  inflating: CK+48/disgust/S098_003_00000012.png  \n",
            "  inflating: CK+48/disgust/S098_003_00000013.png  \n",
            "  inflating: CK+48/disgust/S099_007_00000010.png  \n",
            "  inflating: CK+48/disgust/S099_007_00000011.png  \n",
            "  inflating: CK+48/disgust/S099_007_00000012.png  \n",
            "  inflating: CK+48/disgust/S102_009_00000013.png  \n",
            "  inflating: CK+48/disgust/S102_009_00000014.png  \n",
            "  inflating: CK+48/disgust/S102_009_00000015.png  \n",
            "  inflating: CK+48/disgust/S105_008_00000008.png  \n",
            "  inflating: CK+48/disgust/S105_008_00000009.png  \n",
            "  inflating: CK+48/disgust/S105_008_00000010.png  \n",
            "  inflating: CK+48/disgust/S106_004_00000006.png  \n",
            "  inflating: CK+48/disgust/S106_004_00000007.png  \n",
            "  inflating: CK+48/disgust/S106_004_00000008.png  \n",
            "  inflating: CK+48/disgust/S107_005_00000009.png  \n",
            "  inflating: CK+48/disgust/S107_005_00000010.png  \n",
            "  inflating: CK+48/disgust/S107_005_00000011.png  \n",
            "  inflating: CK+48/disgust/S108_006_00000018.png  \n",
            "  inflating: CK+48/disgust/S108_006_00000019.png  \n",
            "  inflating: CK+48/disgust/S108_006_00000020.png  \n",
            "  inflating: CK+48/disgust/S109_005_00000012.png  \n",
            "  inflating: CK+48/disgust/S109_005_00000013.png  \n",
            "  inflating: CK+48/disgust/S109_005_00000014.png  \n",
            "  inflating: CK+48/disgust/S111_007_00000012.png  \n",
            "  inflating: CK+48/disgust/S111_007_00000013.png  \n",
            "  inflating: CK+48/disgust/S111_007_00000014.png  \n",
            "  inflating: CK+48/disgust/S116_006_00000005.png  \n",
            "  inflating: CK+48/disgust/S116_006_00000006.png  \n",
            "  inflating: CK+48/disgust/S116_006_00000007.png  \n",
            "  inflating: CK+48/disgust/S124_006_00000009.png  \n",
            "  inflating: CK+48/disgust/S124_006_00000010.png  \n",
            "  inflating: CK+48/disgust/S124_006_00000011.png  \n",
            "  inflating: CK+48/disgust/S125_008_00000008.png  \n",
            "  inflating: CK+48/disgust/S125_008_00000009.png  \n",
            "  inflating: CK+48/disgust/S125_008_00000010.png  \n",
            "  inflating: CK+48/disgust/S128_004_00000011.png  \n",
            "  inflating: CK+48/disgust/S128_004_00000012.png  \n",
            "  inflating: CK+48/disgust/S128_004_00000013.png  \n",
            "  inflating: CK+48/disgust/S129_011_00000016.png  \n",
            "  inflating: CK+48/disgust/S129_011_00000017.png  \n",
            "  inflating: CK+48/disgust/S129_011_00000018.png  \n",
            "  inflating: CK+48/disgust/S130_012_00000009.png  \n",
            "  inflating: CK+48/disgust/S130_012_00000010.png  \n",
            "  inflating: CK+48/disgust/S130_012_00000011.png  \n",
            "  inflating: CK+48/disgust/S131_010_00000016.png  \n",
            "  inflating: CK+48/disgust/S131_010_00000017.png  \n",
            "  inflating: CK+48/disgust/S131_010_00000018.png  \n",
            "  inflating: CK+48/disgust/S132_005_00000014.png  \n",
            "  inflating: CK+48/disgust/S132_005_00000015.png  \n",
            "  inflating: CK+48/disgust/S132_005_00000016.png  \n",
            "  inflating: CK+48/disgust/S134_008_00000011.png  \n",
            "  inflating: CK+48/disgust/S134_008_00000012.png  \n",
            "  inflating: CK+48/disgust/S134_008_00000013.png  \n",
            "  inflating: CK+48/fear/S011_003_00000012.png  \n",
            "  inflating: CK+48/fear/S011_003_00000013.png  \n",
            "  inflating: CK+48/fear/S011_003_00000014.png  \n",
            "  inflating: CK+48/fear/S032_004_00000012.png  \n",
            "  inflating: CK+48/fear/S032_004_00000013.png  \n",
            "  inflating: CK+48/fear/S032_004_00000014.png  \n",
            "  inflating: CK+48/fear/S046_003_00000014.png  \n",
            "  inflating: CK+48/fear/S046_003_00000015.png  \n",
            "  inflating: CK+48/fear/S046_003_00000016.png  \n",
            "  inflating: CK+48/fear/S050_001_00000015.png  \n",
            "  inflating: CK+48/fear/S050_001_00000016.png  \n",
            "  inflating: CK+48/fear/S050_001_00000017.png  \n",
            "  inflating: CK+48/fear/S054_002_00000013.png  \n",
            "  inflating: CK+48/fear/S054_002_00000014.png  \n",
            "  inflating: CK+48/fear/S054_002_00000015.png  \n",
            "  inflating: CK+48/fear/S055_006_00000006.png  \n",
            "  inflating: CK+48/fear/S055_006_00000007.png  \n",
            "  inflating: CK+48/fear/S055_006_00000008.png  \n",
            "  inflating: CK+48/fear/S059_002_00000015.png  \n",
            "  inflating: CK+48/fear/S059_002_00000016.png  \n",
            "  inflating: CK+48/fear/S059_002_00000017.png  \n",
            "  inflating: CK+48/fear/S062_001_00000015.png  \n",
            "  inflating: CK+48/fear/S062_001_00000016.png  \n",
            "  inflating: CK+48/fear/S062_001_00000017.png  \n",
            "  inflating: CK+48/fear/S065_002_00000020.png  \n",
            "  inflating: CK+48/fear/S065_002_00000021.png  \n",
            "  inflating: CK+48/fear/S065_002_00000022.png  \n",
            "  inflating: CK+48/fear/S068_004_00000008.png  \n",
            "  inflating: CK+48/fear/S068_004_00000009.png  \n",
            "  inflating: CK+48/fear/S068_004_00000010.png  \n",
            "  inflating: CK+48/fear/S074_001_00000018.png  \n",
            "  inflating: CK+48/fear/S074_001_00000019.png  \n",
            "  inflating: CK+48/fear/S074_001_00000020.png  \n",
            "  inflating: CK+48/fear/S084_002_00000021.png  \n",
            "  inflating: CK+48/fear/S084_002_00000022.png  \n",
            "  inflating: CK+48/fear/S084_002_00000023.png  \n",
            "  inflating: CK+48/fear/S091_001_00000013.png  \n",
            "  inflating: CK+48/fear/S091_001_00000014.png  \n",
            "  inflating: CK+48/fear/S091_001_00000015.png  \n",
            "  inflating: CK+48/fear/S102_003_00000014.png  \n",
            "  inflating: CK+48/fear/S102_003_00000015.png  \n",
            "  inflating: CK+48/fear/S102_003_00000016.png  \n",
            "  inflating: CK+48/fear/S117_003_00000012.png  \n",
            "  inflating: CK+48/fear/S117_003_00000013.png  \n",
            "  inflating: CK+48/fear/S117_003_00000014.png  \n",
            "  inflating: CK+48/fear/S119_003_00000022.png  \n",
            "  inflating: CK+48/fear/S119_003_00000023.png  \n",
            "  inflating: CK+48/fear/S119_003_00000024.png  \n",
            "  inflating: CK+48/fear/S124_003_00000009.png  \n",
            "  inflating: CK+48/fear/S124_003_00000010.png  \n",
            "  inflating: CK+48/fear/S124_003_00000011.png  \n",
            "  inflating: CK+48/fear/S125_006_00000020.png  \n",
            "  inflating: CK+48/fear/S125_006_00000021.png  \n",
            "  inflating: CK+48/fear/S125_006_00000022.png  \n",
            "  inflating: CK+48/fear/S132_003_00000021.png  \n",
            "  inflating: CK+48/fear/S132_003_00000022.png  \n",
            "  inflating: CK+48/fear/S132_003_00000023.png  \n",
            "  inflating: CK+48/fear/S138_001_00000010.png  \n",
            "  inflating: CK+48/fear/S138_001_00000011.png  \n",
            "  inflating: CK+48/fear/S138_001_00000012.png  \n",
            "  inflating: CK+48/fear/S501_004_00000054.png  \n",
            "  inflating: CK+48/fear/S501_004_00000055.png  \n",
            "  inflating: CK+48/fear/S501_004_00000056.png  \n",
            "  inflating: CK+48/fear/S502_004_00000050.png  \n",
            "  inflating: CK+48/fear/S502_004_00000051.png  \n",
            "  inflating: CK+48/fear/S502_004_00000052.png  \n",
            "  inflating: CK+48/fear/S504_004_00000013.png  \n",
            "  inflating: CK+48/fear/S504_004_00000014.png  \n",
            "  inflating: CK+48/fear/S504_004_00000015.png  \n",
            "  inflating: CK+48/fear/S506_004_00000036.png  \n",
            "  inflating: CK+48/fear/S506_004_00000037.png  \n",
            "  inflating: CK+48/fear/S506_004_00000038.png  \n",
            "  inflating: CK+48/fear/S999_003_00000053.png  \n",
            "  inflating: CK+48/fear/S999_003_00000054.png  \n",
            "  inflating: CK+48/fear/S999_003_00000055.png  \n",
            "  inflating: CK+48/happy/S010_006_00000013.png  \n",
            "  inflating: CK+48/happy/S010_006_00000014.png  \n",
            "  inflating: CK+48/happy/S010_006_00000015.png  \n",
            "  inflating: CK+48/happy/S011_006_00000011.png  \n",
            "  inflating: CK+48/happy/S011_006_00000012.png  \n",
            "  inflating: CK+48/happy/S011_006_00000013.png  \n",
            "  inflating: CK+48/happy/S014_005_00000015.png  \n",
            "  inflating: CK+48/happy/S014_005_00000016.png  \n",
            "  inflating: CK+48/happy/S014_005_00000017.png  \n",
            "  inflating: CK+48/happy/S026_006_00000011.png  \n",
            "  inflating: CK+48/happy/S026_006_00000012.png  \n",
            "  inflating: CK+48/happy/S026_006_00000013.png  \n",
            "  inflating: CK+48/happy/S032_006_00000014.png  \n",
            "  inflating: CK+48/happy/S032_006_00000015.png  \n",
            "  inflating: CK+48/happy/S032_006_00000016.png  \n",
            "  inflating: CK+48/happy/S034_005_00000008.png  \n",
            "  inflating: CK+48/happy/S034_005_00000009.png  \n",
            "  inflating: CK+48/happy/S034_005_00000010.png  \n",
            "  inflating: CK+48/happy/S035_006_00000016.png  \n",
            "  inflating: CK+48/happy/S035_006_00000017.png  \n",
            "  inflating: CK+48/happy/S035_006_00000018.png  \n",
            "  inflating: CK+48/happy/S037_006_00000019.png  \n",
            "  inflating: CK+48/happy/S037_006_00000020.png  \n",
            "  inflating: CK+48/happy/S037_006_00000021.png  \n",
            "  inflating: CK+48/happy/S042_006_00000015.png  \n",
            "  inflating: CK+48/happy/S042_006_00000016.png  \n",
            "  inflating: CK+48/happy/S042_006_00000017.png  \n",
            "  inflating: CK+48/happy/S044_003_00000012.png  \n",
            "  inflating: CK+48/happy/S044_003_00000013.png  \n",
            "  inflating: CK+48/happy/S044_003_00000014.png  \n",
            "  inflating: CK+48/happy/S050_006_00000021.png  \n",
            "  inflating: CK+48/happy/S050_006_00000022.png  \n",
            "  inflating: CK+48/happy/S050_006_00000023.png  \n",
            "  inflating: CK+48/happy/S052_004_00000031.png  \n",
            "  inflating: CK+48/happy/S052_004_00000032.png  \n",
            "  inflating: CK+48/happy/S052_004_00000033.png  \n",
            "  inflating: CK+48/happy/S053_004_00000022.png  \n",
            "  inflating: CK+48/happy/S053_004_00000023.png  \n",
            "  inflating: CK+48/happy/S053_004_00000024.png  \n",
            "  inflating: CK+48/happy/S055_005_00000043.png  \n",
            "  inflating: CK+48/happy/S055_005_00000044.png  \n",
            "  inflating: CK+48/happy/S055_005_00000045.png  \n",
            "  inflating: CK+48/happy/S056_004_00000018.png  \n",
            "  inflating: CK+48/happy/S056_004_00000019.png  \n",
            "  inflating: CK+48/happy/S056_004_00000020.png  \n",
            "  inflating: CK+48/happy/S057_006_00000031.png  \n",
            "  inflating: CK+48/happy/S057_006_00000032.png  \n",
            "  inflating: CK+48/happy/S057_006_00000033.png  \n",
            "  inflating: CK+48/happy/S060_002_00000024.png  \n",
            "  inflating: CK+48/happy/S060_002_00000025.png  \n",
            "  inflating: CK+48/happy/S060_002_00000026.png  \n",
            "  inflating: CK+48/happy/S061_002_00000013.png  \n",
            "  inflating: CK+48/happy/S061_002_00000014.png  \n",
            "  inflating: CK+48/happy/S061_002_00000015.png  \n",
            "  inflating: CK+48/happy/S062_004_00000022.png  \n",
            "  inflating: CK+48/happy/S062_004_00000023.png  \n",
            "  inflating: CK+48/happy/S062_004_00000024.png  \n",
            "  inflating: CK+48/happy/S063_002_00000021.png  \n",
            "  inflating: CK+48/happy/S063_002_00000022.png  \n",
            "  inflating: CK+48/happy/S063_002_00000023.png  \n",
            "  inflating: CK+48/happy/S064_003_00000023.png  \n",
            "  inflating: CK+48/happy/S064_003_00000024.png  \n",
            "  inflating: CK+48/happy/S064_003_00000025.png  \n",
            "  inflating: CK+48/happy/S065_004_00000026.png  \n",
            "  inflating: CK+48/happy/S065_004_00000027.png  \n",
            "  inflating: CK+48/happy/S065_004_00000028.png  \n",
            "  inflating: CK+48/happy/S066_003_00000010.png  \n",
            "  inflating: CK+48/happy/S066_003_00000011.png  \n",
            "  inflating: CK+48/happy/S066_003_00000012.png  \n",
            "  inflating: CK+48/happy/S067_005_00000020.png  \n",
            "  inflating: CK+48/happy/S067_005_00000021.png  \n",
            "  inflating: CK+48/happy/S067_005_00000022.png  \n",
            "  inflating: CK+48/happy/S068_002_00000013.png  \n",
            "  inflating: CK+48/happy/S068_002_00000014.png  \n",
            "  inflating: CK+48/happy/S068_002_00000015.png  \n",
            "  inflating: CK+48/happy/S069_004_00000015.png  \n",
            "  inflating: CK+48/happy/S069_004_00000016.png  \n",
            "  inflating: CK+48/happy/S069_004_00000017.png  \n",
            "  inflating: CK+48/happy/S070_003_00000015.png  \n",
            "  inflating: CK+48/happy/S070_003_00000016.png  \n",
            "  inflating: CK+48/happy/S070_003_00000017.png  \n",
            "  inflating: CK+48/happy/S071_005_00000019.png  \n",
            "  inflating: CK+48/happy/S071_005_00000020.png  \n",
            "  inflating: CK+48/happy/S071_005_00000021.png  \n",
            "  inflating: CK+48/happy/S072_006_00000020.png  \n",
            "  inflating: CK+48/happy/S072_006_00000021.png  \n",
            "  inflating: CK+48/happy/S072_006_00000022.png  \n",
            "  inflating: CK+48/happy/S074_005_00000041.png  \n",
            "  inflating: CK+48/happy/S074_005_00000042.png  \n",
            "  inflating: CK+48/happy/S074_005_00000043.png  \n",
            "  inflating: CK+48/happy/S075_006_00000023.png  \n",
            "  inflating: CK+48/happy/S075_006_00000024.png  \n",
            "  inflating: CK+48/happy/S075_006_00000025.png  \n",
            "  inflating: CK+48/happy/S076_006_00000017.png  \n",
            "  inflating: CK+48/happy/S076_006_00000018.png  \n",
            "  inflating: CK+48/happy/S076_006_00000019.png  \n",
            "  inflating: CK+48/happy/S078_004_00000025.png  \n",
            "  inflating: CK+48/happy/S078_004_00000026.png  \n",
            "  inflating: CK+48/happy/S078_004_00000027.png  \n",
            "  inflating: CK+48/happy/S079_004_00000024.png  \n",
            "  inflating: CK+48/happy/S079_004_00000025.png  \n",
            "  inflating: CK+48/happy/S079_004_00000026.png  \n",
            "  inflating: CK+48/happy/S083_003_00000017.png  \n",
            "  inflating: CK+48/happy/S083_003_00000018.png  \n",
            "  inflating: CK+48/happy/S083_003_00000019.png  \n",
            "  inflating: CK+48/happy/S085_002_00000012.png  \n",
            "  inflating: CK+48/happy/S085_002_00000013.png  \n",
            "  inflating: CK+48/happy/S085_002_00000014.png  \n",
            "  inflating: CK+48/happy/S086_002_00000013.png  \n",
            "  inflating: CK+48/happy/S086_002_00000014.png  \n",
            "  inflating: CK+48/happy/S086_002_00000015.png  \n",
            "  inflating: CK+48/happy/S087_005_00000010.png  \n",
            "  inflating: CK+48/happy/S087_005_00000011.png  \n",
            "  inflating: CK+48/happy/S087_005_00000012.png  \n",
            "  inflating: CK+48/happy/S089_002_00000019.png  \n",
            "  inflating: CK+48/happy/S089_002_00000020.png  \n",
            "  inflating: CK+48/happy/S089_002_00000021.png  \n",
            "  inflating: CK+48/happy/S091_003_00000019.png  \n",
            "  inflating: CK+48/happy/S091_003_00000020.png  \n",
            "  inflating: CK+48/happy/S091_003_00000021.png  \n",
            "  inflating: CK+48/happy/S092_004_00000022.png  \n",
            "  inflating: CK+48/happy/S092_004_00000023.png  \n",
            "  inflating: CK+48/happy/S092_004_00000024.png  \n",
            "  inflating: CK+48/happy/S093_004_00000014.png  \n",
            "  inflating: CK+48/happy/S093_004_00000015.png  \n",
            "  inflating: CK+48/happy/S093_004_00000016.png  \n",
            "  inflating: CK+48/happy/S094_004_00000010.png  \n",
            "  inflating: CK+48/happy/S094_004_00000011.png  \n",
            "  inflating: CK+48/happy/S094_004_00000012.png  \n",
            "  inflating: CK+48/happy/S095_007_00000019.png  \n",
            "  inflating: CK+48/happy/S095_007_00000020.png  \n",
            "  inflating: CK+48/happy/S095_007_00000021.png  \n",
            "  inflating: CK+48/happy/S096_004_00000009.png  \n",
            "  inflating: CK+48/happy/S096_004_00000010.png  \n",
            "  inflating: CK+48/happy/S096_004_00000011.png  \n",
            "  inflating: CK+48/happy/S097_006_00000017.png  \n",
            "  inflating: CK+48/happy/S097_006_00000018.png  \n",
            "  inflating: CK+48/happy/S097_006_00000019.png  \n",
            "  inflating: CK+48/happy/S098_004_00000013.png  \n",
            "  inflating: CK+48/happy/S098_004_00000014.png  \n",
            "  inflating: CK+48/happy/S098_004_00000015.png  \n",
            "  inflating: CK+48/happy/S099_004_00000013.png  \n",
            "  inflating: CK+48/happy/S099_004_00000014.png  \n",
            "  inflating: CK+48/happy/S099_004_00000015.png  \n",
            "  inflating: CK+48/happy/S100_006_00000014.png  \n",
            "  inflating: CK+48/happy/S100_006_00000015.png  \n",
            "  inflating: CK+48/happy/S100_006_00000016.png  \n",
            "  inflating: CK+48/happy/S106_006_00000009.png  \n",
            "  inflating: CK+48/happy/S106_006_00000010.png  \n",
            "  inflating: CK+48/happy/S106_006_00000011.png  \n",
            "  inflating: CK+48/happy/S108_008_00000011.png  \n",
            "  inflating: CK+48/happy/S108_008_00000012.png  \n",
            "  inflating: CK+48/happy/S108_008_00000013.png  \n",
            "  inflating: CK+48/happy/S109_006_00000013.png  \n",
            "  inflating: CK+48/happy/S109_006_00000014.png  \n",
            "  inflating: CK+48/happy/S109_006_00000015.png  \n",
            "  inflating: CK+48/happy/S114_006_00000021.png  \n",
            "  inflating: CK+48/happy/S114_006_00000022.png  \n",
            "  inflating: CK+48/happy/S114_006_00000023.png  \n",
            "  inflating: CK+48/happy/S115_008_00000015.png  \n",
            "  inflating: CK+48/happy/S115_008_00000016.png  \n",
            "  inflating: CK+48/happy/S115_008_00000017.png  \n",
            "  inflating: CK+48/happy/S116_007_00000015.png  \n",
            "  inflating: CK+48/happy/S116_007_00000016.png  \n",
            "  inflating: CK+48/happy/S116_007_00000017.png  \n",
            "  inflating: CK+48/happy/S124_007_00000022.png  \n",
            "  inflating: CK+48/happy/S124_007_00000023.png  \n",
            "  inflating: CK+48/happy/S124_007_00000024.png  \n",
            "  inflating: CK+48/happy/S125_005_00000011.png  \n",
            "  inflating: CK+48/happy/S125_005_00000012.png  \n",
            "  inflating: CK+48/happy/S125_005_00000013.png  \n",
            "  inflating: CK+48/happy/S127_004_00000014.png  \n",
            "  inflating: CK+48/happy/S127_004_00000015.png  \n",
            "  inflating: CK+48/happy/S127_004_00000016.png  \n",
            "  inflating: CK+48/happy/S128_011_00000014.png  \n",
            "  inflating: CK+48/happy/S128_011_00000015.png  \n",
            "  inflating: CK+48/happy/S128_011_00000016.png  \n",
            "  inflating: CK+48/happy/S129_012_00000009.png  \n",
            "  inflating: CK+48/happy/S129_012_00000010.png  \n",
            "  inflating: CK+48/happy/S129_012_00000011.png  \n",
            "  inflating: CK+48/happy/S130_013_00000013.png  \n",
            "  inflating: CK+48/happy/S130_013_00000014.png  \n",
            "  inflating: CK+48/happy/S130_013_00000015.png  \n",
            "  inflating: CK+48/happy/S131_006_00000020.png  \n",
            "  inflating: CK+48/happy/S131_006_00000021.png  \n",
            "  inflating: CK+48/happy/S131_006_00000022.png  \n",
            "  inflating: CK+48/happy/S132_006_00000021.png  \n",
            "  inflating: CK+48/happy/S132_006_00000022.png  \n",
            "  inflating: CK+48/happy/S132_006_00000023.png  \n",
            "  inflating: CK+48/happy/S133_010_00000012.png  \n",
            "  inflating: CK+48/happy/S133_010_00000013.png  \n",
            "  inflating: CK+48/happy/S133_010_00000014.png  \n",
            "  inflating: CK+48/happy/S134_004_00000013.png  \n",
            "  inflating: CK+48/happy/S134_004_00000014.png  \n",
            "  inflating: CK+48/happy/S134_004_00000015.png  \n",
            "  inflating: CK+48/happy/S135_012_00000018.png  \n",
            "  inflating: CK+48/happy/S135_012_00000019.png  \n",
            "  inflating: CK+48/happy/S135_012_00000020.png  \n",
            "  inflating: CK+48/happy/S136_006_00000018.png  \n",
            "  inflating: CK+48/happy/S136_006_00000019.png  \n",
            "  inflating: CK+48/happy/S136_006_00000020.png  \n",
            "  inflating: CK+48/happy/S137_011_00000018.png  \n",
            "  inflating: CK+48/happy/S137_011_00000019.png  \n",
            "  inflating: CK+48/happy/S137_011_00000020.png  \n",
            "  inflating: CK+48/happy/S138_005_00000014.png  \n",
            "  inflating: CK+48/happy/S138_005_00000015.png  \n",
            "  inflating: CK+48/happy/S138_005_00000016.png  \n",
            "  inflating: CK+48/sadness/S011_002_00000020.png  \n",
            "  inflating: CK+48/sadness/S011_002_00000021.png  \n",
            "  inflating: CK+48/sadness/S011_002_00000022.png  \n",
            "  inflating: CK+48/sadness/S014_002_00000014.png  \n",
            "  inflating: CK+48/sadness/S014_002_00000015.png  \n",
            "  inflating: CK+48/sadness/S014_002_00000016.png  \n",
            "  inflating: CK+48/sadness/S026_002_00000014.png  \n",
            "  inflating: CK+48/sadness/S026_002_00000015.png  \n",
            "  inflating: CK+48/sadness/S026_002_00000016.png  \n",
            "  inflating: CK+48/sadness/S042_002_00000014.png  \n",
            "  inflating: CK+48/sadness/S042_002_00000015.png  \n",
            "  inflating: CK+48/sadness/S042_002_00000016.png  \n",
            "  inflating: CK+48/sadness/S046_001_00000023.png  \n",
            "  inflating: CK+48/sadness/S046_001_00000024.png  \n",
            "  inflating: CK+48/sadness/S046_001_00000025.png  \n",
            "  inflating: CK+48/sadness/S064_004_00000012.png  \n",
            "  inflating: CK+48/sadness/S064_004_00000013.png  \n",
            "  inflating: CK+48/sadness/S064_004_00000014.png  \n",
            "  inflating: CK+48/sadness/S066_004_00000008.png  \n",
            "  inflating: CK+48/sadness/S066_004_00000009.png  \n",
            "  inflating: CK+48/sadness/S066_004_00000010.png  \n",
            "  inflating: CK+48/sadness/S071_002_00000018.png  \n",
            "  inflating: CK+48/sadness/S071_002_00000019.png  \n",
            "  inflating: CK+48/sadness/S071_002_00000020.png  \n",
            "  inflating: CK+48/sadness/S080_005_00000011.png  \n",
            "  inflating: CK+48/sadness/S080_005_00000012.png  \n",
            "  inflating: CK+48/sadness/S080_005_00000013.png  \n",
            "  inflating: CK+48/sadness/S081_002_00000022.png  \n",
            "  inflating: CK+48/sadness/S081_002_00000023.png  \n",
            "  inflating: CK+48/sadness/S081_002_00000024.png  \n",
            "  inflating: CK+48/sadness/S093_001_00000018.png  \n",
            "  inflating: CK+48/sadness/S093_001_00000019.png  \n",
            "  inflating: CK+48/sadness/S093_001_00000020.png  \n",
            "  inflating: CK+48/sadness/S095_010_00000012.png  \n",
            "  inflating: CK+48/sadness/S095_010_00000013.png  \n",
            "  inflating: CK+48/sadness/S095_010_00000014.png  \n",
            "  inflating: CK+48/sadness/S106_002_00000014.png  \n",
            "  inflating: CK+48/sadness/S106_002_00000015.png  \n",
            "  inflating: CK+48/sadness/S106_002_00000016.png  \n",
            "  inflating: CK+48/sadness/S108_005_00000020.png  \n",
            "  inflating: CK+48/sadness/S108_005_00000021.png  \n",
            "  inflating: CK+48/sadness/S108_005_00000022.png  \n",
            "  inflating: CK+48/sadness/S113_003_00000013.png  \n",
            "  inflating: CK+48/sadness/S113_003_00000014.png  \n",
            "  inflating: CK+48/sadness/S113_003_00000015.png  \n",
            "  inflating: CK+48/sadness/S115_004_00000015.png  \n",
            "  inflating: CK+48/sadness/S115_004_00000016.png  \n",
            "  inflating: CK+48/sadness/S115_004_00000017.png  \n",
            "  inflating: CK+48/sadness/S125_001_00000012.png  \n",
            "  inflating: CK+48/sadness/S125_001_00000013.png  \n",
            "  inflating: CK+48/sadness/S125_001_00000014.png  \n",
            "  inflating: CK+48/sadness/S130_009_00000017.png  \n",
            "  inflating: CK+48/sadness/S130_009_00000018.png  \n",
            "  inflating: CK+48/sadness/S130_009_00000019.png  \n",
            "  inflating: CK+48/sadness/S131_003_00000022.png  \n",
            "  inflating: CK+48/sadness/S131_003_00000023.png  \n",
            "  inflating: CK+48/sadness/S131_003_00000024.png  \n",
            "  inflating: CK+48/sadness/S132_002_00000016.png  \n",
            "  inflating: CK+48/sadness/S132_002_00000017.png  \n",
            "  inflating: CK+48/sadness/S132_002_00000018.png  \n",
            "  inflating: CK+48/sadness/S136_003_00000012.png  \n",
            "  inflating: CK+48/sadness/S136_003_00000013.png  \n",
            "  inflating: CK+48/sadness/S136_003_00000014.png  \n",
            "  inflating: CK+48/sadness/S137_005_00000025.png  \n",
            "  inflating: CK+48/sadness/S137_005_00000026.png  \n",
            "  inflating: CK+48/sadness/S137_005_00000027.png  \n",
            "  inflating: CK+48/sadness/S138_007_00000009.png  \n",
            "  inflating: CK+48/sadness/S138_007_00000010.png  \n",
            "  inflating: CK+48/sadness/S138_007_00000011.png  \n",
            "  inflating: CK+48/sadness/S501_006_00000039.png  \n",
            "  inflating: CK+48/sadness/S501_006_00000040.png  \n",
            "  inflating: CK+48/sadness/S501_006_00000041.png  \n",
            "  inflating: CK+48/sadness/S503_006_00000018.png  \n",
            "  inflating: CK+48/sadness/S503_006_00000019.png  \n",
            "  inflating: CK+48/sadness/S503_006_00000020.png  \n",
            "  inflating: CK+48/sadness/S504_006_00000016.png  \n",
            "  inflating: CK+48/sadness/S504_006_00000017.png  \n",
            "  inflating: CK+48/sadness/S504_006_00000018.png  \n",
            "  inflating: CK+48/sadness/S505_006_00000017.png  \n",
            "  inflating: CK+48/sadness/S505_006_00000018.png  \n",
            "  inflating: CK+48/sadness/S505_006_00000019.png  \n",
            "  inflating: CK+48/sadness/S506_006_00000040.png  \n",
            "  inflating: CK+48/sadness/S506_006_00000041.png  \n",
            "  inflating: CK+48/sadness/S506_006_00000042.png  \n",
            "  inflating: CK+48/surprise/S010_002_00000012.png  \n",
            "  inflating: CK+48/surprise/S010_002_00000013.png  \n",
            "  inflating: CK+48/surprise/S010_002_00000014.png  \n",
            "  inflating: CK+48/surprise/S011_001_00000014.png  \n",
            "  inflating: CK+48/surprise/S011_001_00000015.png  \n",
            "  inflating: CK+48/surprise/S011_001_00000016.png  \n",
            "  inflating: CK+48/surprise/S014_001_00000027.png  \n",
            "  inflating: CK+48/surprise/S014_001_00000028.png  \n",
            "  inflating: CK+48/surprise/S014_001_00000029.png  \n",
            "  inflating: CK+48/surprise/S022_001_00000028.png  \n",
            "  inflating: CK+48/surprise/S022_001_00000029.png  \n",
            "  inflating: CK+48/surprise/S022_001_00000030.png  \n",
            "  inflating: CK+48/surprise/S026_001_00000013.png  \n",
            "  inflating: CK+48/surprise/S026_001_00000014.png  \n",
            "  inflating: CK+48/surprise/S026_001_00000015.png  \n",
            "  inflating: CK+48/surprise/S032_001_00000020.png  \n",
            "  inflating: CK+48/surprise/S032_001_00000021.png  \n",
            "  inflating: CK+48/surprise/S032_001_00000022.png  \n",
            "  inflating: CK+48/surprise/S034_001_00000027.png  \n",
            "  inflating: CK+48/surprise/S034_001_00000028.png  \n",
            "  inflating: CK+48/surprise/S034_001_00000029.png  \n",
            "  inflating: CK+48/surprise/S035_001_00000013.png  \n",
            "  inflating: CK+48/surprise/S035_001_00000014.png  \n",
            "  inflating: CK+48/surprise/S035_001_00000015.png  \n",
            "  inflating: CK+48/surprise/S037_001_00000018.png  \n",
            "  inflating: CK+48/surprise/S037_001_00000019.png  \n",
            "  inflating: CK+48/surprise/S037_001_00000020.png  \n",
            "  inflating: CK+48/surprise/S042_001_00000017.png  \n",
            "  inflating: CK+48/surprise/S042_001_00000018.png  \n",
            "  inflating: CK+48/surprise/S042_001_00000019.png  \n",
            "  inflating: CK+48/surprise/S044_001_00000022.png  \n",
            "  inflating: CK+48/surprise/S044_001_00000023.png  \n",
            "  inflating: CK+48/surprise/S044_001_00000024.png  \n",
            "  inflating: CK+48/surprise/S046_002_00000004.png  \n",
            "  inflating: CK+48/surprise/S046_002_00000005.png  \n",
            "  inflating: CK+48/surprise/S046_002_00000006.png  \n",
            "  inflating: CK+48/surprise/S050_002_00000016.png  \n",
            "  inflating: CK+48/surprise/S050_002_00000017.png  \n",
            "  inflating: CK+48/surprise/S050_002_00000018.png  \n",
            "  inflating: CK+48/surprise/S051_002_00000017.png  \n",
            "  inflating: CK+48/surprise/S051_002_00000018.png  \n",
            "  inflating: CK+48/surprise/S051_002_00000019.png  \n",
            "  inflating: CK+48/surprise/S052_001_00000013.png  \n",
            "  inflating: CK+48/surprise/S052_001_00000014.png  \n",
            "  inflating: CK+48/surprise/S052_001_00000015.png  \n",
            "  inflating: CK+48/surprise/S053_001_00000021.png  \n",
            "  inflating: CK+48/surprise/S053_001_00000022.png  \n",
            "  inflating: CK+48/surprise/S053_001_00000023.png  \n",
            "  inflating: CK+48/surprise/S054_003_00000005.png  \n",
            "  inflating: CK+48/surprise/S054_003_00000006.png  \n",
            "  inflating: CK+48/surprise/S054_003_00000007.png  \n",
            "  inflating: CK+48/surprise/S055_001_00000010.png  \n",
            "  inflating: CK+48/surprise/S055_001_00000011.png  \n",
            "  inflating: CK+48/surprise/S055_001_00000012.png  \n",
            "  inflating: CK+48/surprise/S056_003_00000008.png  \n",
            "  inflating: CK+48/surprise/S056_003_00000009.png  \n",
            "  inflating: CK+48/surprise/S056_003_00000010.png  \n",
            "  inflating: CK+48/surprise/S057_001_00000017.png  \n",
            "  inflating: CK+48/surprise/S057_001_00000018.png  \n",
            "  inflating: CK+48/surprise/S057_001_00000019.png  \n",
            "  inflating: CK+48/surprise/S058_001_00000018.png  \n",
            "  inflating: CK+48/surprise/S058_001_00000019.png  \n",
            "  inflating: CK+48/surprise/S058_001_00000020.png  \n",
            "  inflating: CK+48/surprise/S059_001_00000016.png  \n",
            "  inflating: CK+48/surprise/S059_001_00000017.png  \n",
            "  inflating: CK+48/surprise/S059_001_00000018.png  \n",
            "  inflating: CK+48/surprise/S060_003_00000016.png  \n",
            "  inflating: CK+48/surprise/S060_003_00000017.png  \n",
            "  inflating: CK+48/surprise/S060_003_00000018.png  \n",
            "  inflating: CK+48/surprise/S061_001_00000010.png  \n",
            "  inflating: CK+48/surprise/S061_001_00000011.png  \n",
            "  inflating: CK+48/surprise/S061_001_00000012.png  \n",
            "  inflating: CK+48/surprise/S062_002_00000014.png  \n",
            "  inflating: CK+48/surprise/S062_002_00000015.png  \n",
            "  inflating: CK+48/surprise/S062_002_00000016.png  \n",
            "  inflating: CK+48/surprise/S063_001_00000011.png  \n",
            "  inflating: CK+48/surprise/S063_001_00000012.png  \n",
            "  inflating: CK+48/surprise/S063_001_00000013.png  \n",
            "  inflating: CK+48/surprise/S064_001_00000010.png  \n",
            "  inflating: CK+48/surprise/S064_001_00000011.png  \n",
            "  inflating: CK+48/surprise/S064_001_00000012.png  \n",
            "  inflating: CK+48/surprise/S065_003_00000020.png  \n",
            "  inflating: CK+48/surprise/S065_003_00000021.png  \n",
            "  inflating: CK+48/surprise/S065_003_00000022.png  \n",
            "  inflating: CK+48/surprise/S066_002_00000020.png  \n",
            "  inflating: CK+48/surprise/S066_002_00000021.png  \n",
            "  inflating: CK+48/surprise/S066_002_00000022.png  \n",
            "  inflating: CK+48/surprise/S067_002_00000012.png  \n",
            "  inflating: CK+48/surprise/S067_002_00000013.png  \n",
            "  inflating: CK+48/surprise/S067_002_00000014.png  \n",
            "  inflating: CK+48/surprise/S068_003_00000012.png  \n",
            "  inflating: CK+48/surprise/S068_003_00000013.png  \n",
            "  inflating: CK+48/surprise/S068_003_00000014.png  \n",
            "  inflating: CK+48/surprise/S069_002_00000012.png  \n",
            "  inflating: CK+48/surprise/S069_002_00000013.png  \n",
            "  inflating: CK+48/surprise/S069_002_00000014.png  \n",
            "  inflating: CK+48/surprise/S070_002_00000014.png  \n",
            "  inflating: CK+48/surprise/S070_002_00000015.png  \n",
            "  inflating: CK+48/surprise/S070_002_00000016.png  \n",
            "  inflating: CK+48/surprise/S071_001_00000011.png  \n",
            "  inflating: CK+48/surprise/S071_001_00000012.png  \n",
            "  inflating: CK+48/surprise/S071_001_00000013.png  \n",
            "  inflating: CK+48/surprise/S073_001_00000011.png  \n",
            "  inflating: CK+48/surprise/S073_001_00000012.png  \n",
            "  inflating: CK+48/surprise/S073_001_00000013.png  \n",
            "  inflating: CK+48/surprise/S074_002_00000014.png  \n",
            "  inflating: CK+48/surprise/S074_002_00000015.png  \n",
            "  inflating: CK+48/surprise/S074_002_00000016.png  \n",
            "  inflating: CK+48/surprise/S075_002_00000012.png  \n",
            "  inflating: CK+48/surprise/S075_002_00000013.png  \n",
            "  inflating: CK+48/surprise/S075_002_00000014.png  \n",
            "  inflating: CK+48/surprise/S076_001_00000015.png  \n",
            "  inflating: CK+48/surprise/S076_001_00000016.png  \n",
            "  inflating: CK+48/surprise/S076_001_00000017.png  \n",
            "  inflating: CK+48/surprise/S077_001_00000026.png  \n",
            "  inflating: CK+48/surprise/S077_001_00000027.png  \n",
            "  inflating: CK+48/surprise/S077_001_00000028.png  \n",
            "  inflating: CK+48/surprise/S078_001_00000031.png  \n",
            "  inflating: CK+48/surprise/S078_001_00000032.png  \n",
            "  inflating: CK+48/surprise/S078_001_00000033.png  \n",
            "  inflating: CK+48/surprise/S079_001_00000010.png  \n",
            "  inflating: CK+48/surprise/S079_001_00000011.png  \n",
            "  inflating: CK+48/surprise/S079_001_00000012.png  \n",
            "  inflating: CK+48/surprise/S080_001_00000016.png  \n",
            "  inflating: CK+48/surprise/S080_001_00000017.png  \n",
            "  inflating: CK+48/surprise/S080_001_00000018.png  \n",
            "  inflating: CK+48/surprise/S081_001_00000017.png  \n",
            "  inflating: CK+48/surprise/S081_001_00000018.png  \n",
            "  inflating: CK+48/surprise/S081_001_00000019.png  \n",
            "  inflating: CK+48/surprise/S082_001_00000013.png  \n",
            "  inflating: CK+48/surprise/S082_001_00000014.png  \n",
            "  inflating: CK+48/surprise/S082_001_00000015.png  \n",
            "  inflating: CK+48/surprise/S084_001_00000008.png  \n",
            "  inflating: CK+48/surprise/S084_001_00000009.png  \n",
            "  inflating: CK+48/surprise/S084_001_00000010.png  \n",
            "  inflating: CK+48/surprise/S085_003_00000011.png  \n",
            "  inflating: CK+48/surprise/S085_003_00000012.png  \n",
            "  inflating: CK+48/surprise/S085_003_00000013.png  \n",
            "  inflating: CK+48/surprise/S086_001_00000017.png  \n",
            "  inflating: CK+48/surprise/S086_001_00000018.png  \n",
            "  inflating: CK+48/surprise/S086_001_00000019.png  \n",
            "  inflating: CK+48/surprise/S087_001_00000009.png  \n",
            "  inflating: CK+48/surprise/S087_001_00000010.png  \n",
            "  inflating: CK+48/surprise/S087_001_00000011.png  \n",
            "  inflating: CK+48/surprise/S088_001_00000015.png  \n",
            "  inflating: CK+48/surprise/S088_001_00000016.png  \n",
            "  inflating: CK+48/surprise/S088_001_00000017.png  \n",
            "  inflating: CK+48/surprise/S089_001_00000014.png  \n",
            "  inflating: CK+48/surprise/S089_001_00000015.png  \n",
            "  inflating: CK+48/surprise/S089_001_00000016.png  \n",
            "  inflating: CK+48/surprise/S090_002_00000009.png  \n",
            "  inflating: CK+48/surprise/S090_002_00000010.png  \n",
            "  inflating: CK+48/surprise/S090_002_00000011.png  \n",
            "  inflating: CK+48/surprise/S092_001_00000015.png  \n",
            "  inflating: CK+48/surprise/S092_001_00000016.png  \n",
            "  inflating: CK+48/surprise/S092_001_00000017.png  \n",
            "  inflating: CK+48/surprise/S094_001_00000008.png  \n",
            "  inflating: CK+48/surprise/S094_001_00000009.png  \n",
            "  inflating: CK+48/surprise/S094_001_00000010.png  \n",
            "  inflating: CK+48/surprise/S095_001_00000014.png  \n",
            "  inflating: CK+48/surprise/S095_001_00000015.png  \n",
            "  inflating: CK+48/surprise/S095_001_00000016.png  \n",
            "  inflating: CK+48/surprise/S096_001_00000005.png  \n",
            "  inflating: CK+48/surprise/S096_001_00000006.png  \n",
            "  inflating: CK+48/surprise/S096_001_00000007.png  \n",
            "  inflating: CK+48/surprise/S097_001_00000019.png  \n",
            "  inflating: CK+48/surprise/S097_001_00000020.png  \n",
            "  inflating: CK+48/surprise/S097_001_00000021.png  \n",
            "  inflating: CK+48/surprise/S099_001_00000012.png  \n",
            "  inflating: CK+48/surprise/S099_001_00000013.png  \n",
            "  inflating: CK+48/surprise/S099_001_00000014.png  \n",
            "  inflating: CK+48/surprise/S100_002_00000013.png  \n",
            "  inflating: CK+48/surprise/S100_002_00000014.png  \n",
            "  inflating: CK+48/surprise/S100_002_00000015.png  \n",
            "  inflating: CK+48/surprise/S101_002_00000017.png  \n",
            "  inflating: CK+48/surprise/S101_002_00000018.png  \n",
            "  inflating: CK+48/surprise/S101_002_00000019.png  \n",
            "  inflating: CK+48/surprise/S102_002_00000016.png  \n",
            "  inflating: CK+48/surprise/S102_002_00000017.png  \n",
            "  inflating: CK+48/surprise/S102_002_00000018.png  \n",
            "  inflating: CK+48/surprise/S107_001_00000008.png  \n",
            "  inflating: CK+48/surprise/S107_001_00000009.png  \n",
            "  inflating: CK+48/surprise/S107_001_00000010.png  \n",
            "  inflating: CK+48/surprise/S110_001_00000011.png  \n",
            "  inflating: CK+48/surprise/S110_001_00000012.png  \n",
            "  inflating: CK+48/surprise/S110_001_00000013.png  \n",
            "  inflating: CK+48/surprise/S111_001_00000012.png  \n",
            "  inflating: CK+48/surprise/S111_001_00000013.png  \n",
            "  inflating: CK+48/surprise/S111_001_00000014.png  \n",
            "  inflating: CK+48/surprise/S113_001_00000010.png  \n",
            "  inflating: CK+48/surprise/S113_001_00000011.png  \n",
            "  inflating: CK+48/surprise/S113_001_00000012.png  \n",
            "  inflating: CK+48/surprise/S114_001_00000016.png  \n",
            "  inflating: CK+48/surprise/S114_001_00000017.png  \n",
            "  inflating: CK+48/surprise/S114_001_00000018.png  \n",
            "  inflating: CK+48/surprise/S115_001_00000006.png  \n",
            "  inflating: CK+48/surprise/S115_001_00000007.png  \n",
            "  inflating: CK+48/surprise/S115_001_00000008.png  \n",
            "  inflating: CK+48/surprise/S116_001_00000012.png  \n",
            "  inflating: CK+48/surprise/S116_001_00000013.png  \n",
            "  inflating: CK+48/surprise/S116_001_00000014.png  \n",
            "  inflating: CK+48/surprise/S117_001_00000012.png  \n",
            "  inflating: CK+48/surprise/S117_001_00000013.png  \n",
            "  inflating: CK+48/surprise/S117_001_00000014.png  \n",
            "  inflating: CK+48/surprise/S119_001_00000009.png  \n",
            "  inflating: CK+48/surprise/S119_001_00000010.png  \n",
            "  inflating: CK+48/surprise/S119_001_00000011.png  \n",
            "  inflating: CK+48/surprise/S122_001_00000010.png  \n",
            "  inflating: CK+48/surprise/S122_001_00000011.png  \n",
            "  inflating: CK+48/surprise/S122_001_00000012.png  \n",
            "  inflating: CK+48/surprise/S124_001_00000012.png  \n",
            "  inflating: CK+48/surprise/S124_001_00000013.png  \n",
            "  inflating: CK+48/surprise/S124_001_00000014.png  \n",
            "  inflating: CK+48/surprise/S125_007_00000007.png  \n",
            "  inflating: CK+48/surprise/S125_007_00000008.png  \n",
            "  inflating: CK+48/surprise/S125_007_00000009.png  \n",
            "  inflating: CK+48/surprise/S126_004_00000010.png  \n",
            "  inflating: CK+48/surprise/S126_004_00000011.png  \n",
            "  inflating: CK+48/surprise/S126_004_00000012.png  \n",
            "  inflating: CK+48/surprise/S127_001_00000015.png  \n",
            "  inflating: CK+48/surprise/S127_001_00000016.png  \n",
            "  inflating: CK+48/surprise/S127_001_00000017.png  \n",
            "  inflating: CK+48/surprise/S129_002_00000009.png  \n",
            "  inflating: CK+48/surprise/S129_002_00000010.png  \n",
            "  inflating: CK+48/surprise/S129_002_00000011.png  \n",
            "  inflating: CK+48/surprise/S130_001_00000016.png  \n",
            "  inflating: CK+48/surprise/S130_001_00000017.png  \n",
            "  inflating: CK+48/surprise/S130_001_00000018.png  \n",
            "  inflating: CK+48/surprise/S131_001_00000014.png  \n",
            "  inflating: CK+48/surprise/S131_001_00000015.png  \n",
            "  inflating: CK+48/surprise/S131_001_00000016.png  \n",
            "  inflating: CK+48/surprise/S132_008_00000008.png  \n",
            "  inflating: CK+48/surprise/S132_008_00000009.png  \n",
            "  inflating: CK+48/surprise/S132_008_00000010.png  \n",
            "  inflating: CK+48/surprise/S133_009_00000004.png  \n",
            "  inflating: CK+48/surprise/S133_009_00000005.png  \n",
            "  inflating: CK+48/surprise/S133_009_00000006.png  \n",
            "  inflating: CK+48/surprise/S135_001_00000037.png  \n",
            "  inflating: CK+48/surprise/S135_001_00000038.png  \n",
            "  inflating: CK+48/surprise/S135_001_00000039.png  \n",
            "  inflating: CK+48/surprise/S136_001_00000017.png  \n",
            "  inflating: CK+48/surprise/S136_001_00000018.png  \n",
            "  inflating: CK+48/surprise/S136_001_00000019.png  \n",
            "  inflating: CK+48/surprise/S137_001_00000012.png  \n",
            "  inflating: CK+48/surprise/S137_001_00000013.png  \n",
            "  inflating: CK+48/surprise/S137_001_00000014.png  \n",
            "  inflating: CK+48/surprise/S138_004_00000011.png  \n",
            "  inflating: CK+48/surprise/S138_004_00000012.png  \n",
            "  inflating: CK+48/surprise/S138_004_00000013.png  \n",
            "  inflating: ck/CK+48/anger/S010_004_00000017.png  \n",
            "  inflating: ck/CK+48/anger/S010_004_00000018.png  \n",
            "  inflating: ck/CK+48/anger/S010_004_00000019.png  \n",
            "  inflating: ck/CK+48/anger/S011_004_00000019.png  \n",
            "  inflating: ck/CK+48/anger/S011_004_00000020.png  \n",
            "  inflating: ck/CK+48/anger/S011_004_00000021.png  \n",
            "  inflating: ck/CK+48/anger/S014_003_00000028.png  \n",
            "  inflating: ck/CK+48/anger/S014_003_00000029.png  \n",
            "  inflating: ck/CK+48/anger/S014_003_00000030.png  \n",
            "  inflating: ck/CK+48/anger/S022_005_00000030.png  \n",
            "  inflating: ck/CK+48/anger/S022_005_00000031.png  \n",
            "  inflating: ck/CK+48/anger/S022_005_00000032.png  \n",
            "  inflating: ck/CK+48/anger/S026_003_00000013.png  \n",
            "  inflating: ck/CK+48/anger/S026_003_00000014.png  \n",
            "  inflating: ck/CK+48/anger/S026_003_00000015.png  \n",
            "  inflating: ck/CK+48/anger/S028_001_00000022.png  \n",
            "  inflating: ck/CK+48/anger/S028_001_00000023.png  \n",
            "  inflating: ck/CK+48/anger/S028_001_00000024.png  \n",
            "  inflating: ck/CK+48/anger/S029_001_00000017.png  \n",
            "  inflating: ck/CK+48/anger/S029_001_00000018.png  \n",
            "  inflating: ck/CK+48/anger/S029_001_00000019.png  \n",
            "  inflating: ck/CK+48/anger/S032_003_00000015.png  \n",
            "  inflating: ck/CK+48/anger/S032_003_00000016.png  \n",
            "  inflating: ck/CK+48/anger/S032_003_00000017.png  \n",
            "  inflating: ck/CK+48/anger/S034_003_00000025.png  \n",
            "  inflating: ck/CK+48/anger/S034_003_00000026.png  \n",
            "  inflating: ck/CK+48/anger/S034_003_00000027.png  \n",
            "  inflating: ck/CK+48/anger/S037_003_00000020.png  \n",
            "  inflating: ck/CK+48/anger/S037_003_00000021.png  \n",
            "  inflating: ck/CK+48/anger/S037_003_00000022.png  \n",
            "  inflating: ck/CK+48/anger/S042_004_00000018.png  \n",
            "  inflating: ck/CK+48/anger/S042_004_00000019.png  \n",
            "  inflating: ck/CK+48/anger/S042_004_00000020.png  \n",
            "  inflating: ck/CK+48/anger/S045_005_00000028.png  \n",
            "  inflating: ck/CK+48/anger/S045_005_00000029.png  \n",
            "  inflating: ck/CK+48/anger/S045_005_00000030.png  \n",
            "  inflating: ck/CK+48/anger/S050_004_00000019.png  \n",
            "  inflating: ck/CK+48/anger/S050_004_00000020.png  \n",
            "  inflating: ck/CK+48/anger/S050_004_00000021.png  \n",
            "  inflating: ck/CK+48/anger/S055_004_00000026.png  \n",
            "  inflating: ck/CK+48/anger/S055_004_00000027.png  \n",
            "  inflating: ck/CK+48/anger/S055_004_00000028.png  \n",
            "  inflating: ck/CK+48/anger/S058_005_00000008.png  \n",
            "  inflating: ck/CK+48/anger/S058_005_00000009.png  \n",
            "  inflating: ck/CK+48/anger/S058_005_00000010.png  \n",
            "  inflating: ck/CK+48/anger/S066_005_00000009.png  \n",
            "  inflating: ck/CK+48/anger/S066_005_00000010.png  \n",
            "  inflating: ck/CK+48/anger/S066_005_00000011.png  \n",
            "  inflating: ck/CK+48/anger/S067_004_00000021.png  \n",
            "  inflating: ck/CK+48/anger/S067_004_00000022.png  \n",
            "  inflating: ck/CK+48/anger/S067_004_00000023.png  \n",
            "  inflating: ck/CK+48/anger/S071_004_00000026.png  \n",
            "  inflating: ck/CK+48/anger/S071_004_00000027.png  \n",
            "  inflating: ck/CK+48/anger/S071_004_00000028.png  \n",
            "  inflating: ck/CK+48/anger/S072_005_00000017.png  \n",
            "  inflating: ck/CK+48/anger/S072_005_00000018.png  \n",
            "  inflating: ck/CK+48/anger/S072_005_00000019.png  \n",
            "  inflating: ck/CK+48/anger/S075_008_00000010.png  \n",
            "  inflating: ck/CK+48/anger/S075_008_00000011.png  \n",
            "  inflating: ck/CK+48/anger/S075_008_00000012.png  \n",
            "  inflating: ck/CK+48/anger/S082_005_00000015.png  \n",
            "  inflating: ck/CK+48/anger/S082_005_00000016.png  \n",
            "  inflating: ck/CK+48/anger/S082_005_00000017.png  \n",
            "  inflating: ck/CK+48/anger/S087_007_00000014.png  \n",
            "  inflating: ck/CK+48/anger/S087_007_00000015.png  \n",
            "  inflating: ck/CK+48/anger/S087_007_00000016.png  \n",
            "  inflating: ck/CK+48/anger/S089_003_00000034.png  \n",
            "  inflating: ck/CK+48/anger/S089_003_00000035.png  \n",
            "  inflating: ck/CK+48/anger/S089_003_00000036.png  \n",
            "  inflating: ck/CK+48/anger/S090_007_00000012.png  \n",
            "  inflating: ck/CK+48/anger/S090_007_00000013.png  \n",
            "  inflating: ck/CK+48/anger/S090_007_00000014.png  \n",
            "  inflating: ck/CK+48/anger/S092_003_00000012.png  \n",
            "  inflating: ck/CK+48/anger/S092_003_00000013.png  \n",
            "  inflating: ck/CK+48/anger/S092_003_00000014.png  \n",
            "  inflating: ck/CK+48/anger/S100_005_00000021.png  \n",
            "  inflating: ck/CK+48/anger/S100_005_00000022.png  \n",
            "  inflating: ck/CK+48/anger/S100_005_00000023.png  \n",
            "  inflating: ck/CK+48/anger/S109_003_00000015.png  \n",
            "  inflating: ck/CK+48/anger/S109_003_00000016.png  \n",
            "  inflating: ck/CK+48/anger/S109_003_00000017.png  \n",
            "  inflating: ck/CK+48/anger/S111_006_00000008.png  \n",
            "  inflating: ck/CK+48/anger/S111_006_00000009.png  \n",
            "  inflating: ck/CK+48/anger/S111_006_00000010.png  \n",
            "  inflating: ck/CK+48/anger/S112_005_00000015.png  \n",
            "  inflating: ck/CK+48/anger/S112_005_00000016.png  \n",
            "  inflating: ck/CK+48/anger/S112_005_00000017.png  \n",
            "  inflating: ck/CK+48/anger/S113_008_00000021.png  \n",
            "  inflating: ck/CK+48/anger/S113_008_00000022.png  \n",
            "  inflating: ck/CK+48/anger/S113_008_00000023.png  \n",
            "  inflating: ck/CK+48/anger/S117_006_00000008.png  \n",
            "  inflating: ck/CK+48/anger/S117_006_00000009.png  \n",
            "  inflating: ck/CK+48/anger/S117_006_00000010.png  \n",
            "  inflating: ck/CK+48/anger/S119_008_00000016.png  \n",
            "  inflating: ck/CK+48/anger/S119_008_00000017.png  \n",
            "  inflating: ck/CK+48/anger/S119_008_00000018.png  \n",
            "  inflating: ck/CK+48/anger/S126_008_00000027.png  \n",
            "  inflating: ck/CK+48/anger/S126_008_00000028.png  \n",
            "  inflating: ck/CK+48/anger/S126_008_00000029.png  \n",
            "  inflating: ck/CK+48/anger/S127_010_00000016.png  \n",
            "  inflating: ck/CK+48/anger/S127_010_00000017.png  \n",
            "  inflating: ck/CK+48/anger/S127_010_00000018.png  \n",
            "  inflating: ck/CK+48/anger/S129_006_00000008.png  \n",
            "  inflating: ck/CK+48/anger/S129_006_00000009.png  \n",
            "  inflating: ck/CK+48/anger/S129_006_00000010.png  \n",
            "  inflating: ck/CK+48/anger/S130_007_00000018.png  \n",
            "  inflating: ck/CK+48/anger/S130_007_00000019.png  \n",
            "  inflating: ck/CK+48/anger/S130_007_00000020.png  \n",
            "  inflating: ck/CK+48/anger/S133_003_00000045.png  \n",
            "  inflating: ck/CK+48/anger/S133_003_00000046.png  \n",
            "  inflating: ck/CK+48/anger/S133_003_00000047.png  \n",
            "  inflating: ck/CK+48/anger/S134_003_00000009.png  \n",
            "  inflating: ck/CK+48/anger/S134_003_00000010.png  \n",
            "  inflating: ck/CK+48/anger/S134_003_00000011.png  \n",
            "  inflating: ck/CK+48/anger/S136_005_00000008.png  \n",
            "  inflating: ck/CK+48/anger/S136_005_00000009.png  \n",
            "  inflating: ck/CK+48/anger/S136_005_00000010.png  \n",
            "  inflating: ck/CK+48/anger/S501_001_00000065.png  \n",
            "  inflating: ck/CK+48/anger/S501_001_00000066.png  \n",
            "  inflating: ck/CK+48/anger/S501_001_00000067.png  \n",
            "  inflating: ck/CK+48/anger/S502_001_00000014.png  \n",
            "  inflating: ck/CK+48/anger/S502_001_00000015.png  \n",
            "  inflating: ck/CK+48/anger/S502_001_00000016.png  \n",
            "  inflating: ck/CK+48/anger/S503_001_00000069.png  \n",
            "  inflating: ck/CK+48/anger/S503_001_00000070.png  \n",
            "  inflating: ck/CK+48/anger/S503_001_00000071.png  \n",
            "  inflating: ck/CK+48/anger/S504_001_00000020.png  \n",
            "  inflating: ck/CK+48/anger/S504_001_00000021.png  \n",
            "  inflating: ck/CK+48/anger/S504_001_00000022.png  \n",
            "  inflating: ck/CK+48/anger/S506_001_00000038.png  \n",
            "  inflating: ck/CK+48/anger/S506_001_00000039.png  \n",
            "  inflating: ck/CK+48/anger/S506_001_00000040.png  \n",
            "  inflating: ck/CK+48/anger/S999_001_00000016.png  \n",
            "  inflating: ck/CK+48/anger/S999_001_00000017.png  \n",
            "  inflating: ck/CK+48/anger/S999_001_00000018.png  \n",
            "  inflating: ck/CK+48/contempt/S138_008_00000007.png  \n",
            "  inflating: ck/CK+48/contempt/S138_008_00000008.png  \n",
            "  inflating: ck/CK+48/contempt/S138_008_00000009.png  \n",
            "  inflating: ck/CK+48/contempt/S139_002_00000011.png  \n",
            "  inflating: ck/CK+48/contempt/S139_002_00000012.png  \n",
            "  inflating: ck/CK+48/contempt/S139_002_00000013.png  \n",
            "  inflating: ck/CK+48/contempt/S147_002_00000011.png  \n",
            "  inflating: ck/CK+48/contempt/S147_002_00000012.png  \n",
            "  inflating: ck/CK+48/contempt/S147_002_00000013.png  \n",
            "  inflating: ck/CK+48/contempt/S148_002_00000013.png  \n",
            "  inflating: ck/CK+48/contempt/S148_002_00000014.png  \n",
            "  inflating: ck/CK+48/contempt/S148_002_00000015.png  \n",
            "  inflating: ck/CK+48/contempt/S149_002_00000011.png  \n",
            "  inflating: ck/CK+48/contempt/S149_002_00000012.png  \n",
            "  inflating: ck/CK+48/contempt/S149_002_00000013.png  \n",
            "  inflating: ck/CK+48/contempt/S151_002_00000027.png  \n",
            "  inflating: ck/CK+48/contempt/S151_002_00000028.png  \n",
            "  inflating: ck/CK+48/contempt/S151_002_00000029.png  \n",
            "  inflating: ck/CK+48/contempt/S154_002_00000011.png  \n",
            "  inflating: ck/CK+48/contempt/S154_002_00000012.png  \n",
            "  inflating: ck/CK+48/contempt/S154_002_00000013.png  \n",
            "  inflating: ck/CK+48/contempt/S155_002_00000010.png  \n",
            "  inflating: ck/CK+48/contempt/S155_002_00000011.png  \n",
            "  inflating: ck/CK+48/contempt/S155_002_00000012.png  \n",
            "  inflating: ck/CK+48/contempt/S156_002_00000019.png  \n",
            "  inflating: ck/CK+48/contempt/S156_002_00000020.png  \n",
            "  inflating: ck/CK+48/contempt/S156_002_00000021.png  \n",
            "  inflating: ck/CK+48/contempt/S157_002_00000009.png  \n",
            "  inflating: ck/CK+48/contempt/S157_002_00000010.png  \n",
            "  inflating: ck/CK+48/contempt/S157_002_00000011.png  \n",
            "  inflating: ck/CK+48/contempt/S158_002_00000009.png  \n",
            "  inflating: ck/CK+48/contempt/S158_002_00000010.png  \n",
            "  inflating: ck/CK+48/contempt/S158_002_00000011.png  \n",
            "  inflating: ck/CK+48/contempt/S160_006_00000008.png  \n",
            "  inflating: ck/CK+48/contempt/S160_006_00000009.png  \n",
            "  inflating: ck/CK+48/contempt/S160_006_00000010.png  \n",
            "  inflating: ck/CK+48/contempt/S502_002_00000007.png  \n",
            "  inflating: ck/CK+48/contempt/S502_002_00000008.png  \n",
            "  inflating: ck/CK+48/contempt/S502_002_00000009.png  \n",
            "  inflating: ck/CK+48/contempt/S503_002_00000006.png  \n",
            "  inflating: ck/CK+48/contempt/S503_002_00000007.png  \n",
            "  inflating: ck/CK+48/contempt/S503_002_00000008.png  \n",
            "  inflating: ck/CK+48/contempt/S504_002_00000007.png  \n",
            "  inflating: ck/CK+48/contempt/S504_002_00000008.png  \n",
            "  inflating: ck/CK+48/contempt/S504_002_00000009.png  \n",
            "  inflating: ck/CK+48/contempt/S505_002_00000019.png  \n",
            "  inflating: ck/CK+48/contempt/S505_002_00000020.png  \n",
            "  inflating: ck/CK+48/contempt/S505_002_00000021.png  \n",
            "  inflating: ck/CK+48/contempt/S506_002_00000007.png  \n",
            "  inflating: ck/CK+48/contempt/S506_002_00000008.png  \n",
            "  inflating: ck/CK+48/contempt/S506_002_00000009.png  \n",
            "  inflating: ck/CK+48/contempt/S895_002_00000005.png  \n",
            "  inflating: ck/CK+48/contempt/S895_002_00000006.png  \n",
            "  inflating: ck/CK+48/contempt/S895_002_00000007.png  \n",
            "  inflating: ck/CK+48/disgust/S005_001_00000009.png  \n",
            "  inflating: ck/CK+48/disgust/S005_001_00000010.png  \n",
            "  inflating: ck/CK+48/disgust/S005_001_00000011.png  \n",
            "  inflating: ck/CK+48/disgust/S011_005_00000018.png  \n",
            "  inflating: ck/CK+48/disgust/S011_005_00000019.png  \n",
            "  inflating: ck/CK+48/disgust/S011_005_00000020.png  \n",
            "  inflating: ck/CK+48/disgust/S022_006_00000015.png  \n",
            "  inflating: ck/CK+48/disgust/S022_006_00000016.png  \n",
            "  inflating: ck/CK+48/disgust/S022_006_00000017.png  \n",
            "  inflating: ck/CK+48/disgust/S032_005_00000014.png  \n",
            "  inflating: ck/CK+48/disgust/S032_005_00000015.png  \n",
            "  inflating: ck/CK+48/disgust/S032_005_00000016.png  \n",
            "  inflating: ck/CK+48/disgust/S035_005_00000017.png  \n",
            "  inflating: ck/CK+48/disgust/S035_005_00000018.png  \n",
            "  inflating: ck/CK+48/disgust/S035_005_00000019.png  \n",
            "  inflating: ck/CK+48/disgust/S044_006_00000017.png  \n",
            "  inflating: ck/CK+48/disgust/S044_006_00000018.png  \n",
            "  inflating: ck/CK+48/disgust/S044_006_00000019.png  \n",
            "  inflating: ck/CK+48/disgust/S045_004_00000013.png  \n",
            "  inflating: ck/CK+48/disgust/S045_004_00000014.png  \n",
            "  inflating: ck/CK+48/disgust/S045_004_00000015.png  \n",
            "  inflating: ck/CK+48/disgust/S046_004_00000015.png  \n",
            "  inflating: ck/CK+48/disgust/S046_004_00000016.png  \n",
            "  inflating: ck/CK+48/disgust/S046_004_00000017.png  \n",
            "  inflating: ck/CK+48/disgust/S051_003_00000016.png  \n",
            "  inflating: ck/CK+48/disgust/S051_003_00000017.png  \n",
            "  inflating: ck/CK+48/disgust/S051_003_00000018.png  \n",
            "  inflating: ck/CK+48/disgust/S052_006_00000011.png  \n",
            "  inflating: ck/CK+48/disgust/S052_006_00000012.png  \n",
            "  inflating: ck/CK+48/disgust/S052_006_00000013.png  \n",
            "  inflating: ck/CK+48/disgust/S054_004_00000022.png  \n",
            "  inflating: ck/CK+48/disgust/S054_004_00000023.png  \n",
            "  inflating: ck/CK+48/disgust/S054_004_00000024.png  \n",
            "  inflating: ck/CK+48/disgust/S055_003_00000007.png  \n",
            "  inflating: ck/CK+48/disgust/S055_003_00000008.png  \n",
            "  inflating: ck/CK+48/disgust/S055_003_00000009.png  \n",
            "  inflating: ck/CK+48/disgust/S056_002_00000008.png  \n",
            "  inflating: ck/CK+48/disgust/S056_002_00000009.png  \n",
            "  inflating: ck/CK+48/disgust/S056_002_00000010.png  \n",
            "  inflating: ck/CK+48/disgust/S057_003_00000013.png  \n",
            "  inflating: ck/CK+48/disgust/S057_003_00000014.png  \n",
            "  inflating: ck/CK+48/disgust/S057_003_00000015.png  \n",
            "  inflating: ck/CK+48/disgust/S058_006_00000016.png  \n",
            "  inflating: ck/CK+48/disgust/S058_006_00000017.png  \n",
            "  inflating: ck/CK+48/disgust/S058_006_00000018.png  \n",
            "  inflating: ck/CK+48/disgust/S060_005_00000019.png  \n",
            "  inflating: ck/CK+48/disgust/S060_005_00000020.png  \n",
            "  inflating: ck/CK+48/disgust/S060_005_00000021.png  \n",
            "  inflating: ck/CK+48/disgust/S061_004_00000020.png  \n",
            "  inflating: ck/CK+48/disgust/S061_004_00000021.png  \n",
            "  inflating: ck/CK+48/disgust/S061_004_00000022.png  \n",
            "  inflating: ck/CK+48/disgust/S062_005_00000027.png  \n",
            "  inflating: ck/CK+48/disgust/S062_005_00000028.png  \n",
            "  inflating: ck/CK+48/disgust/S062_005_00000029.png  \n",
            "  inflating: ck/CK+48/disgust/S065_005_00000006.png  \n",
            "  inflating: ck/CK+48/disgust/S065_005_00000007.png  \n",
            "  inflating: ck/CK+48/disgust/S065_005_00000008.png  \n",
            "  inflating: ck/CK+48/disgust/S067_006_00000009.png  \n",
            "  inflating: ck/CK+48/disgust/S067_006_00000010.png  \n",
            "  inflating: ck/CK+48/disgust/S067_006_00000011.png  \n",
            "  inflating: ck/CK+48/disgust/S068_005_00000019.png  \n",
            "  inflating: ck/CK+48/disgust/S068_005_00000020.png  \n",
            "  inflating: ck/CK+48/disgust/S068_005_00000021.png  \n",
            "  inflating: ck/CK+48/disgust/S069_003_00000009.png  \n",
            "  inflating: ck/CK+48/disgust/S069_003_00000010.png  \n",
            "  inflating: ck/CK+48/disgust/S069_003_00000011.png  \n",
            "  inflating: ck/CK+48/disgust/S070_005_00000014.png  \n",
            "  inflating: ck/CK+48/disgust/S070_005_00000015.png  \n",
            "  inflating: ck/CK+48/disgust/S070_005_00000016.png  \n",
            "  inflating: ck/CK+48/disgust/S071_006_00000012.png  \n",
            "  inflating: ck/CK+48/disgust/S071_006_00000013.png  \n",
            "  inflating: ck/CK+48/disgust/S071_006_00000014.png  \n",
            "  inflating: ck/CK+48/disgust/S073_006_00000012.png  \n",
            "  inflating: ck/CK+48/disgust/S073_006_00000013.png  \n",
            "  inflating: ck/CK+48/disgust/S073_006_00000014.png  \n",
            "  inflating: ck/CK+48/disgust/S074_004_00000016.png  \n",
            "  inflating: ck/CK+48/disgust/S074_004_00000017.png  \n",
            "  inflating: ck/CK+48/disgust/S074_004_00000018.png  \n",
            "  inflating: ck/CK+48/disgust/S075_005_00000010.png  \n",
            "  inflating: ck/CK+48/disgust/S075_005_00000011.png  \n",
            "  inflating: ck/CK+48/disgust/S075_005_00000012.png  \n",
            "  inflating: ck/CK+48/disgust/S076_005_00000010.png  \n",
            "  inflating: ck/CK+48/disgust/S076_005_00000011.png  \n",
            "  inflating: ck/CK+48/disgust/S076_005_00000012.png  \n",
            "  inflating: ck/CK+48/disgust/S077_006_00000012.png  \n",
            "  inflating: ck/CK+48/disgust/S077_006_00000013.png  \n",
            "  inflating: ck/CK+48/disgust/S077_006_00000014.png  \n",
            "  inflating: ck/CK+48/disgust/S078_007_00000011.png  \n",
            "  inflating: ck/CK+48/disgust/S078_007_00000012.png  \n",
            "  inflating: ck/CK+48/disgust/S078_007_00000013.png  \n",
            "  inflating: ck/CK+48/disgust/S079_002_00000010.png  \n",
            "  inflating: ck/CK+48/disgust/S079_002_00000011.png  \n",
            "  inflating: ck/CK+48/disgust/S079_002_00000012.png  \n",
            "  inflating: ck/CK+48/disgust/S080_008_00000007.png  \n",
            "  inflating: ck/CK+48/disgust/S080_008_00000008.png  \n",
            "  inflating: ck/CK+48/disgust/S080_008_00000009.png  \n",
            "  inflating: ck/CK+48/disgust/S081_008_00000009.png  \n",
            "  inflating: ck/CK+48/disgust/S081_008_00000010.png  \n",
            "  inflating: ck/CK+48/disgust/S081_008_00000011.png  \n",
            "  inflating: ck/CK+48/disgust/S082_007_00000008.png  \n",
            "  inflating: ck/CK+48/disgust/S082_007_00000009.png  \n",
            "  inflating: ck/CK+48/disgust/S082_007_00000010.png  \n",
            "  inflating: ck/CK+48/disgust/S085_004_00000015.png  \n",
            "  inflating: ck/CK+48/disgust/S085_004_00000016.png  \n",
            "  inflating: ck/CK+48/disgust/S085_004_00000017.png  \n",
            "  inflating: ck/CK+48/disgust/S087_004_00000010.png  \n",
            "  inflating: ck/CK+48/disgust/S087_004_00000011.png  \n",
            "  inflating: ck/CK+48/disgust/S087_004_00000012.png  \n",
            "  inflating: ck/CK+48/disgust/S088_004_00000018.png  \n",
            "  inflating: ck/CK+48/disgust/S088_004_00000019.png  \n",
            "  inflating: ck/CK+48/disgust/S088_004_00000020.png  \n",
            "  inflating: ck/CK+48/disgust/S090_006_00000009.png  \n",
            "  inflating: ck/CK+48/disgust/S090_006_00000010.png  \n",
            "  inflating: ck/CK+48/disgust/S090_006_00000011.png  \n",
            "  inflating: ck/CK+48/disgust/S095_006_00000011.png  \n",
            "  inflating: ck/CK+48/disgust/S095_006_00000012.png  \n",
            "  inflating: ck/CK+48/disgust/S095_006_00000013.png  \n",
            "  inflating: ck/CK+48/disgust/S096_003_00000010.png  \n",
            "  inflating: ck/CK+48/disgust/S096_003_00000011.png  \n",
            "  inflating: ck/CK+48/disgust/S096_003_00000012.png  \n",
            "  inflating: ck/CK+48/disgust/S097_004_00000028.png  \n",
            "  inflating: ck/CK+48/disgust/S097_004_00000029.png  \n",
            "  inflating: ck/CK+48/disgust/S097_004_00000030.png  \n",
            "  inflating: ck/CK+48/disgust/S098_003_00000011.png  \n",
            "  inflating: ck/CK+48/disgust/S098_003_00000012.png  \n",
            "  inflating: ck/CK+48/disgust/S098_003_00000013.png  \n",
            "  inflating: ck/CK+48/disgust/S099_007_00000010.png  \n",
            "  inflating: ck/CK+48/disgust/S099_007_00000011.png  \n",
            "  inflating: ck/CK+48/disgust/S099_007_00000012.png  \n",
            "  inflating: ck/CK+48/disgust/S102_009_00000013.png  \n",
            "  inflating: ck/CK+48/disgust/S102_009_00000014.png  \n",
            "  inflating: ck/CK+48/disgust/S102_009_00000015.png  \n",
            "  inflating: ck/CK+48/disgust/S105_008_00000008.png  \n",
            "  inflating: ck/CK+48/disgust/S105_008_00000009.png  \n",
            "  inflating: ck/CK+48/disgust/S105_008_00000010.png  \n",
            "  inflating: ck/CK+48/disgust/S106_004_00000006.png  \n",
            "  inflating: ck/CK+48/disgust/S106_004_00000007.png  \n",
            "  inflating: ck/CK+48/disgust/S106_004_00000008.png  \n",
            "  inflating: ck/CK+48/disgust/S107_005_00000009.png  \n",
            "  inflating: ck/CK+48/disgust/S107_005_00000010.png  \n",
            "  inflating: ck/CK+48/disgust/S107_005_00000011.png  \n",
            "  inflating: ck/CK+48/disgust/S108_006_00000018.png  \n",
            "  inflating: ck/CK+48/disgust/S108_006_00000019.png  \n",
            "  inflating: ck/CK+48/disgust/S108_006_00000020.png  \n",
            "  inflating: ck/CK+48/disgust/S109_005_00000012.png  \n",
            "  inflating: ck/CK+48/disgust/S109_005_00000013.png  \n",
            "  inflating: ck/CK+48/disgust/S109_005_00000014.png  \n",
            "  inflating: ck/CK+48/disgust/S111_007_00000012.png  \n",
            "  inflating: ck/CK+48/disgust/S111_007_00000013.png  \n",
            "  inflating: ck/CK+48/disgust/S111_007_00000014.png  \n",
            "  inflating: ck/CK+48/disgust/S116_006_00000005.png  \n",
            "  inflating: ck/CK+48/disgust/S116_006_00000006.png  \n",
            "  inflating: ck/CK+48/disgust/S116_006_00000007.png  \n",
            "  inflating: ck/CK+48/disgust/S124_006_00000009.png  \n",
            "  inflating: ck/CK+48/disgust/S124_006_00000010.png  \n",
            "  inflating: ck/CK+48/disgust/S124_006_00000011.png  \n",
            "  inflating: ck/CK+48/disgust/S125_008_00000008.png  \n",
            "  inflating: ck/CK+48/disgust/S125_008_00000009.png  \n",
            "  inflating: ck/CK+48/disgust/S125_008_00000010.png  \n",
            "  inflating: ck/CK+48/disgust/S128_004_00000011.png  \n",
            "  inflating: ck/CK+48/disgust/S128_004_00000012.png  \n",
            "  inflating: ck/CK+48/disgust/S128_004_00000013.png  \n",
            "  inflating: ck/CK+48/disgust/S129_011_00000016.png  \n",
            "  inflating: ck/CK+48/disgust/S129_011_00000017.png  \n",
            "  inflating: ck/CK+48/disgust/S129_011_00000018.png  \n",
            "  inflating: ck/CK+48/disgust/S130_012_00000009.png  \n",
            "  inflating: ck/CK+48/disgust/S130_012_00000010.png  \n",
            "  inflating: ck/CK+48/disgust/S130_012_00000011.png  \n",
            "  inflating: ck/CK+48/disgust/S131_010_00000016.png  \n",
            "  inflating: ck/CK+48/disgust/S131_010_00000017.png  \n",
            "  inflating: ck/CK+48/disgust/S131_010_00000018.png  \n",
            "  inflating: ck/CK+48/disgust/S132_005_00000014.png  \n",
            "  inflating: ck/CK+48/disgust/S132_005_00000015.png  \n",
            "  inflating: ck/CK+48/disgust/S132_005_00000016.png  \n",
            "  inflating: ck/CK+48/disgust/S134_008_00000011.png  \n",
            "  inflating: ck/CK+48/disgust/S134_008_00000012.png  \n",
            "  inflating: ck/CK+48/disgust/S134_008_00000013.png  \n",
            "  inflating: ck/CK+48/fear/S011_003_00000012.png  \n",
            "  inflating: ck/CK+48/fear/S011_003_00000013.png  \n",
            "  inflating: ck/CK+48/fear/S011_003_00000014.png  \n",
            "  inflating: ck/CK+48/fear/S032_004_00000012.png  \n",
            "  inflating: ck/CK+48/fear/S032_004_00000013.png  \n",
            "  inflating: ck/CK+48/fear/S032_004_00000014.png  \n",
            "  inflating: ck/CK+48/fear/S046_003_00000014.png  \n",
            "  inflating: ck/CK+48/fear/S046_003_00000015.png  \n",
            "  inflating: ck/CK+48/fear/S046_003_00000016.png  \n",
            "  inflating: ck/CK+48/fear/S050_001_00000015.png  \n",
            "  inflating: ck/CK+48/fear/S050_001_00000016.png  \n",
            "  inflating: ck/CK+48/fear/S050_001_00000017.png  \n",
            "  inflating: ck/CK+48/fear/S054_002_00000013.png  \n",
            "  inflating: ck/CK+48/fear/S054_002_00000014.png  \n",
            "  inflating: ck/CK+48/fear/S054_002_00000015.png  \n",
            "  inflating: ck/CK+48/fear/S055_006_00000006.png  \n",
            "  inflating: ck/CK+48/fear/S055_006_00000007.png  \n",
            "  inflating: ck/CK+48/fear/S055_006_00000008.png  \n",
            "  inflating: ck/CK+48/fear/S059_002_00000015.png  \n",
            "  inflating: ck/CK+48/fear/S059_002_00000016.png  \n",
            "  inflating: ck/CK+48/fear/S059_002_00000017.png  \n",
            "  inflating: ck/CK+48/fear/S062_001_00000015.png  \n",
            "  inflating: ck/CK+48/fear/S062_001_00000016.png  \n",
            "  inflating: ck/CK+48/fear/S062_001_00000017.png  \n",
            "  inflating: ck/CK+48/fear/S065_002_00000020.png  \n",
            "  inflating: ck/CK+48/fear/S065_002_00000021.png  \n",
            "  inflating: ck/CK+48/fear/S065_002_00000022.png  \n",
            "  inflating: ck/CK+48/fear/S068_004_00000008.png  \n",
            "  inflating: ck/CK+48/fear/S068_004_00000009.png  \n",
            "  inflating: ck/CK+48/fear/S068_004_00000010.png  \n",
            "  inflating: ck/CK+48/fear/S074_001_00000018.png  \n",
            "  inflating: ck/CK+48/fear/S074_001_00000019.png  \n",
            "  inflating: ck/CK+48/fear/S074_001_00000020.png  \n",
            "  inflating: ck/CK+48/fear/S084_002_00000021.png  \n",
            "  inflating: ck/CK+48/fear/S084_002_00000022.png  \n",
            "  inflating: ck/CK+48/fear/S084_002_00000023.png  \n",
            "  inflating: ck/CK+48/fear/S091_001_00000013.png  \n",
            "  inflating: ck/CK+48/fear/S091_001_00000014.png  \n",
            "  inflating: ck/CK+48/fear/S091_001_00000015.png  \n",
            "  inflating: ck/CK+48/fear/S102_003_00000014.png  \n",
            "  inflating: ck/CK+48/fear/S102_003_00000015.png  \n",
            "  inflating: ck/CK+48/fear/S102_003_00000016.png  \n",
            "  inflating: ck/CK+48/fear/S117_003_00000012.png  \n",
            "  inflating: ck/CK+48/fear/S117_003_00000013.png  \n",
            "  inflating: ck/CK+48/fear/S117_003_00000014.png  \n",
            "  inflating: ck/CK+48/fear/S119_003_00000022.png  \n",
            "  inflating: ck/CK+48/fear/S119_003_00000023.png  \n",
            "  inflating: ck/CK+48/fear/S119_003_00000024.png  \n",
            "  inflating: ck/CK+48/fear/S124_003_00000009.png  \n",
            "  inflating: ck/CK+48/fear/S124_003_00000010.png  \n",
            "  inflating: ck/CK+48/fear/S124_003_00000011.png  \n",
            "  inflating: ck/CK+48/fear/S125_006_00000020.png  \n",
            "  inflating: ck/CK+48/fear/S125_006_00000021.png  \n",
            "  inflating: ck/CK+48/fear/S125_006_00000022.png  \n",
            "  inflating: ck/CK+48/fear/S132_003_00000021.png  \n",
            "  inflating: ck/CK+48/fear/S132_003_00000022.png  \n",
            "  inflating: ck/CK+48/fear/S132_003_00000023.png  \n",
            "  inflating: ck/CK+48/fear/S138_001_00000010.png  \n",
            "  inflating: ck/CK+48/fear/S138_001_00000011.png  \n",
            "  inflating: ck/CK+48/fear/S138_001_00000012.png  \n",
            "  inflating: ck/CK+48/fear/S501_004_00000054.png  \n",
            "  inflating: ck/CK+48/fear/S501_004_00000055.png  \n",
            "  inflating: ck/CK+48/fear/S501_004_00000056.png  \n",
            "  inflating: ck/CK+48/fear/S502_004_00000050.png  \n",
            "  inflating: ck/CK+48/fear/S502_004_00000051.png  \n",
            "  inflating: ck/CK+48/fear/S502_004_00000052.png  \n",
            "  inflating: ck/CK+48/fear/S504_004_00000013.png  \n",
            "  inflating: ck/CK+48/fear/S504_004_00000014.png  \n",
            "  inflating: ck/CK+48/fear/S504_004_00000015.png  \n",
            "  inflating: ck/CK+48/fear/S506_004_00000036.png  \n",
            "  inflating: ck/CK+48/fear/S506_004_00000037.png  \n",
            "  inflating: ck/CK+48/fear/S506_004_00000038.png  \n",
            "  inflating: ck/CK+48/fear/S999_003_00000053.png  \n",
            "  inflating: ck/CK+48/fear/S999_003_00000054.png  \n",
            "  inflating: ck/CK+48/fear/S999_003_00000055.png  \n",
            "  inflating: ck/CK+48/happy/S010_006_00000013.png  \n",
            "  inflating: ck/CK+48/happy/S010_006_00000014.png  \n",
            "  inflating: ck/CK+48/happy/S010_006_00000015.png  \n",
            "  inflating: ck/CK+48/happy/S011_006_00000011.png  \n",
            "  inflating: ck/CK+48/happy/S011_006_00000012.png  \n",
            "  inflating: ck/CK+48/happy/S011_006_00000013.png  \n",
            "  inflating: ck/CK+48/happy/S014_005_00000015.png  \n",
            "  inflating: ck/CK+48/happy/S014_005_00000016.png  \n",
            "  inflating: ck/CK+48/happy/S014_005_00000017.png  \n",
            "  inflating: ck/CK+48/happy/S026_006_00000011.png  \n",
            "  inflating: ck/CK+48/happy/S026_006_00000012.png  \n",
            "  inflating: ck/CK+48/happy/S026_006_00000013.png  \n",
            "  inflating: ck/CK+48/happy/S032_006_00000014.png  \n",
            "  inflating: ck/CK+48/happy/S032_006_00000015.png  \n",
            "  inflating: ck/CK+48/happy/S032_006_00000016.png  \n",
            "  inflating: ck/CK+48/happy/S034_005_00000008.png  \n",
            "  inflating: ck/CK+48/happy/S034_005_00000009.png  \n",
            "  inflating: ck/CK+48/happy/S034_005_00000010.png  \n",
            "  inflating: ck/CK+48/happy/S035_006_00000016.png  \n",
            "  inflating: ck/CK+48/happy/S035_006_00000017.png  \n",
            "  inflating: ck/CK+48/happy/S035_006_00000018.png  \n",
            "  inflating: ck/CK+48/happy/S037_006_00000019.png  \n",
            "  inflating: ck/CK+48/happy/S037_006_00000020.png  \n",
            "  inflating: ck/CK+48/happy/S037_006_00000021.png  \n",
            "  inflating: ck/CK+48/happy/S042_006_00000015.png  \n",
            "  inflating: ck/CK+48/happy/S042_006_00000016.png  \n",
            "  inflating: ck/CK+48/happy/S042_006_00000017.png  \n",
            "  inflating: ck/CK+48/happy/S044_003_00000012.png  \n",
            "  inflating: ck/CK+48/happy/S044_003_00000013.png  \n",
            "  inflating: ck/CK+48/happy/S044_003_00000014.png  \n",
            "  inflating: ck/CK+48/happy/S050_006_00000021.png  \n",
            "  inflating: ck/CK+48/happy/S050_006_00000022.png  \n",
            "  inflating: ck/CK+48/happy/S050_006_00000023.png  \n",
            "  inflating: ck/CK+48/happy/S052_004_00000031.png  \n",
            "  inflating: ck/CK+48/happy/S052_004_00000032.png  \n",
            "  inflating: ck/CK+48/happy/S052_004_00000033.png  \n",
            "  inflating: ck/CK+48/happy/S053_004_00000022.png  \n",
            "  inflating: ck/CK+48/happy/S053_004_00000023.png  \n",
            "  inflating: ck/CK+48/happy/S053_004_00000024.png  \n",
            "  inflating: ck/CK+48/happy/S055_005_00000043.png  \n",
            "  inflating: ck/CK+48/happy/S055_005_00000044.png  \n",
            "  inflating: ck/CK+48/happy/S055_005_00000045.png  \n",
            "  inflating: ck/CK+48/happy/S056_004_00000018.png  \n",
            "  inflating: ck/CK+48/happy/S056_004_00000019.png  \n",
            "  inflating: ck/CK+48/happy/S056_004_00000020.png  \n",
            "  inflating: ck/CK+48/happy/S057_006_00000031.png  \n",
            "  inflating: ck/CK+48/happy/S057_006_00000032.png  \n",
            "  inflating: ck/CK+48/happy/S057_006_00000033.png  \n",
            "  inflating: ck/CK+48/happy/S060_002_00000024.png  \n",
            "  inflating: ck/CK+48/happy/S060_002_00000025.png  \n",
            "  inflating: ck/CK+48/happy/S060_002_00000026.png  \n",
            "  inflating: ck/CK+48/happy/S061_002_00000013.png  \n",
            "  inflating: ck/CK+48/happy/S061_002_00000014.png  \n",
            "  inflating: ck/CK+48/happy/S061_002_00000015.png  \n",
            "  inflating: ck/CK+48/happy/S062_004_00000022.png  \n",
            "  inflating: ck/CK+48/happy/S062_004_00000023.png  \n",
            "  inflating: ck/CK+48/happy/S062_004_00000024.png  \n",
            "  inflating: ck/CK+48/happy/S063_002_00000021.png  \n",
            "  inflating: ck/CK+48/happy/S063_002_00000022.png  \n",
            "  inflating: ck/CK+48/happy/S063_002_00000023.png  \n",
            "  inflating: ck/CK+48/happy/S064_003_00000023.png  \n",
            "  inflating: ck/CK+48/happy/S064_003_00000024.png  \n",
            "  inflating: ck/CK+48/happy/S064_003_00000025.png  \n",
            "  inflating: ck/CK+48/happy/S065_004_00000026.png  \n",
            "  inflating: ck/CK+48/happy/S065_004_00000027.png  \n",
            "  inflating: ck/CK+48/happy/S065_004_00000028.png  \n",
            "  inflating: ck/CK+48/happy/S066_003_00000010.png  \n",
            "  inflating: ck/CK+48/happy/S066_003_00000011.png  \n",
            "  inflating: ck/CK+48/happy/S066_003_00000012.png  \n",
            "  inflating: ck/CK+48/happy/S067_005_00000020.png  \n",
            "  inflating: ck/CK+48/happy/S067_005_00000021.png  \n",
            "  inflating: ck/CK+48/happy/S067_005_00000022.png  \n",
            "  inflating: ck/CK+48/happy/S068_002_00000013.png  \n",
            "  inflating: ck/CK+48/happy/S068_002_00000014.png  \n",
            "  inflating: ck/CK+48/happy/S068_002_00000015.png  \n",
            "  inflating: ck/CK+48/happy/S069_004_00000015.png  \n",
            "  inflating: ck/CK+48/happy/S069_004_00000016.png  \n",
            "  inflating: ck/CK+48/happy/S069_004_00000017.png  \n",
            "  inflating: ck/CK+48/happy/S070_003_00000015.png  \n",
            "  inflating: ck/CK+48/happy/S070_003_00000016.png  \n",
            "  inflating: ck/CK+48/happy/S070_003_00000017.png  \n",
            "  inflating: ck/CK+48/happy/S071_005_00000019.png  \n",
            "  inflating: ck/CK+48/happy/S071_005_00000020.png  \n",
            "  inflating: ck/CK+48/happy/S071_005_00000021.png  \n",
            "  inflating: ck/CK+48/happy/S072_006_00000020.png  \n",
            "  inflating: ck/CK+48/happy/S072_006_00000021.png  \n",
            "  inflating: ck/CK+48/happy/S072_006_00000022.png  \n",
            "  inflating: ck/CK+48/happy/S074_005_00000041.png  \n",
            "  inflating: ck/CK+48/happy/S074_005_00000042.png  \n",
            "  inflating: ck/CK+48/happy/S074_005_00000043.png  \n",
            "  inflating: ck/CK+48/happy/S075_006_00000023.png  \n",
            "  inflating: ck/CK+48/happy/S075_006_00000024.png  \n",
            "  inflating: ck/CK+48/happy/S075_006_00000025.png  \n",
            "  inflating: ck/CK+48/happy/S076_006_00000017.png  \n",
            "  inflating: ck/CK+48/happy/S076_006_00000018.png  \n",
            "  inflating: ck/CK+48/happy/S076_006_00000019.png  \n",
            "  inflating: ck/CK+48/happy/S078_004_00000025.png  \n",
            "  inflating: ck/CK+48/happy/S078_004_00000026.png  \n",
            "  inflating: ck/CK+48/happy/S078_004_00000027.png  \n",
            "  inflating: ck/CK+48/happy/S079_004_00000024.png  \n",
            "  inflating: ck/CK+48/happy/S079_004_00000025.png  \n",
            "  inflating: ck/CK+48/happy/S079_004_00000026.png  \n",
            "  inflating: ck/CK+48/happy/S083_003_00000017.png  \n",
            "  inflating: ck/CK+48/happy/S083_003_00000018.png  \n",
            "  inflating: ck/CK+48/happy/S083_003_00000019.png  \n",
            "  inflating: ck/CK+48/happy/S085_002_00000012.png  \n",
            "  inflating: ck/CK+48/happy/S085_002_00000013.png  \n",
            "  inflating: ck/CK+48/happy/S085_002_00000014.png  \n",
            "  inflating: ck/CK+48/happy/S086_002_00000013.png  \n",
            "  inflating: ck/CK+48/happy/S086_002_00000014.png  \n",
            "  inflating: ck/CK+48/happy/S086_002_00000015.png  \n",
            "  inflating: ck/CK+48/happy/S087_005_00000010.png  \n",
            "  inflating: ck/CK+48/happy/S087_005_00000011.png  \n",
            "  inflating: ck/CK+48/happy/S087_005_00000012.png  \n",
            "  inflating: ck/CK+48/happy/S089_002_00000019.png  \n",
            "  inflating: ck/CK+48/happy/S089_002_00000020.png  \n",
            "  inflating: ck/CK+48/happy/S089_002_00000021.png  \n",
            "  inflating: ck/CK+48/happy/S091_003_00000019.png  \n",
            "  inflating: ck/CK+48/happy/S091_003_00000020.png  \n",
            "  inflating: ck/CK+48/happy/S091_003_00000021.png  \n",
            "  inflating: ck/CK+48/happy/S092_004_00000022.png  \n",
            "  inflating: ck/CK+48/happy/S092_004_00000023.png  \n",
            "  inflating: ck/CK+48/happy/S092_004_00000024.png  \n",
            "  inflating: ck/CK+48/happy/S093_004_00000014.png  \n",
            "  inflating: ck/CK+48/happy/S093_004_00000015.png  \n",
            "  inflating: ck/CK+48/happy/S093_004_00000016.png  \n",
            "  inflating: ck/CK+48/happy/S094_004_00000010.png  \n",
            "  inflating: ck/CK+48/happy/S094_004_00000011.png  \n",
            "  inflating: ck/CK+48/happy/S094_004_00000012.png  \n",
            "  inflating: ck/CK+48/happy/S095_007_00000019.png  \n",
            "  inflating: ck/CK+48/happy/S095_007_00000020.png  \n",
            "  inflating: ck/CK+48/happy/S095_007_00000021.png  \n",
            "  inflating: ck/CK+48/happy/S096_004_00000009.png  \n",
            "  inflating: ck/CK+48/happy/S096_004_00000010.png  \n",
            "  inflating: ck/CK+48/happy/S096_004_00000011.png  \n",
            "  inflating: ck/CK+48/happy/S097_006_00000017.png  \n",
            "  inflating: ck/CK+48/happy/S097_006_00000018.png  \n",
            "  inflating: ck/CK+48/happy/S097_006_00000019.png  \n",
            "  inflating: ck/CK+48/happy/S098_004_00000013.png  \n",
            "  inflating: ck/CK+48/happy/S098_004_00000014.png  \n",
            "  inflating: ck/CK+48/happy/S098_004_00000015.png  \n",
            "  inflating: ck/CK+48/happy/S099_004_00000013.png  \n",
            "  inflating: ck/CK+48/happy/S099_004_00000014.png  \n",
            "  inflating: ck/CK+48/happy/S099_004_00000015.png  \n",
            "  inflating: ck/CK+48/happy/S100_006_00000014.png  \n",
            "  inflating: ck/CK+48/happy/S100_006_00000015.png  \n",
            "  inflating: ck/CK+48/happy/S100_006_00000016.png  \n",
            "  inflating: ck/CK+48/happy/S106_006_00000009.png  \n",
            "  inflating: ck/CK+48/happy/S106_006_00000010.png  \n",
            "  inflating: ck/CK+48/happy/S106_006_00000011.png  \n",
            "  inflating: ck/CK+48/happy/S108_008_00000011.png  \n",
            "  inflating: ck/CK+48/happy/S108_008_00000012.png  \n",
            "  inflating: ck/CK+48/happy/S108_008_00000013.png  \n",
            "  inflating: ck/CK+48/happy/S109_006_00000013.png  \n",
            "  inflating: ck/CK+48/happy/S109_006_00000014.png  \n",
            "  inflating: ck/CK+48/happy/S109_006_00000015.png  \n",
            "  inflating: ck/CK+48/happy/S114_006_00000021.png  \n",
            "  inflating: ck/CK+48/happy/S114_006_00000022.png  \n",
            "  inflating: ck/CK+48/happy/S114_006_00000023.png  \n",
            "  inflating: ck/CK+48/happy/S115_008_00000015.png  \n",
            "  inflating: ck/CK+48/happy/S115_008_00000016.png  \n",
            "  inflating: ck/CK+48/happy/S115_008_00000017.png  \n",
            "  inflating: ck/CK+48/happy/S116_007_00000015.png  \n",
            "  inflating: ck/CK+48/happy/S116_007_00000016.png  \n",
            "  inflating: ck/CK+48/happy/S116_007_00000017.png  \n",
            "  inflating: ck/CK+48/happy/S124_007_00000022.png  \n",
            "  inflating: ck/CK+48/happy/S124_007_00000023.png  \n",
            "  inflating: ck/CK+48/happy/S124_007_00000024.png  \n",
            "  inflating: ck/CK+48/happy/S125_005_00000011.png  \n",
            "  inflating: ck/CK+48/happy/S125_005_00000012.png  \n",
            "  inflating: ck/CK+48/happy/S125_005_00000013.png  \n",
            "  inflating: ck/CK+48/happy/S127_004_00000014.png  \n",
            "  inflating: ck/CK+48/happy/S127_004_00000015.png  \n",
            "  inflating: ck/CK+48/happy/S127_004_00000016.png  \n",
            "  inflating: ck/CK+48/happy/S128_011_00000014.png  \n",
            "  inflating: ck/CK+48/happy/S128_011_00000015.png  \n",
            "  inflating: ck/CK+48/happy/S128_011_00000016.png  \n",
            "  inflating: ck/CK+48/happy/S129_012_00000009.png  \n",
            "  inflating: ck/CK+48/happy/S129_012_00000010.png  \n",
            "  inflating: ck/CK+48/happy/S129_012_00000011.png  \n",
            "  inflating: ck/CK+48/happy/S130_013_00000013.png  \n",
            "  inflating: ck/CK+48/happy/S130_013_00000014.png  \n",
            "  inflating: ck/CK+48/happy/S130_013_00000015.png  \n",
            "  inflating: ck/CK+48/happy/S131_006_00000020.png  \n",
            "  inflating: ck/CK+48/happy/S131_006_00000021.png  \n",
            "  inflating: ck/CK+48/happy/S131_006_00000022.png  \n",
            "  inflating: ck/CK+48/happy/S132_006_00000021.png  \n",
            "  inflating: ck/CK+48/happy/S132_006_00000022.png  \n",
            "  inflating: ck/CK+48/happy/S132_006_00000023.png  \n",
            "  inflating: ck/CK+48/happy/S133_010_00000012.png  \n",
            "  inflating: ck/CK+48/happy/S133_010_00000013.png  \n",
            "  inflating: ck/CK+48/happy/S133_010_00000014.png  \n",
            "  inflating: ck/CK+48/happy/S134_004_00000013.png  \n",
            "  inflating: ck/CK+48/happy/S134_004_00000014.png  \n",
            "  inflating: ck/CK+48/happy/S134_004_00000015.png  \n",
            "  inflating: ck/CK+48/happy/S135_012_00000018.png  \n",
            "  inflating: ck/CK+48/happy/S135_012_00000019.png  \n",
            "  inflating: ck/CK+48/happy/S135_012_00000020.png  \n",
            "  inflating: ck/CK+48/happy/S136_006_00000018.png  \n",
            "  inflating: ck/CK+48/happy/S136_006_00000019.png  \n",
            "  inflating: ck/CK+48/happy/S136_006_00000020.png  \n",
            "  inflating: ck/CK+48/happy/S137_011_00000018.png  \n",
            "  inflating: ck/CK+48/happy/S137_011_00000019.png  \n",
            "  inflating: ck/CK+48/happy/S137_011_00000020.png  \n",
            "  inflating: ck/CK+48/happy/S138_005_00000014.png  \n",
            "  inflating: ck/CK+48/happy/S138_005_00000015.png  \n",
            "  inflating: ck/CK+48/happy/S138_005_00000016.png  \n",
            "  inflating: ck/CK+48/sadness/S011_002_00000020.png  \n",
            "  inflating: ck/CK+48/sadness/S011_002_00000021.png  \n",
            "  inflating: ck/CK+48/sadness/S011_002_00000022.png  \n",
            "  inflating: ck/CK+48/sadness/S014_002_00000014.png  \n",
            "  inflating: ck/CK+48/sadness/S014_002_00000015.png  \n",
            "  inflating: ck/CK+48/sadness/S014_002_00000016.png  \n",
            "  inflating: ck/CK+48/sadness/S026_002_00000014.png  \n",
            "  inflating: ck/CK+48/sadness/S026_002_00000015.png  \n",
            "  inflating: ck/CK+48/sadness/S026_002_00000016.png  \n",
            "  inflating: ck/CK+48/sadness/S042_002_00000014.png  \n",
            "  inflating: ck/CK+48/sadness/S042_002_00000015.png  \n",
            "  inflating: ck/CK+48/sadness/S042_002_00000016.png  \n",
            "  inflating: ck/CK+48/sadness/S046_001_00000023.png  \n",
            "  inflating: ck/CK+48/sadness/S046_001_00000024.png  \n",
            "  inflating: ck/CK+48/sadness/S046_001_00000025.png  \n",
            "  inflating: ck/CK+48/sadness/S064_004_00000012.png  \n",
            "  inflating: ck/CK+48/sadness/S064_004_00000013.png  \n",
            "  inflating: ck/CK+48/sadness/S064_004_00000014.png  \n",
            "  inflating: ck/CK+48/sadness/S066_004_00000008.png  \n",
            "  inflating: ck/CK+48/sadness/S066_004_00000009.png  \n",
            "  inflating: ck/CK+48/sadness/S066_004_00000010.png  \n",
            "  inflating: ck/CK+48/sadness/S071_002_00000018.png  \n",
            "  inflating: ck/CK+48/sadness/S071_002_00000019.png  \n",
            "  inflating: ck/CK+48/sadness/S071_002_00000020.png  \n",
            "  inflating: ck/CK+48/sadness/S080_005_00000011.png  \n",
            "  inflating: ck/CK+48/sadness/S080_005_00000012.png  \n",
            "  inflating: ck/CK+48/sadness/S080_005_00000013.png  \n",
            "  inflating: ck/CK+48/sadness/S081_002_00000022.png  \n",
            "  inflating: ck/CK+48/sadness/S081_002_00000023.png  \n",
            "  inflating: ck/CK+48/sadness/S081_002_00000024.png  \n",
            "  inflating: ck/CK+48/sadness/S093_001_00000018.png  \n",
            "  inflating: ck/CK+48/sadness/S093_001_00000019.png  \n",
            "  inflating: ck/CK+48/sadness/S093_001_00000020.png  \n",
            "  inflating: ck/CK+48/sadness/S095_010_00000012.png  \n",
            "  inflating: ck/CK+48/sadness/S095_010_00000013.png  \n",
            "  inflating: ck/CK+48/sadness/S095_010_00000014.png  \n",
            "  inflating: ck/CK+48/sadness/S106_002_00000014.png  \n",
            "  inflating: ck/CK+48/sadness/S106_002_00000015.png  \n",
            "  inflating: ck/CK+48/sadness/S106_002_00000016.png  \n",
            "  inflating: ck/CK+48/sadness/S108_005_00000020.png  \n",
            "  inflating: ck/CK+48/sadness/S108_005_00000021.png  \n",
            "  inflating: ck/CK+48/sadness/S108_005_00000022.png  \n",
            "  inflating: ck/CK+48/sadness/S113_003_00000013.png  \n",
            "  inflating: ck/CK+48/sadness/S113_003_00000014.png  \n",
            "  inflating: ck/CK+48/sadness/S113_003_00000015.png  \n",
            "  inflating: ck/CK+48/sadness/S115_004_00000015.png  \n",
            "  inflating: ck/CK+48/sadness/S115_004_00000016.png  \n",
            "  inflating: ck/CK+48/sadness/S115_004_00000017.png  \n",
            "  inflating: ck/CK+48/sadness/S125_001_00000012.png  \n",
            "  inflating: ck/CK+48/sadness/S125_001_00000013.png  \n",
            "  inflating: ck/CK+48/sadness/S125_001_00000014.png  \n",
            "  inflating: ck/CK+48/sadness/S130_009_00000017.png  \n",
            "  inflating: ck/CK+48/sadness/S130_009_00000018.png  \n",
            "  inflating: ck/CK+48/sadness/S130_009_00000019.png  \n",
            "  inflating: ck/CK+48/sadness/S131_003_00000022.png  \n",
            "  inflating: ck/CK+48/sadness/S131_003_00000023.png  \n",
            "  inflating: ck/CK+48/sadness/S131_003_00000024.png  \n",
            "  inflating: ck/CK+48/sadness/S132_002_00000016.png  \n",
            "  inflating: ck/CK+48/sadness/S132_002_00000017.png  \n",
            "  inflating: ck/CK+48/sadness/S132_002_00000018.png  \n",
            "  inflating: ck/CK+48/sadness/S136_003_00000012.png  \n",
            "  inflating: ck/CK+48/sadness/S136_003_00000013.png  \n",
            "  inflating: ck/CK+48/sadness/S136_003_00000014.png  \n",
            "  inflating: ck/CK+48/sadness/S137_005_00000025.png  \n",
            "  inflating: ck/CK+48/sadness/S137_005_00000026.png  \n",
            "  inflating: ck/CK+48/sadness/S137_005_00000027.png  \n",
            "  inflating: ck/CK+48/sadness/S138_007_00000009.png  \n",
            "  inflating: ck/CK+48/sadness/S138_007_00000010.png  \n",
            "  inflating: ck/CK+48/sadness/S138_007_00000011.png  \n",
            "  inflating: ck/CK+48/sadness/S501_006_00000039.png  \n",
            "  inflating: ck/CK+48/sadness/S501_006_00000040.png  \n",
            "  inflating: ck/CK+48/sadness/S501_006_00000041.png  \n",
            "  inflating: ck/CK+48/sadness/S503_006_00000018.png  \n",
            "  inflating: ck/CK+48/sadness/S503_006_00000019.png  \n",
            "  inflating: ck/CK+48/sadness/S503_006_00000020.png  \n",
            "  inflating: ck/CK+48/sadness/S504_006_00000016.png  \n",
            "  inflating: ck/CK+48/sadness/S504_006_00000017.png  \n",
            "  inflating: ck/CK+48/sadness/S504_006_00000018.png  \n",
            "  inflating: ck/CK+48/sadness/S505_006_00000017.png  \n",
            "  inflating: ck/CK+48/sadness/S505_006_00000018.png  \n",
            "  inflating: ck/CK+48/sadness/S505_006_00000019.png  \n",
            "  inflating: ck/CK+48/sadness/S506_006_00000040.png  \n",
            "  inflating: ck/CK+48/sadness/S506_006_00000041.png  \n",
            "  inflating: ck/CK+48/sadness/S506_006_00000042.png  \n",
            "  inflating: ck/CK+48/surprise/S010_002_00000012.png  \n",
            "  inflating: ck/CK+48/surprise/S010_002_00000013.png  \n",
            "  inflating: ck/CK+48/surprise/S010_002_00000014.png  \n",
            "  inflating: ck/CK+48/surprise/S011_001_00000014.png  \n",
            "  inflating: ck/CK+48/surprise/S011_001_00000015.png  \n",
            "  inflating: ck/CK+48/surprise/S011_001_00000016.png  \n",
            "  inflating: ck/CK+48/surprise/S014_001_00000027.png  \n",
            "  inflating: ck/CK+48/surprise/S014_001_00000028.png  \n",
            "  inflating: ck/CK+48/surprise/S014_001_00000029.png  \n",
            "  inflating: ck/CK+48/surprise/S022_001_00000028.png  \n",
            "  inflating: ck/CK+48/surprise/S022_001_00000029.png  \n",
            "  inflating: ck/CK+48/surprise/S022_001_00000030.png  \n",
            "  inflating: ck/CK+48/surprise/S026_001_00000013.png  \n",
            "  inflating: ck/CK+48/surprise/S026_001_00000014.png  \n",
            "  inflating: ck/CK+48/surprise/S026_001_00000015.png  \n",
            "  inflating: ck/CK+48/surprise/S032_001_00000020.png  \n",
            "  inflating: ck/CK+48/surprise/S032_001_00000021.png  \n",
            "  inflating: ck/CK+48/surprise/S032_001_00000022.png  \n",
            "  inflating: ck/CK+48/surprise/S034_001_00000027.png  \n",
            "  inflating: ck/CK+48/surprise/S034_001_00000028.png  \n",
            "  inflating: ck/CK+48/surprise/S034_001_00000029.png  \n",
            "  inflating: ck/CK+48/surprise/S035_001_00000013.png  \n",
            "  inflating: ck/CK+48/surprise/S035_001_00000014.png  \n",
            "  inflating: ck/CK+48/surprise/S035_001_00000015.png  \n",
            "  inflating: ck/CK+48/surprise/S037_001_00000018.png  \n",
            "  inflating: ck/CK+48/surprise/S037_001_00000019.png  \n",
            "  inflating: ck/CK+48/surprise/S037_001_00000020.png  \n",
            "  inflating: ck/CK+48/surprise/S042_001_00000017.png  \n",
            "  inflating: ck/CK+48/surprise/S042_001_00000018.png  \n",
            "  inflating: ck/CK+48/surprise/S042_001_00000019.png  \n",
            "  inflating: ck/CK+48/surprise/S044_001_00000022.png  \n",
            "  inflating: ck/CK+48/surprise/S044_001_00000023.png  \n",
            "  inflating: ck/CK+48/surprise/S044_001_00000024.png  \n",
            "  inflating: ck/CK+48/surprise/S046_002_00000004.png  \n",
            "  inflating: ck/CK+48/surprise/S046_002_00000005.png  \n",
            "  inflating: ck/CK+48/surprise/S046_002_00000006.png  \n",
            "  inflating: ck/CK+48/surprise/S050_002_00000016.png  \n",
            "  inflating: ck/CK+48/surprise/S050_002_00000017.png  \n",
            "  inflating: ck/CK+48/surprise/S050_002_00000018.png  \n",
            "  inflating: ck/CK+48/surprise/S051_002_00000017.png  \n",
            "  inflating: ck/CK+48/surprise/S051_002_00000018.png  \n",
            "  inflating: ck/CK+48/surprise/S051_002_00000019.png  \n",
            "  inflating: ck/CK+48/surprise/S052_001_00000013.png  \n",
            "  inflating: ck/CK+48/surprise/S052_001_00000014.png  \n",
            "  inflating: ck/CK+48/surprise/S052_001_00000015.png  \n",
            "  inflating: ck/CK+48/surprise/S053_001_00000021.png  \n",
            "  inflating: ck/CK+48/surprise/S053_001_00000022.png  \n",
            "  inflating: ck/CK+48/surprise/S053_001_00000023.png  \n",
            "  inflating: ck/CK+48/surprise/S054_003_00000005.png  \n",
            "  inflating: ck/CK+48/surprise/S054_003_00000006.png  \n",
            "  inflating: ck/CK+48/surprise/S054_003_00000007.png  \n",
            "  inflating: ck/CK+48/surprise/S055_001_00000010.png  \n",
            "  inflating: ck/CK+48/surprise/S055_001_00000011.png  \n",
            "  inflating: ck/CK+48/surprise/S055_001_00000012.png  \n",
            "  inflating: ck/CK+48/surprise/S056_003_00000008.png  \n",
            "  inflating: ck/CK+48/surprise/S056_003_00000009.png  \n",
            "  inflating: ck/CK+48/surprise/S056_003_00000010.png  \n",
            "  inflating: ck/CK+48/surprise/S057_001_00000017.png  \n",
            "  inflating: ck/CK+48/surprise/S057_001_00000018.png  \n",
            "  inflating: ck/CK+48/surprise/S057_001_00000019.png  \n",
            "  inflating: ck/CK+48/surprise/S058_001_00000018.png  \n",
            "  inflating: ck/CK+48/surprise/S058_001_00000019.png  \n",
            "  inflating: ck/CK+48/surprise/S058_001_00000020.png  \n",
            "  inflating: ck/CK+48/surprise/S059_001_00000016.png  \n",
            "  inflating: ck/CK+48/surprise/S059_001_00000017.png  \n",
            "  inflating: ck/CK+48/surprise/S059_001_00000018.png  \n",
            "  inflating: ck/CK+48/surprise/S060_003_00000016.png  \n",
            "  inflating: ck/CK+48/surprise/S060_003_00000017.png  \n",
            "  inflating: ck/CK+48/surprise/S060_003_00000018.png  \n",
            "  inflating: ck/CK+48/surprise/S061_001_00000010.png  \n",
            "  inflating: ck/CK+48/surprise/S061_001_00000011.png  \n",
            "  inflating: ck/CK+48/surprise/S061_001_00000012.png  \n",
            "  inflating: ck/CK+48/surprise/S062_002_00000014.png  \n",
            "  inflating: ck/CK+48/surprise/S062_002_00000015.png  \n",
            "  inflating: ck/CK+48/surprise/S062_002_00000016.png  \n",
            "  inflating: ck/CK+48/surprise/S063_001_00000011.png  \n",
            "  inflating: ck/CK+48/surprise/S063_001_00000012.png  \n",
            "  inflating: ck/CK+48/surprise/S063_001_00000013.png  \n",
            "  inflating: ck/CK+48/surprise/S064_001_00000010.png  \n",
            "  inflating: ck/CK+48/surprise/S064_001_00000011.png  \n",
            "  inflating: ck/CK+48/surprise/S064_001_00000012.png  \n",
            "  inflating: ck/CK+48/surprise/S065_003_00000020.png  \n",
            "  inflating: ck/CK+48/surprise/S065_003_00000021.png  \n",
            "  inflating: ck/CK+48/surprise/S065_003_00000022.png  \n",
            "  inflating: ck/CK+48/surprise/S066_002_00000020.png  \n",
            "  inflating: ck/CK+48/surprise/S066_002_00000021.png  \n",
            "  inflating: ck/CK+48/surprise/S066_002_00000022.png  \n",
            "  inflating: ck/CK+48/surprise/S067_002_00000012.png  \n",
            "  inflating: ck/CK+48/surprise/S067_002_00000013.png  \n",
            "  inflating: ck/CK+48/surprise/S067_002_00000014.png  \n",
            "  inflating: ck/CK+48/surprise/S068_003_00000012.png  \n",
            "  inflating: ck/CK+48/surprise/S068_003_00000013.png  \n",
            "  inflating: ck/CK+48/surprise/S068_003_00000014.png  \n",
            "  inflating: ck/CK+48/surprise/S069_002_00000012.png  \n",
            "  inflating: ck/CK+48/surprise/S069_002_00000013.png  \n",
            "  inflating: ck/CK+48/surprise/S069_002_00000014.png  \n",
            "  inflating: ck/CK+48/surprise/S070_002_00000014.png  \n",
            "  inflating: ck/CK+48/surprise/S070_002_00000015.png  \n",
            "  inflating: ck/CK+48/surprise/S070_002_00000016.png  \n",
            "  inflating: ck/CK+48/surprise/S071_001_00000011.png  \n",
            "  inflating: ck/CK+48/surprise/S071_001_00000012.png  \n",
            "  inflating: ck/CK+48/surprise/S071_001_00000013.png  \n",
            "  inflating: ck/CK+48/surprise/S073_001_00000011.png  \n",
            "  inflating: ck/CK+48/surprise/S073_001_00000012.png  \n",
            "  inflating: ck/CK+48/surprise/S073_001_00000013.png  \n",
            "  inflating: ck/CK+48/surprise/S074_002_00000014.png  \n",
            "  inflating: ck/CK+48/surprise/S074_002_00000015.png  \n",
            "  inflating: ck/CK+48/surprise/S074_002_00000016.png  \n",
            "  inflating: ck/CK+48/surprise/S075_002_00000012.png  \n",
            "  inflating: ck/CK+48/surprise/S075_002_00000013.png  \n",
            "  inflating: ck/CK+48/surprise/S075_002_00000014.png  \n",
            "  inflating: ck/CK+48/surprise/S076_001_00000015.png  \n",
            "  inflating: ck/CK+48/surprise/S076_001_00000016.png  \n",
            "  inflating: ck/CK+48/surprise/S076_001_00000017.png  \n",
            "  inflating: ck/CK+48/surprise/S077_001_00000026.png  \n",
            "  inflating: ck/CK+48/surprise/S077_001_00000027.png  \n",
            "  inflating: ck/CK+48/surprise/S077_001_00000028.png  \n",
            "  inflating: ck/CK+48/surprise/S078_001_00000031.png  \n",
            "  inflating: ck/CK+48/surprise/S078_001_00000032.png  \n",
            "  inflating: ck/CK+48/surprise/S078_001_00000033.png  \n",
            "  inflating: ck/CK+48/surprise/S079_001_00000010.png  \n",
            "  inflating: ck/CK+48/surprise/S079_001_00000011.png  \n",
            "  inflating: ck/CK+48/surprise/S079_001_00000012.png  \n",
            "  inflating: ck/CK+48/surprise/S080_001_00000016.png  \n",
            "  inflating: ck/CK+48/surprise/S080_001_00000017.png  \n",
            "  inflating: ck/CK+48/surprise/S080_001_00000018.png  \n",
            "  inflating: ck/CK+48/surprise/S081_001_00000017.png  \n",
            "  inflating: ck/CK+48/surprise/S081_001_00000018.png  \n",
            "  inflating: ck/CK+48/surprise/S081_001_00000019.png  \n",
            "  inflating: ck/CK+48/surprise/S082_001_00000013.png  \n",
            "  inflating: ck/CK+48/surprise/S082_001_00000014.png  \n",
            "  inflating: ck/CK+48/surprise/S082_001_00000015.png  \n",
            "  inflating: ck/CK+48/surprise/S084_001_00000008.png  \n",
            "  inflating: ck/CK+48/surprise/S084_001_00000009.png  \n",
            "  inflating: ck/CK+48/surprise/S084_001_00000010.png  \n",
            "  inflating: ck/CK+48/surprise/S085_003_00000011.png  \n",
            "  inflating: ck/CK+48/surprise/S085_003_00000012.png  \n",
            "  inflating: ck/CK+48/surprise/S085_003_00000013.png  \n",
            "  inflating: ck/CK+48/surprise/S086_001_00000017.png  \n",
            "  inflating: ck/CK+48/surprise/S086_001_00000018.png  \n",
            "  inflating: ck/CK+48/surprise/S086_001_00000019.png  \n",
            "  inflating: ck/CK+48/surprise/S087_001_00000009.png  \n",
            "  inflating: ck/CK+48/surprise/S087_001_00000010.png  \n",
            "  inflating: ck/CK+48/surprise/S087_001_00000011.png  \n",
            "  inflating: ck/CK+48/surprise/S088_001_00000015.png  \n",
            "  inflating: ck/CK+48/surprise/S088_001_00000016.png  \n",
            "  inflating: ck/CK+48/surprise/S088_001_00000017.png  \n",
            "  inflating: ck/CK+48/surprise/S089_001_00000014.png  \n",
            "  inflating: ck/CK+48/surprise/S089_001_00000015.png  \n",
            "  inflating: ck/CK+48/surprise/S089_001_00000016.png  \n",
            "  inflating: ck/CK+48/surprise/S090_002_00000009.png  \n",
            "  inflating: ck/CK+48/surprise/S090_002_00000010.png  \n",
            "  inflating: ck/CK+48/surprise/S090_002_00000011.png  \n",
            "  inflating: ck/CK+48/surprise/S092_001_00000015.png  \n",
            "  inflating: ck/CK+48/surprise/S092_001_00000016.png  \n",
            "  inflating: ck/CK+48/surprise/S092_001_00000017.png  \n",
            "  inflating: ck/CK+48/surprise/S094_001_00000008.png  \n",
            "  inflating: ck/CK+48/surprise/S094_001_00000009.png  \n",
            "  inflating: ck/CK+48/surprise/S094_001_00000010.png  \n",
            "  inflating: ck/CK+48/surprise/S095_001_00000014.png  \n",
            "  inflating: ck/CK+48/surprise/S095_001_00000015.png  \n",
            "  inflating: ck/CK+48/surprise/S095_001_00000016.png  \n",
            "  inflating: ck/CK+48/surprise/S096_001_00000005.png  \n",
            "  inflating: ck/CK+48/surprise/S096_001_00000006.png  \n",
            "  inflating: ck/CK+48/surprise/S096_001_00000007.png  \n",
            "  inflating: ck/CK+48/surprise/S097_001_00000019.png  \n",
            "  inflating: ck/CK+48/surprise/S097_001_00000020.png  \n",
            "  inflating: ck/CK+48/surprise/S097_001_00000021.png  \n",
            "  inflating: ck/CK+48/surprise/S099_001_00000012.png  \n",
            "  inflating: ck/CK+48/surprise/S099_001_00000013.png  \n",
            "  inflating: ck/CK+48/surprise/S099_001_00000014.png  \n",
            "  inflating: ck/CK+48/surprise/S100_002_00000013.png  \n",
            "  inflating: ck/CK+48/surprise/S100_002_00000014.png  \n",
            "  inflating: ck/CK+48/surprise/S100_002_00000015.png  \n",
            "  inflating: ck/CK+48/surprise/S101_002_00000017.png  \n",
            "  inflating: ck/CK+48/surprise/S101_002_00000018.png  \n",
            "  inflating: ck/CK+48/surprise/S101_002_00000019.png  \n",
            "  inflating: ck/CK+48/surprise/S102_002_00000016.png  \n",
            "  inflating: ck/CK+48/surprise/S102_002_00000017.png  \n",
            "  inflating: ck/CK+48/surprise/S102_002_00000018.png  \n",
            "  inflating: ck/CK+48/surprise/S107_001_00000008.png  \n",
            "  inflating: ck/CK+48/surprise/S107_001_00000009.png  \n",
            "  inflating: ck/CK+48/surprise/S107_001_00000010.png  \n",
            "  inflating: ck/CK+48/surprise/S110_001_00000011.png  \n",
            "  inflating: ck/CK+48/surprise/S110_001_00000012.png  \n",
            "  inflating: ck/CK+48/surprise/S110_001_00000013.png  \n",
            "  inflating: ck/CK+48/surprise/S111_001_00000012.png  \n",
            "  inflating: ck/CK+48/surprise/S111_001_00000013.png  \n",
            "  inflating: ck/CK+48/surprise/S111_001_00000014.png  \n",
            "  inflating: ck/CK+48/surprise/S113_001_00000010.png  \n",
            "  inflating: ck/CK+48/surprise/S113_001_00000011.png  \n",
            "  inflating: ck/CK+48/surprise/S113_001_00000012.png  \n",
            "  inflating: ck/CK+48/surprise/S114_001_00000016.png  \n",
            "  inflating: ck/CK+48/surprise/S114_001_00000017.png  \n",
            "  inflating: ck/CK+48/surprise/S114_001_00000018.png  \n",
            "  inflating: ck/CK+48/surprise/S115_001_00000006.png  \n",
            "  inflating: ck/CK+48/surprise/S115_001_00000007.png  \n",
            "  inflating: ck/CK+48/surprise/S115_001_00000008.png  \n",
            "  inflating: ck/CK+48/surprise/S116_001_00000012.png  \n",
            "  inflating: ck/CK+48/surprise/S116_001_00000013.png  \n",
            "  inflating: ck/CK+48/surprise/S116_001_00000014.png  \n",
            "  inflating: ck/CK+48/surprise/S117_001_00000012.png  \n",
            "  inflating: ck/CK+48/surprise/S117_001_00000013.png  \n",
            "  inflating: ck/CK+48/surprise/S117_001_00000014.png  \n",
            "  inflating: ck/CK+48/surprise/S119_001_00000009.png  \n",
            "  inflating: ck/CK+48/surprise/S119_001_00000010.png  \n",
            "  inflating: ck/CK+48/surprise/S119_001_00000011.png  \n",
            "  inflating: ck/CK+48/surprise/S122_001_00000010.png  \n",
            "  inflating: ck/CK+48/surprise/S122_001_00000011.png  \n",
            "  inflating: ck/CK+48/surprise/S122_001_00000012.png  \n",
            "  inflating: ck/CK+48/surprise/S124_001_00000012.png  \n",
            "  inflating: ck/CK+48/surprise/S124_001_00000013.png  \n",
            "  inflating: ck/CK+48/surprise/S124_001_00000014.png  \n",
            "  inflating: ck/CK+48/surprise/S125_007_00000007.png  \n",
            "  inflating: ck/CK+48/surprise/S125_007_00000008.png  \n",
            "  inflating: ck/CK+48/surprise/S125_007_00000009.png  \n",
            "  inflating: ck/CK+48/surprise/S126_004_00000010.png  \n",
            "  inflating: ck/CK+48/surprise/S126_004_00000011.png  \n",
            "  inflating: ck/CK+48/surprise/S126_004_00000012.png  \n",
            "  inflating: ck/CK+48/surprise/S127_001_00000015.png  \n",
            "  inflating: ck/CK+48/surprise/S127_001_00000016.png  \n",
            "  inflating: ck/CK+48/surprise/S127_001_00000017.png  \n",
            "  inflating: ck/CK+48/surprise/S129_002_00000009.png  \n",
            "  inflating: ck/CK+48/surprise/S129_002_00000010.png  \n",
            "  inflating: ck/CK+48/surprise/S129_002_00000011.png  \n",
            "  inflating: ck/CK+48/surprise/S130_001_00000016.png  \n",
            "  inflating: ck/CK+48/surprise/S130_001_00000017.png  \n",
            "  inflating: ck/CK+48/surprise/S130_001_00000018.png  \n",
            "  inflating: ck/CK+48/surprise/S131_001_00000014.png  \n",
            "  inflating: ck/CK+48/surprise/S131_001_00000015.png  \n",
            "  inflating: ck/CK+48/surprise/S131_001_00000016.png  \n",
            "  inflating: ck/CK+48/surprise/S132_008_00000008.png  \n",
            "  inflating: ck/CK+48/surprise/S132_008_00000009.png  \n",
            "  inflating: ck/CK+48/surprise/S132_008_00000010.png  \n",
            "  inflating: ck/CK+48/surprise/S133_009_00000004.png  \n",
            "  inflating: ck/CK+48/surprise/S133_009_00000005.png  \n",
            "  inflating: ck/CK+48/surprise/S133_009_00000006.png  \n",
            "  inflating: ck/CK+48/surprise/S135_001_00000037.png  \n",
            "  inflating: ck/CK+48/surprise/S135_001_00000038.png  \n",
            "  inflating: ck/CK+48/surprise/S135_001_00000039.png  \n",
            "  inflating: ck/CK+48/surprise/S136_001_00000017.png  \n",
            "  inflating: ck/CK+48/surprise/S136_001_00000018.png  \n",
            "  inflating: ck/CK+48/surprise/S136_001_00000019.png  \n",
            "  inflating: ck/CK+48/surprise/S137_001_00000012.png  \n",
            "  inflating: ck/CK+48/surprise/S137_001_00000013.png  \n",
            "  inflating: ck/CK+48/surprise/S137_001_00000014.png  \n",
            "  inflating: ck/CK+48/surprise/S138_004_00000011.png  \n",
            "  inflating: ck/CK+48/surprise/S138_004_00000012.png  \n",
            "  inflating: ck/CK+48/surprise/S138_004_00000013.png  \n"
          ]
        }
      ]
    },
    {
      "cell_type": "markdown",
      "source": [
        "## Imports"
      ],
      "metadata": {
        "id": "xotw0uJXV4Yv"
      }
    },
    {
      "cell_type": "code",
      "source": [
        "import numpy as np \n",
        "import pandas as pd\n",
        "import matplotlib.pyplot as plt\n",
        "import seaborn as sns\n",
        "import cv2\n",
        "import os\n",
        "import random\n",
        "from tqdm import tqdm\n",
        "from sklearn.model_selection import train_test_split\n",
        "import tensorflow as tf\n",
        "from tensorflow.keras.preprocessing.image import ImageDataGenerator\n",
        "from tensorflow.keras.models import Sequential\n",
        "from tensorflow.keras.callbacks import Callback, EarlyStopping, ReduceLROnPlateau\n",
        "from tensorflow.keras.layers import Conv2D, BatchNormalization, MaxPool2D, Dropout, Flatten, Dense\n",
        "from tensorflow.keras.optimizers import Adam,RMSprop,SGD,Adamax\n",
        "from tensorflow.keras import regularizers\n",
        "np.random.seed(42)"
      ],
      "metadata": {
        "id": "RjJAaPuTV03_"
      },
      "execution_count": 10,
      "outputs": []
    },
    {
      "cell_type": "markdown",
      "source": [
        "## Loading data"
      ],
      "metadata": {
        "id": "CL9t2iYFWR5C"
      }
    },
    {
      "cell_type": "code",
      "source": [
        "DATADIR = r'../data/CK+48'"
      ],
      "metadata": {
        "id": "6OfXOzF_Wa1u"
      },
      "execution_count": 18,
      "outputs": []
    },
    {
      "cell_type": "code",
      "source": [
        "CATEGORIES = os.listdir(DATADIR)\n",
        "CATEGORIES"
      ],
      "metadata": {
        "colab": {
          "base_uri": "https://localhost:8080/"
        },
        "id": "3WPiK72AWc4S",
        "outputId": "45cec0cd-327c-44dc-9ee8-0ef124dd0b84"
      },
      "execution_count": 19,
      "outputs": [
        {
          "output_type": "execute_result",
          "data": {
            "text/plain": [
              "['happy', 'surprise', 'contempt', 'anger', 'fear', 'sadness', 'disgust']"
            ]
          },
          "metadata": {},
          "execution_count": 19
        }
      ]
    },
    {
      "cell_type": "code",
      "source": [
        "def load_data():\n",
        "    DATADIR = r'../data/CK+48'\n",
        "    data = []\n",
        "    # loading training data\n",
        "    for category in CATEGORIES:\n",
        "        # create path to image of respective expression\n",
        "        path = os.path.join(DATADIR, category)\n",
        "        # get the classification  for each expression \n",
        "        class_num = CATEGORIES.index(category)\n",
        "\n",
        "        for img in tqdm(os.listdir(path)):\n",
        "            img_array = cv2.imread(os.path.join(path, img), 0)\n",
        "            data.append([img_array, class_num])\n",
        "            \n",
        "    return data"
      ],
      "metadata": {
        "id": "48fIidc9WgwH"
      },
      "execution_count": 20,
      "outputs": []
    },
    {
      "cell_type": "code",
      "source": [
        "data = load_data()"
      ],
      "metadata": {
        "colab": {
          "base_uri": "https://localhost:8080/"
        },
        "id": "Q4-vbhvmWk6q",
        "outputId": "8d11e01d-c061-4c1b-fd23-2509a6d634c0"
      },
      "execution_count": 21,
      "outputs": [
        {
          "output_type": "stream",
          "name": "stderr",
          "text": [
            "100%|██████████| 207/207 [00:00<00:00, 6132.07it/s]\n",
            "100%|██████████| 249/249 [00:00<00:00, 11730.94it/s]\n",
            "100%|██████████| 54/54 [00:00<00:00, 10874.94it/s]\n",
            "100%|██████████| 135/135 [00:00<00:00, 13383.86it/s]\n",
            "100%|██████████| 75/75 [00:00<00:00, 11155.06it/s]\n",
            "100%|██████████| 84/84 [00:00<00:00, 11274.65it/s]\n",
            "100%|██████████| 177/177 [00:00<00:00, 13138.52it/s]\n"
          ]
        }
      ]
    },
    {
      "cell_type": "code",
      "source": [
        "# Size of the dataset\n",
        "len(data)"
      ],
      "metadata": {
        "colab": {
          "base_uri": "https://localhost:8080/"
        },
        "id": "Qn96GGO2Wna-",
        "outputId": "57ccfb76-b5cd-498c-ee2f-9d4df8e21df8"
      },
      "execution_count": 113,
      "outputs": [
        {
          "output_type": "execute_result",
          "data": {
            "text/plain": [
              "981"
            ]
          },
          "metadata": {},
          "execution_count": 113
        }
      ]
    },
    {
      "cell_type": "markdown",
      "source": [
        "## Visualization of some images"
      ],
      "metadata": {
        "id": "zE8bOBo4aeZj"
      }
    },
    {
      "cell_type": "code",
      "source": [
        "L = 4\n",
        "W = 4\n",
        "fig, axes = plt.subplots(L, W, figsize = (15,15))\n",
        "axes = axes.ravel()\n",
        "\n",
        "for i in range(0, L * W):  \n",
        "    sample = random.choice(data)\n",
        "    axes[i].set_title(\"Expression = \"+str(CATEGORIES[sample[1]]))\n",
        "    axes[i].imshow(sample[0], cmap='gray')\n",
        "    axes[i].axis('off')\n",
        "plt.subplots_adjust(wspace=0.5)"
      ],
      "metadata": {
        "colab": {
          "base_uri": "https://localhost:8080/",
          "height": 837
        },
        "id": "r6bmHcjJaf88",
        "outputId": "5b24af41-70b1-49ef-d495-fe6e00043e8a"
      },
      "execution_count": 23,
      "outputs": [
        {
          "output_type": "display_data",
          "data": {
            "text/plain": [
              "<Figure size 1080x1080 with 16 Axes>"
            ],
            "image/png": "[encoded data removed]"
          },
          "metadata": {
            "needs_background": "light"
          }
        }
      ]
    },
    {
      "cell_type": "markdown",
      "source": [
        "## Data preprocessing"
      ],
      "metadata": {
        "id": "qUQsF0j4aogM"
      }
    },
    {
      "cell_type": "markdown",
      "source": [
        "### Creating training and testing data"
      ],
      "metadata": {
        "id": "uB9eqxNptWdu"
      }
    },
    {
      "cell_type": "code",
      "source": [
        "X = np.array([ x[0] for x in data])\n",
        "y = np.array([Y[1] for Y in data])\n",
        "X_train, X_test, y_train, y_test = train_test_split(X, y, test_size=0.2, random_state=42, shuffle = True)\n",
        "print(\"X_train shape: \", X_train.shape)\n",
        "print(\"y_train shape: \", y_train.shape)\n",
        "print(\"-------------------------------\")\n",
        "print(\"X_test shape: \", X_test.shape)\n",
        "print(\"y_test shape: \", y_test.shape)"
      ],
      "metadata": {
        "colab": {
          "base_uri": "https://localhost:8080/"
        },
        "id": "HMXPfpBQaplb",
        "outputId": "32c07128-9c2a-4bac-8620-378e92fb554b"
      },
      "execution_count": 24,
      "outputs": [
        {
          "output_type": "stream",
          "name": "stdout",
          "text": [
            "X_train shape:  (784, 48, 48)\n",
            "y_train shape:  (784,)\n",
            "-------------------------------\n",
            "X_test shape:  (197, 48, 48)\n",
            "y_test shape:  (197,)\n"
          ]
        }
      ]
    },
    {
      "cell_type": "code",
      "source": [
        "# reshaping y_train and y_test\n",
        "y_train = np.reshape(y_train, (len(y_train),1))\n",
        "y_test  = np.reshape(y_test , (len(y_test ),1))\n",
        "\n",
        "print(\"After reshaping\")\n",
        "print(\"y_train shape: \", y_train.shape)\n",
        "print(\"y_test shape: \", y_test.shape)\n",
        "\n",
        "X_train_Gabor  = X_train\n",
        "X_test_Gabor = X_test"
      ],
      "metadata": {
        "colab": {
          "base_uri": "https://localhost:8080/"
        },
        "id": "7mPzUsIAa4bn",
        "outputId": "9faa1846-5b88-4ecc-b46d-1586d2c4f1be"
      },
      "execution_count": 25,
      "outputs": [
        {
          "output_type": "stream",
          "name": "stdout",
          "text": [
            "After reshaping\n",
            "y_train shape:  (784, 1)\n",
            "y_test shape:  (197, 1)\n"
          ]
        }
      ]
    },
    {
      "cell_type": "markdown",
      "source": [
        "### Adding color channel"
      ],
      "metadata": {
        "id": "Fb2GW4LFbB3Y"
      }
    },
    {
      "cell_type": "code",
      "source": [
        "X_train = np.expand_dims(X_train, axis=3)\n",
        "X_test = np.expand_dims(X_test, axis=3)\n",
        "\n",
        "print(\"After adding color channel\")\n",
        "print(\"X_train shape: \", X_train.shape)\n",
        "print(\"X_test shape: \", X_test.shape)"
      ],
      "metadata": {
        "colab": {
          "base_uri": "https://localhost:8080/"
        },
        "id": "D_tI5IIFbBQG",
        "outputId": "9d0920f0-ef44-408f-cb11-6ea7745c0e4f"
      },
      "execution_count": 26,
      "outputs": [
        {
          "output_type": "stream",
          "name": "stdout",
          "text": [
            "After adding color channel\n",
            "X_train shape:  (784, 48, 48, 1)\n",
            "X_test shape:  (197, 48, 48, 1)\n"
          ]
        }
      ]
    },
    {
      "cell_type": "markdown",
      "source": [
        "### Normalizing pixel values"
      ],
      "metadata": {
        "id": "cz5hGqIZbKrQ"
      }
    },
    {
      "cell_type": "code",
      "source": [
        "X_train = X_train / 255.0\n",
        "X_test = X_test / 255.0"
      ],
      "metadata": {
        "id": "lOrY0k9_bJnt"
      },
      "execution_count": 27,
      "outputs": []
    },
    {
      "cell_type": "markdown",
      "source": [
        "### Converting single values to category array"
      ],
      "metadata": {
        "id": "7e8dp-_cbQ3R"
      }
    },
    {
      "cell_type": "code",
      "source": [
        "y_train[0]"
      ],
      "metadata": {
        "colab": {
          "base_uri": "https://localhost:8080/"
        },
        "id": "1gPUpH3LbSWy",
        "outputId": "7582de6f-da06-4501-8305-d10fa3cc3999"
      },
      "execution_count": 28,
      "outputs": [
        {
          "output_type": "execute_result",
          "data": {
            "text/plain": [
              "array([6])"
            ]
          },
          "metadata": {},
          "execution_count": 28
        }
      ]
    },
    {
      "cell_type": "code",
      "source": [
        "y_train_SVM = y_train\n",
        "y_test_SVM = y_test\n",
        "\n",
        "y_train = tf.keras.utils.to_categorical(y_train)\n",
        "y_test = tf.keras.utils.to_categorical(y_test)"
      ],
      "metadata": {
        "id": "LAVbTTswbdAN"
      },
      "execution_count": 29,
      "outputs": []
    },
    {
      "cell_type": "code",
      "source": [
        "y_train[0]"
      ],
      "metadata": {
        "colab": {
          "base_uri": "https://localhost:8080/"
        },
        "id": "GjLTP4B_bezT",
        "outputId": "a3499b3a-26af-4179-ef98-ec17c7a08a09"
      },
      "execution_count": 30,
      "outputs": [
        {
          "output_type": "execute_result",
          "data": {
            "text/plain": [
              "array([0., 0., 0., 0., 0., 0., 1.], dtype=float32)"
            ]
          },
          "metadata": {},
          "execution_count": 30
        }
      ]
    },
    {
      "cell_type": "code",
      "source": [
        "y_train.shape, y_test.shape"
      ],
      "metadata": {
        "colab": {
          "base_uri": "https://localhost:8080/"
        },
        "id": "bVcTzNC-bhew",
        "outputId": "e19115f8-9b82-4483-cf41-8e0049f5ce09"
      },
      "execution_count": 31,
      "outputs": [
        {
          "output_type": "execute_result",
          "data": {
            "text/plain": [
              "((784, 7), (197, 7))"
            ]
          },
          "metadata": {},
          "execution_count": 31
        }
      ]
    },
    {
      "cell_type": "markdown",
      "source": [
        "## Feature Extraction"
      ],
      "metadata": {
        "id": "3Ds5udPgbuW2"
      }
    },
    {
      "cell_type": "markdown",
      "source": [
        "#### HOG Technique"
      ],
      "metadata": {
        "id": "Cj4sWfbqb-Yt"
      }
    },
    {
      "cell_type": "code",
      "source": [
        "from skimage.transform import resize\n",
        "from skimage.feature import hog"
      ],
      "metadata": {
        "id": "NuwcXWd6bv1m"
      },
      "execution_count": 32,
      "outputs": []
    },
    {
      "cell_type": "code",
      "source": [
        "plt.figure(figsize=(10, 10))\n",
        "plt.subplot(1,2,1)\n",
        "img = random.choice(X_train)\n",
        "# first image needs to be resized before passing it to HOG descriptor\n",
        "resized_img =  resize(img, (128, 64))\n",
        "plt.title(\"Original image\")\n",
        "plt.imshow(img[:,:,0], cmap='gray')\n",
        "\n",
        "fd, hog_image = hog(\n",
        "    resized_img, \n",
        "    orientations=9, \n",
        "    pixels_per_cell=(8, 8),\n",
        "    cells_per_block=(2, 2), \n",
        "    visualize=True, \n",
        "    multichannel=True\n",
        ")\n",
        "plt.subplot(1,2,2)\n",
        "plt.title(\"HOG\")\n",
        "plt.imshow(resize(hog_image, (48, 48)), cmap='gray')\n",
        "plt.axis('off')"
      ],
      "metadata": {
        "colab": {
          "base_uri": "https://localhost:8080/",
          "height": 335
        },
        "id": "hX5esYPLcMpC",
        "outputId": "ce005baa-c7ff-4085-e4f7-478b27a19686"
      },
      "execution_count": 37,
      "outputs": [
        {
          "output_type": "execute_result",
          "data": {
            "text/plain": [
              "(-0.5, 47.5, 47.5, -0.5)"
            ]
          },
          "metadata": {},
          "execution_count": 37
        },
        {
          "output_type": "display_data",
          "data": {
            "text/plain": [
              "<Figure size 720x720 with 2 Axes>"
            ],
            "image/png": "[encoded data removed]"
          },
          "metadata": {
            "needs_background": "light"
          }
        }
      ]
    },
    {
      "cell_type": "markdown",
      "source": [
        "**Creating Feature Vectors for training and testing**"
      ],
      "metadata": {
        "id": "Ipo-YM9-eGM9"
      }
    },
    {
      "cell_type": "code",
      "source": [
        "def Create_Hog_features(data):\n",
        "    Feature_data = np.zeros((len(data),48,48))\n",
        "\n",
        "    for i in range(len(data)):\n",
        "        img = data[i]\n",
        "        resized_img = resize(img, (128, 64))\n",
        "        fd, hog_image = hog(\n",
        "            resized_img, \n",
        "            orientations=9, \n",
        "            pixels_per_cell=(8, 8),\n",
        "            cells_per_block=(2, 2), \n",
        "            visualize=True, \n",
        "            multichannel=True\n",
        "        )\n",
        "        Feature_data[i] = resize(hog_image, (48, 48))\n",
        "    return Feature_data"
      ],
      "metadata": {
        "id": "k4HbNA7AeILu"
      },
      "execution_count": 38,
      "outputs": []
    },
    {
      "cell_type": "code",
      "source": [
        "Feature_X_train = Create_Hog_features(X_train)\n",
        "Feature_X_train.shape"
      ],
      "metadata": {
        "colab": {
          "base_uri": "https://localhost:8080/"
        },
        "id": "QX08shhreNhj",
        "outputId": "64d3d97f-0dc6-47bc-deff-38c44520b37e"
      },
      "execution_count": 39,
      "outputs": [
        {
          "output_type": "execute_result",
          "data": {
            "text/plain": [
              "(784, 48, 48)"
            ]
          },
          "metadata": {},
          "execution_count": 39
        }
      ]
    },
    {
      "cell_type": "code",
      "source": [
        "plt.imshow(random.choice(Feature_X_train), cmap='gray')\n",
        "plt.axis('off')"
      ],
      "metadata": {
        "colab": {
          "base_uri": "https://localhost:8080/",
          "height": 265
        },
        "id": "6jVZ1LWLeSoR",
        "outputId": "fd328a64-0d8a-47f7-ab6b-ff6e0a8fbafb"
      },
      "execution_count": 40,
      "outputs": [
        {
          "output_type": "execute_result",
          "data": {
            "text/plain": [
              "(-0.5, 47.5, 47.5, -0.5)"
            ]
          },
          "metadata": {},
          "execution_count": 40
        },
        {
          "output_type": "display_data",
          "data": {
            "text/plain": [
              "<Figure size 432x288 with 1 Axes>"
            ],
            "image/png": "[encoded data removed]"
          },
          "metadata": {
            "needs_background": "light"
          }
        }
      ]
    },
    {
      "cell_type": "code",
      "source": [
        "# doing same for test data \n",
        "Feature_X_test = Create_Hog_features(X_test)\n",
        "\n",
        "Feature_X_test.shape"
      ],
      "metadata": {
        "colab": {
          "base_uri": "https://localhost:8080/"
        },
        "id": "USSraVSjeXR4",
        "outputId": "90415bce-11e7-4be7-cd0b-f5622216c5be"
      },
      "execution_count": 41,
      "outputs": [
        {
          "output_type": "execute_result",
          "data": {
            "text/plain": [
              "(197, 48, 48)"
            ]
          },
          "metadata": {},
          "execution_count": 41
        }
      ]
    },
    {
      "cell_type": "code",
      "source": [
        "plt.imshow(random.choice(Feature_X_test), cmap='gray')\n",
        "plt.axis('off')"
      ],
      "metadata": {
        "colab": {
          "base_uri": "https://localhost:8080/",
          "height": 265
        },
        "id": "oX_rs853eaAM",
        "outputId": "4e3b01bd-f8ef-4cf1-8138-60b141e7d624"
      },
      "execution_count": 42,
      "outputs": [
        {
          "output_type": "execute_result",
          "data": {
            "text/plain": [
              "(-0.5, 47.5, 47.5, -0.5)"
            ]
          },
          "metadata": {},
          "execution_count": 42
        },
        {
          "output_type": "display_data",
          "data": {
            "text/plain": [
              "<Figure size 432x288 with 1 Axes>"
            ],
            "image/png": "[encoded data removed]"
          },
          "metadata": {
            "needs_background": "light"
          }
        }
      ]
    },
    {
      "cell_type": "code",
      "source": [
        "# Again adding color channel as it got removed while converting img to hog img\n",
        "X_train_HOG = np.expand_dims(Feature_X_train, axis=3)\n",
        "X_test_HOG = np.expand_dims(Feature_X_test, axis=3)\n",
        "\n",
        "print(\"After adding color channel\")\n",
        "print(\"X_train_HOG shape: \", X_train_HOG.shape)\n",
        "print(\"X_test_HOG shape: \", X_test_HOG.shape)"
      ],
      "metadata": {
        "colab": {
          "base_uri": "https://localhost:8080/"
        },
        "id": "GnbNGpgfee8h",
        "outputId": "12b83d71-74e6-4d05-c4ec-d2c9032d6e34"
      },
      "execution_count": 43,
      "outputs": [
        {
          "output_type": "stream",
          "name": "stdout",
          "text": [
            "After adding color channel\n",
            "X_train_HOG shape:  (784, 48, 48, 1)\n",
            "X_test_HOG shape:  (197, 48, 48, 1)\n"
          ]
        }
      ]
    },
    {
      "cell_type": "code",
      "source": [
        "print(\"X_train_HOG shape: \", X_train_HOG.shape)\n",
        "print(\"y_train shape: \", y_train.shape)\n",
        "print(\"X_test_HOG shape: \", X_test_HOG.shape)\n",
        "print(\"y_test shape: \", y_test.shape)"
      ],
      "metadata": {
        "colab": {
          "base_uri": "https://localhost:8080/"
        },
        "id": "pykxovPZeh9K",
        "outputId": "299934fc-3359-4bb3-f4d4-04630d36a721"
      },
      "execution_count": 44,
      "outputs": [
        {
          "output_type": "stream",
          "name": "stdout",
          "text": [
            "X_train_HOG shape:  (784, 48, 48, 1)\n",
            "y_train shape:  (784, 7)\n",
            "X_test_HOG shape:  (197, 48, 48, 1)\n",
            "y_test shape:  (197, 7)\n"
          ]
        }
      ]
    },
    {
      "cell_type": "code",
      "source": [
        "# Data Augmentation\n",
        "# train_datagen = ImageDataGenerator(\n",
        "#     rotation_range=25, width_shift_range=0.1,\n",
        "#     height_shift_range=0.1, shear_range=0.2, \n",
        "#     zoom_range=0.2,horizontal_flip=True, \n",
        "#     fill_mode=\"nearest\"\n",
        "# )"
      ],
      "metadata": {
        "id": "WMOAjX8YeliK"
      },
      "execution_count": null,
      "outputs": []
    },
    {
      "cell_type": "markdown",
      "source": [
        "**Training and Testing the HOG-CNN model**"
      ],
      "metadata": {
        "id": "-QZyDK-Xessy"
      }
    },
    {
      "cell_type": "code",
      "source": [
        "def create_model(input_shape=None):\n",
        "    if input_shape is None :\n",
        "        input_shape=(48,48,1)\n",
        "\n",
        "    model = Sequential()\n",
        "    model.add(Conv2D(6, (5, 5), input_shape=input_shape, padding='same', activation = 'relu'))\n",
        "    model.add(MaxPool2D(pool_size=(2, 2)))\n",
        "\n",
        "    model.add(Conv2D(16, (5, 5), padding='same', activation = 'relu'))\n",
        "    model.add(MaxPool2D(pool_size=(2, 2)))\n",
        "\n",
        "    model.add(Conv2D(64, (3, 3), activation = 'relu'))\n",
        "    model.add(MaxPool2D(pool_size=(2, 2)))\n",
        "\n",
        "    model.add(Flatten())\n",
        "    model.add(Dense(128, activation = 'relu'))\n",
        "    model.add(Dropout(0.5))\n",
        "    model.add(Dense(7, activation = 'softmax'))\n",
        "    \n",
        "    return model "
      ],
      "metadata": {
        "id": "UFSqLavuer5Z"
      },
      "execution_count": 45,
      "outputs": []
    },
    {
      "cell_type": "code",
      "source": [
        "es = EarlyStopping(\n",
        "    monitor='val_accuracy', min_delta=0.0001, patience=10, verbose=2,\n",
        "    mode='max', baseline=None, restore_best_weights=True\n",
        ")\n",
        "lr = ReduceLROnPlateau(\n",
        "    monitor='val_accuracy', factor=0.1, patience=5, verbose=2,\n",
        "    mode='max', min_delta=1e-5, cooldown=0, min_lr=0\n",
        ")\n",
        "\n",
        "callbacks = [es, lr]"
      ],
      "metadata": {
        "id": "2HyqKhYLeoID"
      },
      "execution_count": 46,
      "outputs": []
    },
    {
      "cell_type": "code",
      "source": [
        "HOG_model = create_model()"
      ],
      "metadata": {
        "id": "Od2zuv4ke-pI"
      },
      "execution_count": 47,
      "outputs": []
    },
    {
      "cell_type": "code",
      "source": [
        "HOG_model.summary()"
      ],
      "metadata": {
        "colab": {
          "base_uri": "https://localhost:8080/"
        },
        "id": "xw5Wg6MmfAmr",
        "outputId": "2dc8180f-acd4-4ee0-ee44-8e889e31a103"
      },
      "execution_count": 48,
      "outputs": [
        {
          "output_type": "stream",
          "name": "stdout",
          "text": [
            "Model: \"sequential\"\n",
            "_________________________________________________________________\n",
            " Layer (type)                Output Shape              Param #   \n",
            "=================================================================\n",
            " conv2d (Conv2D)             (None, 48, 48, 6)         156       \n",
            "                                                                 \n",
            " max_pooling2d (MaxPooling2D  (None, 24, 24, 6)        0         \n",
            " )                                                               \n",
            "                                                                 \n",
            " conv2d_1 (Conv2D)           (None, 24, 24, 16)        2416      \n",
            "                                                                 \n",
            " max_pooling2d_1 (MaxPooling  (None, 12, 12, 16)       0         \n",
            " 2D)                                                             \n",
            "                                                                 \n",
            " conv2d_2 (Conv2D)           (None, 10, 10, 64)        9280      \n",
            "                                                                 \n",
            " max_pooling2d_2 (MaxPooling  (None, 5, 5, 64)         0         \n",
            " 2D)                                                             \n",
            "                                                                 \n",
            " flatten (Flatten)           (None, 1600)              0         \n",
            "                                                                 \n",
            " dense (Dense)               (None, 128)               204928    \n",
            "                                                                 \n",
            " dropout (Dropout)           (None, 128)               0         \n",
            "                                                                 \n",
            " dense_1 (Dense)             (None, 7)                 903       \n",
            "                                                                 \n",
            "=================================================================\n",
            "Total params: 217,683\n",
            "Trainable params: 217,683\n",
            "Non-trainable params: 0\n",
            "_________________________________________________________________\n"
          ]
        }
      ]
    },
    {
      "cell_type": "code",
      "source": [
        "HOG_model.compile(loss='categorical_crossentropy', metrics=['accuracy'], optimizer='adam' )"
      ],
      "metadata": {
        "id": "BC3jegbdfGlu"
      },
      "execution_count": 49,
      "outputs": []
    },
    {
      "cell_type": "markdown",
      "source": [
        "Training the HOG-CNN moel"
      ],
      "metadata": {
        "id": "xVY0sUoLfJhv"
      }
    },
    {
      "cell_type": "code",
      "source": [
        "HOG_history = HOG_model.fit(X_train_HOG, y_train, batch_size=8 , epochs=50, validation_data = (X_test_HOG, y_test), callbacks = [callbacks])"
      ],
      "metadata": {
        "colab": {
          "base_uri": "https://localhost:8080/"
        },
        "id": "N5b3SxopfNdh",
        "outputId": "b813cf13-3a33-4f05-b767-a84860a94557"
      },
      "execution_count": 50,
      "outputs": [
        {
          "output_type": "stream",
          "name": "stdout",
          "text": [
            "Epoch 1/50\n",
            "98/98 [==============================] - 9s 7ms/step - loss: 1.8720 - accuracy: 0.2232 - val_loss: 1.8300 - val_accuracy: 0.3249 - lr: 0.0010\n",
            "Epoch 2/50\n",
            "98/98 [==============================] - 0s 4ms/step - loss: 1.8404 - accuracy: 0.2487 - val_loss: 1.7357 - val_accuracy: 0.3046 - lr: 0.0010\n",
            "Epoch 3/50\n",
            "98/98 [==============================] - 0s 4ms/step - loss: 1.7468 - accuracy: 0.3125 - val_loss: 1.5626 - val_accuracy: 0.4924 - lr: 0.0010\n",
            "Epoch 4/50\n",
            "98/98 [==============================] - 0s 4ms/step - loss: 1.4567 - accuracy: 0.4783 - val_loss: 1.1709 - val_accuracy: 0.5635 - lr: 0.0010\n",
            "Epoch 5/50\n",
            "98/98 [==============================] - 0s 4ms/step - loss: 1.1798 - accuracy: 0.5599 - val_loss: 0.9508 - val_accuracy: 0.6396 - lr: 0.0010\n",
            "Epoch 6/50\n",
            "98/98 [==============================] - 0s 4ms/step - loss: 0.9990 - accuracy: 0.6288 - val_loss: 0.8688 - val_accuracy: 0.6954 - lr: 0.0010\n",
            "Epoch 7/50\n",
            "98/98 [==============================] - 0s 4ms/step - loss: 0.8753 - accuracy: 0.6620 - val_loss: 0.7497 - val_accuracy: 0.7310 - lr: 0.0010\n",
            "Epoch 8/50\n",
            "98/98 [==============================] - 0s 4ms/step - loss: 0.8304 - accuracy: 0.7092 - val_loss: 0.7278 - val_accuracy: 0.7411 - lr: 0.0010\n",
            "Epoch 9/50\n",
            "98/98 [==============================] - 0s 4ms/step - loss: 0.7587 - accuracy: 0.7372 - val_loss: 0.6448 - val_accuracy: 0.7716 - lr: 0.0010\n",
            "Epoch 10/50\n",
            "98/98 [==============================] - 0s 4ms/step - loss: 0.6721 - accuracy: 0.7398 - val_loss: 0.5704 - val_accuracy: 0.8020 - lr: 0.0010\n",
            "Epoch 11/50\n",
            "98/98 [==============================] - 0s 5ms/step - loss: 0.6393 - accuracy: 0.7615 - val_loss: 0.5354 - val_accuracy: 0.7766 - lr: 0.0010\n",
            "Epoch 12/50\n",
            "98/98 [==============================] - 0s 4ms/step - loss: 0.5948 - accuracy: 0.7755 - val_loss: 0.4481 - val_accuracy: 0.8426 - lr: 0.0010\n",
            "Epoch 13/50\n",
            "98/98 [==============================] - 0s 4ms/step - loss: 0.5138 - accuracy: 0.8202 - val_loss: 0.4493 - val_accuracy: 0.8629 - lr: 0.0010\n",
            "Epoch 14/50\n",
            "98/98 [==============================] - 0s 4ms/step - loss: 0.4937 - accuracy: 0.8087 - val_loss: 0.4161 - val_accuracy: 0.8426 - lr: 0.0010\n",
            "Epoch 15/50\n",
            "98/98 [==============================] - 0s 4ms/step - loss: 0.4203 - accuracy: 0.8495 - val_loss: 0.3662 - val_accuracy: 0.8579 - lr: 0.0010\n",
            "Epoch 16/50\n",
            "98/98 [==============================] - 0s 4ms/step - loss: 0.3949 - accuracy: 0.8520 - val_loss: 0.3042 - val_accuracy: 0.8832 - lr: 0.0010\n",
            "Epoch 17/50\n",
            "98/98 [==============================] - 0s 4ms/step - loss: 0.4064 - accuracy: 0.8431 - val_loss: 0.2848 - val_accuracy: 0.8985 - lr: 0.0010\n",
            "Epoch 18/50\n",
            "98/98 [==============================] - 0s 4ms/step - loss: 0.3219 - accuracy: 0.8724 - val_loss: 0.2732 - val_accuracy: 0.9036 - lr: 0.0010\n",
            "Epoch 19/50\n",
            "98/98 [==============================] - 0s 4ms/step - loss: 0.2886 - accuracy: 0.8788 - val_loss: 0.2093 - val_accuracy: 0.9289 - lr: 0.0010\n",
            "Epoch 20/50\n",
            "98/98 [==============================] - 0s 4ms/step - loss: 0.2757 - accuracy: 0.8954 - val_loss: 0.2575 - val_accuracy: 0.9036 - lr: 0.0010\n",
            "Epoch 21/50\n",
            "98/98 [==============================] - 0s 4ms/step - loss: 0.2686 - accuracy: 0.9005 - val_loss: 0.2767 - val_accuracy: 0.8934 - lr: 0.0010\n",
            "Epoch 22/50\n",
            "98/98 [==============================] - 0s 4ms/step - loss: 0.2393 - accuracy: 0.9158 - val_loss: 0.1677 - val_accuracy: 0.9239 - lr: 0.0010\n",
            "Epoch 23/50\n",
            "98/98 [==============================] - 0s 4ms/step - loss: 0.2388 - accuracy: 0.9247 - val_loss: 0.1599 - val_accuracy: 0.9289 - lr: 0.0010\n",
            "Epoch 24/50\n",
            "93/98 [===========================>..] - ETA: 0s - loss: 0.1852 - accuracy: 0.9409\n",
            "Epoch 24: ReduceLROnPlateau reducing learning rate to 0.00010000000474974513.\n",
            "98/98 [==============================] - 0s 4ms/step - loss: 0.1841 - accuracy: 0.9413 - val_loss: 0.1679 - val_accuracy: 0.9289 - lr: 0.0010\n",
            "Epoch 25/50\n",
            "98/98 [==============================] - 0s 4ms/step - loss: 0.1734 - accuracy: 0.9388 - val_loss: 0.1592 - val_accuracy: 0.9391 - lr: 1.0000e-04\n",
            "Epoch 26/50\n",
            "98/98 [==============================] - 0s 4ms/step - loss: 0.1561 - accuracy: 0.9413 - val_loss: 0.1431 - val_accuracy: 0.9391 - lr: 1.0000e-04\n",
            "Epoch 27/50\n",
            "98/98 [==============================] - 0s 4ms/step - loss: 0.1376 - accuracy: 0.9643 - val_loss: 0.1295 - val_accuracy: 0.9391 - lr: 1.0000e-04\n",
            "Epoch 28/50\n",
            "98/98 [==============================] - 0s 4ms/step - loss: 0.1514 - accuracy: 0.9490 - val_loss: 0.1383 - val_accuracy: 0.9391 - lr: 1.0000e-04\n",
            "Epoch 29/50\n",
            "98/98 [==============================] - 0s 4ms/step - loss: 0.1565 - accuracy: 0.9413 - val_loss: 0.1277 - val_accuracy: 0.9442 - lr: 1.0000e-04\n",
            "Epoch 30/50\n",
            "98/98 [==============================] - 0s 4ms/step - loss: 0.1399 - accuracy: 0.9528 - val_loss: 0.1376 - val_accuracy: 0.9340 - lr: 1.0000e-04\n",
            "Epoch 31/50\n",
            "98/98 [==============================] - 0s 4ms/step - loss: 0.1456 - accuracy: 0.9503 - val_loss: 0.1444 - val_accuracy: 0.9340 - lr: 1.0000e-04\n",
            "Epoch 32/50\n",
            "98/98 [==============================] - 0s 4ms/step - loss: 0.1377 - accuracy: 0.9503 - val_loss: 0.1307 - val_accuracy: 0.9391 - lr: 1.0000e-04\n",
            "Epoch 33/50\n",
            "98/98 [==============================] - 0s 4ms/step - loss: 0.1471 - accuracy: 0.9477 - val_loss: 0.1311 - val_accuracy: 0.9391 - lr: 1.0000e-04\n",
            "Epoch 34/50\n",
            "93/98 [===========================>..] - ETA: 0s - loss: 0.1341 - accuracy: 0.9516\n",
            "Epoch 34: ReduceLROnPlateau reducing learning rate to 1.0000000474974514e-05.\n",
            "98/98 [==============================] - 0s 4ms/step - loss: 0.1326 - accuracy: 0.9528 - val_loss: 0.1365 - val_accuracy: 0.9391 - lr: 1.0000e-04\n",
            "Epoch 35/50\n",
            "98/98 [==============================] - 0s 4ms/step - loss: 0.1145 - accuracy: 0.9656 - val_loss: 0.1343 - val_accuracy: 0.9391 - lr: 1.0000e-05\n",
            "Epoch 36/50\n",
            "98/98 [==============================] - 0s 4ms/step - loss: 0.1210 - accuracy: 0.9566 - val_loss: 0.1323 - val_accuracy: 0.9391 - lr: 1.0000e-05\n",
            "Epoch 37/50\n",
            "98/98 [==============================] - 0s 4ms/step - loss: 0.1391 - accuracy: 0.9362 - val_loss: 0.1293 - val_accuracy: 0.9391 - lr: 1.0000e-05\n",
            "Epoch 38/50\n",
            "98/98 [==============================] - 0s 4ms/step - loss: 0.1302 - accuracy: 0.9592 - val_loss: 0.1271 - val_accuracy: 0.9391 - lr: 1.0000e-05\n",
            "Epoch 39/50\n",
            "94/98 [===========================>..] - ETA: 0s - loss: 0.1165 - accuracy: 0.9521Restoring model weights from the end of the best epoch: 29.\n",
            "\n",
            "Epoch 39: ReduceLROnPlateau reducing learning rate to 1.0000000656873453e-06.\n",
            "98/98 [==============================] - 0s 4ms/step - loss: 0.1180 - accuracy: 0.9515 - val_loss: 0.1266 - val_accuracy: 0.9391 - lr: 1.0000e-05\n",
            "Epoch 39: early stopping\n"
          ]
        }
      ]
    },
    {
      "cell_type": "markdown",
      "source": [
        "After the training process is completed, here is the accuracy diagram of the training and validation accuracy."
      ],
      "metadata": {
        "id": "1qGxGpUifYvf"
      }
    },
    {
      "cell_type": "code",
      "source": [
        "def plot_performance(history):\n",
        "    plt.figure(figsize=(12, 8))\n",
        "\n",
        "    plt.subplot(2, 1, 1)\n",
        "    plt.plot(history.history['loss'], label='train')\n",
        "    plt.plot(history.history['val_loss'], label='val')\n",
        "\n",
        "    plt.legend()\n",
        "    plt.grid()\n",
        "    plt.title('train and val loss evolution')\n",
        "\n",
        "    plt.subplot(2, 1, 2)\n",
        "    plt.plot(history.history['accuracy'], label='train')\n",
        "    plt.plot(history.history['val_accuracy'], label='val')\n",
        "\n",
        "    plt.legend()\n",
        "    plt.grid()\n",
        "    plt.title('train and val accuracy')"
      ],
      "metadata": {
        "id": "B_HXgL3DfWoa"
      },
      "execution_count": 51,
      "outputs": []
    },
    {
      "cell_type": "code",
      "source": [
        "plot_performance(HOG_history)"
      ],
      "metadata": {
        "colab": {
          "base_uri": "https://localhost:8080/",
          "height": 499
        },
        "id": "sK--KyUwfkfW",
        "outputId": "abf05446-a187-4ac7-d3da-321174b2abbe"
      },
      "execution_count": 52,
      "outputs": [
        {
          "output_type": "display_data",
          "data": {
            "text/plain": [
              "<Figure size 864x576 with 2 Axes>"
            ],
            "image/png": "[encoded data removed]"
          },
          "metadata": {
            "needs_background": "light"
          }
        }
      ]
    },
    {
      "cell_type": "code",
      "source": [
        "acc = []\n",
        "HOG_acc = HOG_model.evaluate(X_test_HOG, y_test, verbose = 0)[1]\n",
        "acc.append(HOG_acc)\n",
        "print(\"HOG Accuracy :\",HOG_model.evaluate(X_test_HOG, y_test, verbose = 0)[1])\n",
        "HOG_model.save('HOG_model.h5')"
      ],
      "metadata": {
        "colab": {
          "base_uri": "https://localhost:8080/"
        },
        "id": "w0ETZdlRfs0M",
        "outputId": "443b6ef1-39c2-4820-92c9-8c6577c3ad77"
      },
      "execution_count": 53,
      "outputs": [
        {
          "output_type": "stream",
          "name": "stdout",
          "text": [
            "HOG Accuracy : 0.9441624283790588\n"
          ]
        }
      ]
    },
    {
      "cell_type": "markdown",
      "source": [
        "#### LBP Technique"
      ],
      "metadata": {
        "id": "Uq1kfilvgD4B"
      }
    },
    {
      "cell_type": "code",
      "source": [
        "def Binarypattern(im):                               # creating function to get local binary pattern\n",
        "    img= np.zeros_like(im)\n",
        "    n=3                                              # taking kernel of size 3*3\n",
        "    for i in range(0,im.shape[0]-n):                 # for image height\n",
        "        for j in range(0,im.shape[1]-n):               # for image width\n",
        "            x  = im[i:i+n,j:j+n]                     # reading the entire image in 3*3 format\n",
        "            center       = x[1,1]                    # taking the center value for 3*3 kernel\n",
        "            img1        = (x >= center)*1.0          # checking if neighbouring values of center value is greater or less than center value\n",
        "            img1_vector = img1.T.flatten()           # getting the image pixel values \n",
        "            img1_vector = np.delete(img1_vector,4)  \n",
        "            digit = np.where(img1_vector)[0]         \n",
        "            if len(digit) >= 1:                     # converting the neighbouring pixels according to center pixel value\n",
        "                num = np.sum(2**digit)              # if n> center assign 1 and if n<center assign 0\n",
        "            else:                                    # if 1 then multiply by 2^digit and if 0 then making value 0 and aggregating all the values of kernel to get new center value\n",
        "                num = 0\n",
        "            img[i+1,j+1] = num\n",
        "    return(img)"
      ],
      "metadata": {
        "id": "vMCR8AwNgG6k"
      },
      "execution_count": 54,
      "outputs": []
    },
    {
      "cell_type": "code",
      "source": [
        "plt.figure(figsize = (10,10))\n",
        "\n",
        "plt.subplot(1,2,1)\n",
        "img = random.choice(X_train)\n",
        "plt.title(\"Original  image\")\n",
        "plt.imshow(img[:,:,0], cmap='gray')\n",
        "\n",
        "plt.subplot(1,2,2)\n",
        "plt.title(\"LBP\")\n",
        "imgLBP=Binarypattern(img)             # calling the LBP function using gray image\n",
        "plt.imshow(imgLBP[:,:,0], cmap='gray')\n",
        "plt.axis('off')"
      ],
      "metadata": {
        "colab": {
          "base_uri": "https://localhost:8080/",
          "height": 335
        },
        "id": "EF2NNTb1gRy_",
        "outputId": "bb670ddb-1c5a-4dce-b8ee-c1b183d1a425"
      },
      "execution_count": 57,
      "outputs": [
        {
          "output_type": "execute_result",
          "data": {
            "text/plain": [
              "(-0.5, 47.5, 47.5, -0.5)"
            ]
          },
          "metadata": {},
          "execution_count": 57
        },
        {
          "output_type": "display_data",
          "data": {
            "text/plain": [
              "<Figure size 720x720 with 2 Axes>"
            ],
            "image/png": "[encoded data removed]"
          },
          "metadata": {
            "needs_background": "light"
          }
        }
      ]
    },
    {
      "cell_type": "markdown",
      "source": [
        "**Creating Feature Vectors for training and testing**"
      ],
      "metadata": {
        "id": "ScWxLN7jgcbP"
      }
    },
    {
      "cell_type": "code",
      "source": [
        "X_train.shape"
      ],
      "metadata": {
        "colab": {
          "base_uri": "https://localhost:8080/"
        },
        "id": "MuhPNSv6gofJ",
        "outputId": "7ced0ab2-edb5-4a41-9578-1bfa13562413"
      },
      "execution_count": 58,
      "outputs": [
        {
          "output_type": "execute_result",
          "data": {
            "text/plain": [
              "(784, 48, 48, 1)"
            ]
          },
          "metadata": {},
          "execution_count": 58
        }
      ]
    },
    {
      "cell_type": "code",
      "source": [
        "def create_LBP_features(data):\n",
        "    Feature_data = np.zeros(data.shape)\n",
        "\n",
        "    for i in range(len(data)):\n",
        "        img = data[i]\n",
        "        imgLBP=Binarypattern(img)  \n",
        "        Feature_data[i] = imgLBP\n",
        "    \n",
        "    return Feature_data"
      ],
      "metadata": {
        "id": "-FZCC57Rgqdj"
      },
      "execution_count": 59,
      "outputs": []
    },
    {
      "cell_type": "code",
      "source": [
        "Feature_X_train = create_LBP_features(X_train)\n",
        "Feature_X_train.shape"
      ],
      "metadata": {
        "colab": {
          "base_uri": "https://localhost:8080/"
        },
        "id": "TjDd3kAkgtJc",
        "outputId": "1a5cd257-802a-4cd6-d815-bbe3bd00ebf0"
      },
      "execution_count": 60,
      "outputs": [
        {
          "output_type": "execute_result",
          "data": {
            "text/plain": [
              "(784, 48, 48, 1)"
            ]
          },
          "metadata": {},
          "execution_count": 60
        }
      ]
    },
    {
      "cell_type": "code",
      "source": [
        "img = random.choice(Feature_X_train)\n",
        "plt.imshow(img[:,:,0], cmap='gray')"
      ],
      "metadata": {
        "colab": {
          "base_uri": "https://localhost:8080/",
          "height": 284
        },
        "id": "dZPrx2F9gw9z",
        "outputId": "24b54c0f-383b-4bda-e364-b664fef232e2"
      },
      "execution_count": 62,
      "outputs": [
        {
          "output_type": "execute_result",
          "data": {
            "text/plain": [
              "<matplotlib.image.AxesImage at 0x7fac1a371250>"
            ]
          },
          "metadata": {},
          "execution_count": 62
        },
        {
          "output_type": "display_data",
          "data": {
            "text/plain": [
              "<Figure size 432x288 with 1 Axes>"
            ],
            "image/png": "[encoded data removed]"
          },
          "metadata": {
            "needs_background": "light"
          }
        }
      ]
    },
    {
      "cell_type": "code",
      "source": [
        "Feature_X_test = create_LBP_features(X_test)\n",
        "Feature_X_test.shape"
      ],
      "metadata": {
        "colab": {
          "base_uri": "https://localhost:8080/"
        },
        "id": "2J6AjKi6hMDr",
        "outputId": "bf8d9f0d-2fa2-4171-a85e-84feeca46a3a"
      },
      "execution_count": 63,
      "outputs": [
        {
          "output_type": "execute_result",
          "data": {
            "text/plain": [
              "(197, 48, 48, 1)"
            ]
          },
          "metadata": {},
          "execution_count": 63
        }
      ]
    },
    {
      "cell_type": "code",
      "source": [
        "img = random.choice(Feature_X_test)\n",
        "plt.imshow(img[:,:,0], cmap='gray')"
      ],
      "metadata": {
        "colab": {
          "base_uri": "https://localhost:8080/",
          "height": 284
        },
        "id": "aYv3YCDWhN_M",
        "outputId": "e3814301-8852-4684-f587-171a37c9e0e5"
      },
      "execution_count": 65,
      "outputs": [
        {
          "output_type": "execute_result",
          "data": {
            "text/plain": [
              "<matplotlib.image.AxesImage at 0x7fac1a307400>"
            ]
          },
          "metadata": {},
          "execution_count": 65
        },
        {
          "output_type": "display_data",
          "data": {
            "text/plain": [
              "<Figure size 432x288 with 1 Axes>"
            ],
            "image/png": "[encoded data removed]"
          },
          "metadata": {
            "needs_background": "light"
          }
        }
      ]
    },
    {
      "cell_type": "markdown",
      "source": [
        "**Training and testing LBP-CNN model**"
      ],
      "metadata": {
        "id": "VHg-aXJ8hS7J"
      }
    },
    {
      "cell_type": "code",
      "source": [
        "LBP_model = create_model()\n",
        "LBP_model.compile(loss='categorical_crossentropy', metrics=['accuracy'], optimizer='adam' )"
      ],
      "metadata": {
        "id": "0El3wIrMhZb_"
      },
      "execution_count": 66,
      "outputs": []
    },
    {
      "cell_type": "code",
      "source": [
        "LBP_history = LBP_model.fit(Feature_X_train, y_train, batch_size=8 , epochs=50, validation_data = (Feature_X_test, y_test) ,callbacks = [callbacks])"
      ],
      "metadata": {
        "colab": {
          "base_uri": "https://localhost:8080/"
        },
        "id": "yoqilug5hcmN",
        "outputId": "d76281ef-120a-4ac4-91c3-aab0a04041aa"
      },
      "execution_count": 67,
      "outputs": [
        {
          "output_type": "stream",
          "name": "stdout",
          "text": [
            "Epoch 1/50\n",
            "98/98 [==============================] - 1s 6ms/step - loss: 9.2672 - accuracy: 0.2270 - val_loss: 1.7188 - val_accuracy: 0.3858 - lr: 0.0010\n",
            "Epoch 2/50\n",
            "98/98 [==============================] - 0s 4ms/step - loss: 1.7161 - accuracy: 0.3151 - val_loss: 1.4682 - val_accuracy: 0.4518 - lr: 0.0010\n",
            "Epoch 3/50\n",
            "98/98 [==============================] - 0s 4ms/step - loss: 1.5085 - accuracy: 0.4247 - val_loss: 1.3011 - val_accuracy: 0.5482 - lr: 0.0010\n",
            "Epoch 4/50\n",
            "98/98 [==============================] - 0s 4ms/step - loss: 1.3336 - accuracy: 0.4643 - val_loss: 1.0325 - val_accuracy: 0.6853 - lr: 0.0010\n",
            "Epoch 5/50\n",
            "98/98 [==============================] - 0s 5ms/step - loss: 1.1384 - accuracy: 0.5574 - val_loss: 0.8285 - val_accuracy: 0.7817 - lr: 0.0010\n",
            "Epoch 6/50\n",
            "98/98 [==============================] - 0s 4ms/step - loss: 0.8549 - accuracy: 0.6658 - val_loss: 0.7043 - val_accuracy: 0.7716 - lr: 0.0010\n",
            "Epoch 7/50\n",
            "98/98 [==============================] - 0s 4ms/step - loss: 0.8341 - accuracy: 0.6773 - val_loss: 0.5950 - val_accuracy: 0.7868 - lr: 0.0010\n",
            "Epoch 8/50\n",
            "98/98 [==============================] - 0s 4ms/step - loss: 0.6127 - accuracy: 0.7526 - val_loss: 0.4901 - val_accuracy: 0.8579 - lr: 0.0010\n",
            "Epoch 9/50\n",
            "98/98 [==============================] - 0s 4ms/step - loss: 0.5736 - accuracy: 0.7793 - val_loss: 0.4291 - val_accuracy: 0.8528 - lr: 0.0010\n",
            "Epoch 10/50\n",
            "98/98 [==============================] - 0s 4ms/step - loss: 0.4256 - accuracy: 0.8380 - val_loss: 0.3494 - val_accuracy: 0.8883 - lr: 0.0010\n",
            "Epoch 11/50\n",
            "98/98 [==============================] - 0s 4ms/step - loss: 0.4095 - accuracy: 0.8482 - val_loss: 0.2677 - val_accuracy: 0.9086 - lr: 0.0010\n",
            "Epoch 12/50\n",
            "98/98 [==============================] - 0s 4ms/step - loss: 0.3455 - accuracy: 0.8673 - val_loss: 0.2824 - val_accuracy: 0.9086 - lr: 0.0010\n",
            "Epoch 13/50\n",
            "98/98 [==============================] - 0s 4ms/step - loss: 0.2881 - accuracy: 0.8878 - val_loss: 0.2388 - val_accuracy: 0.9188 - lr: 0.0010\n",
            "Epoch 14/50\n",
            "98/98 [==============================] - 0s 4ms/step - loss: 0.2460 - accuracy: 0.9120 - val_loss: 0.2181 - val_accuracy: 0.9188 - lr: 0.0010\n",
            "Epoch 15/50\n",
            "98/98 [==============================] - 0s 4ms/step - loss: 0.2350 - accuracy: 0.9018 - val_loss: 0.2742 - val_accuracy: 0.8883 - lr: 0.0010\n",
            "Epoch 16/50\n",
            "98/98 [==============================] - 0s 4ms/step - loss: 0.2573 - accuracy: 0.8941 - val_loss: 0.2177 - val_accuracy: 0.9340 - lr: 0.0010\n",
            "Epoch 17/50\n",
            "98/98 [==============================] - 0s 4ms/step - loss: 0.2154 - accuracy: 0.9273 - val_loss: 0.2130 - val_accuracy: 0.9594 - lr: 0.0010\n",
            "Epoch 18/50\n",
            "98/98 [==============================] - 0s 4ms/step - loss: 0.2536 - accuracy: 0.8929 - val_loss: 0.1859 - val_accuracy: 0.9442 - lr: 0.0010\n",
            "Epoch 19/50\n",
            "98/98 [==============================] - 0s 4ms/step - loss: 0.1826 - accuracy: 0.9362 - val_loss: 0.1977 - val_accuracy: 0.9289 - lr: 0.0010\n",
            "Epoch 20/50\n",
            "98/98 [==============================] - 0s 5ms/step - loss: 0.1987 - accuracy: 0.9273 - val_loss: 0.1838 - val_accuracy: 0.9289 - lr: 0.0010\n",
            "Epoch 21/50\n",
            "98/98 [==============================] - 0s 5ms/step - loss: 0.1291 - accuracy: 0.9515 - val_loss: 0.1408 - val_accuracy: 0.9391 - lr: 0.0010\n",
            "Epoch 22/50\n",
            "93/98 [===========================>..] - ETA: 0s - loss: 0.1599 - accuracy: 0.9382\n",
            "Epoch 22: ReduceLROnPlateau reducing learning rate to 0.00010000000474974513.\n",
            "98/98 [==============================] - 0s 4ms/step - loss: 0.1708 - accuracy: 0.9337 - val_loss: 0.2156 - val_accuracy: 0.9391 - lr: 0.0010\n",
            "Epoch 23/50\n",
            "98/98 [==============================] - 0s 4ms/step - loss: 0.1068 - accuracy: 0.9630 - val_loss: 0.1770 - val_accuracy: 0.9492 - lr: 1.0000e-04\n",
            "Epoch 24/50\n",
            "98/98 [==============================] - 0s 4ms/step - loss: 0.1030 - accuracy: 0.9605 - val_loss: 0.1569 - val_accuracy: 0.9543 - lr: 1.0000e-04\n",
            "Epoch 25/50\n",
            "98/98 [==============================] - 0s 4ms/step - loss: 0.0823 - accuracy: 0.9656 - val_loss: 0.1395 - val_accuracy: 0.9645 - lr: 1.0000e-04\n",
            "Epoch 26/50\n",
            "98/98 [==============================] - 0s 4ms/step - loss: 0.0648 - accuracy: 0.9745 - val_loss: 0.1440 - val_accuracy: 0.9492 - lr: 1.0000e-04\n",
            "Epoch 27/50\n",
            "98/98 [==============================] - 0s 4ms/step - loss: 0.0598 - accuracy: 0.9758 - val_loss: 0.1316 - val_accuracy: 0.9645 - lr: 1.0000e-04\n",
            "Epoch 28/50\n",
            "98/98 [==============================] - 0s 4ms/step - loss: 0.0714 - accuracy: 0.9694 - val_loss: 0.1287 - val_accuracy: 0.9645 - lr: 1.0000e-04\n",
            "Epoch 29/50\n",
            "98/98 [==============================] - 0s 4ms/step - loss: 0.0535 - accuracy: 0.9770 - val_loss: 0.1395 - val_accuracy: 0.9645 - lr: 1.0000e-04\n",
            "Epoch 30/50\n",
            "94/98 [===========================>..] - ETA: 0s - loss: 0.0557 - accuracy: 0.9801\n",
            "Epoch 30: ReduceLROnPlateau reducing learning rate to 1.0000000474974514e-05.\n",
            "98/98 [==============================] - 0s 4ms/step - loss: 0.0610 - accuracy: 0.9770 - val_loss: 0.1307 - val_accuracy: 0.9645 - lr: 1.0000e-04\n",
            "Epoch 31/50\n",
            "98/98 [==============================] - 0s 4ms/step - loss: 0.0678 - accuracy: 0.9681 - val_loss: 0.1288 - val_accuracy: 0.9645 - lr: 1.0000e-05\n",
            "Epoch 32/50\n",
            "98/98 [==============================] - 0s 4ms/step - loss: 0.0492 - accuracy: 0.9809 - val_loss: 0.1277 - val_accuracy: 0.9645 - lr: 1.0000e-05\n",
            "Epoch 33/50\n",
            "98/98 [==============================] - 0s 4ms/step - loss: 0.0520 - accuracy: 0.9809 - val_loss: 0.1259 - val_accuracy: 0.9645 - lr: 1.0000e-05\n",
            "Epoch 34/50\n",
            "98/98 [==============================] - 0s 4ms/step - loss: 0.0643 - accuracy: 0.9745 - val_loss: 0.1262 - val_accuracy: 0.9645 - lr: 1.0000e-05\n",
            "Epoch 35/50\n",
            "98/98 [==============================] - 0s 4ms/step - loss: 0.0467 - accuracy: 0.9796 - val_loss: 0.1258 - val_accuracy: 0.9695 - lr: 1.0000e-05\n",
            "Epoch 36/50\n",
            "98/98 [==============================] - 0s 4ms/step - loss: 0.0404 - accuracy: 0.9885 - val_loss: 0.1231 - val_accuracy: 0.9645 - lr: 1.0000e-05\n",
            "Epoch 37/50\n",
            "98/98 [==============================] - 0s 4ms/step - loss: 0.0613 - accuracy: 0.9694 - val_loss: 0.1218 - val_accuracy: 0.9645 - lr: 1.0000e-05\n",
            "Epoch 38/50\n",
            "98/98 [==============================] - 0s 4ms/step - loss: 0.0717 - accuracy: 0.9732 - val_loss: 0.1238 - val_accuracy: 0.9645 - lr: 1.0000e-05\n",
            "Epoch 39/50\n",
            "98/98 [==============================] - 0s 4ms/step - loss: 0.0496 - accuracy: 0.9821 - val_loss: 0.1254 - val_accuracy: 0.9645 - lr: 1.0000e-05\n",
            "Epoch 40/50\n",
            "93/98 [===========================>..] - ETA: 0s - loss: 0.0441 - accuracy: 0.9879\n",
            "Epoch 40: ReduceLROnPlateau reducing learning rate to 1.0000000656873453e-06.\n",
            "98/98 [==============================] - 0s 4ms/step - loss: 0.0438 - accuracy: 0.9872 - val_loss: 0.1238 - val_accuracy: 0.9645 - lr: 1.0000e-05\n",
            "Epoch 41/50\n",
            "98/98 [==============================] - 0s 4ms/step - loss: 0.0576 - accuracy: 0.9783 - val_loss: 0.1238 - val_accuracy: 0.9645 - lr: 1.0000e-06\n",
            "Epoch 42/50\n",
            "98/98 [==============================] - 0s 4ms/step - loss: 0.0359 - accuracy: 0.9885 - val_loss: 0.1237 - val_accuracy: 0.9645 - lr: 1.0000e-06\n",
            "Epoch 43/50\n",
            "98/98 [==============================] - 0s 4ms/step - loss: 0.0688 - accuracy: 0.9707 - val_loss: 0.1239 - val_accuracy: 0.9645 - lr: 1.0000e-06\n",
            "Epoch 44/50\n",
            "98/98 [==============================] - 0s 4ms/step - loss: 0.0573 - accuracy: 0.9758 - val_loss: 0.1240 - val_accuracy: 0.9645 - lr: 1.0000e-06\n",
            "Epoch 45/50\n",
            "96/98 [============================>.] - ETA: 0s - loss: 0.0648 - accuracy: 0.9727Restoring model weights from the end of the best epoch: 35.\n",
            "\n",
            "Epoch 45: ReduceLROnPlateau reducing learning rate to 1.0000001111620805e-07.\n",
            "98/98 [==============================] - 0s 4ms/step - loss: 0.0635 - accuracy: 0.9732 - val_loss: 0.1239 - val_accuracy: 0.9645 - lr: 1.0000e-06\n",
            "Epoch 45: early stopping\n"
          ]
        }
      ]
    },
    {
      "cell_type": "code",
      "source": [
        "plot_performance(LBP_history)"
      ],
      "metadata": {
        "colab": {
          "base_uri": "https://localhost:8080/",
          "height": 499
        },
        "id": "ypflRZWQhiFJ",
        "outputId": "e078b998-2eba-41d6-8af8-e4d0de7e362c"
      },
      "execution_count": 68,
      "outputs": [
        {
          "output_type": "display_data",
          "data": {
            "text/plain": [
              "<Figure size 864x576 with 2 Axes>"
            ],
            "image/png": "[encoded data removed]"
          },
          "metadata": {
            "needs_background": "light"
          }
        }
      ]
    },
    {
      "cell_type": "code",
      "source": [
        "LBP_acc = LBP_model.evaluate(Feature_X_test, y_test, verbose = 0)[1]\n",
        "acc.append(LBP_acc)\n",
        "print(\"LBP Accuracy :\",LBP_model.evaluate(Feature_X_test, y_test, verbose = 0)[1])\n",
        "LBP_model.save('LBP_model.h5')"
      ],
      "metadata": {
        "colab": {
          "base_uri": "https://localhost:8080/"
        },
        "id": "CzdnRPbThmc_",
        "outputId": "ee2513d7-44f7-4462-f4c0-429adc295b69"
      },
      "execution_count": 69,
      "outputs": [
        {
          "output_type": "stream",
          "name": "stdout",
          "text": [
            "LBP Accuracy : 0.9695431590080261\n"
          ]
        }
      ]
    },
    {
      "cell_type": "markdown",
      "source": [
        "#### SIFT Technique"
      ],
      "metadata": {
        "id": "ApUOct1zhsLt"
      }
    },
    {
      "cell_type": "code",
      "source": [
        "L = 3\n",
        "W = 3\n",
        "fig, axes = plt.subplots(L, W, figsize = (15,15))\n",
        "axes = axes.ravel()\n",
        "\n",
        "for i in range(0, L * W):  \n",
        "    sample = random.choice(data)\n",
        "    image8bit = cv2.normalize(sample[0], None, 0, 255, cv2.NORM_MINMAX).astype('uint8')\n",
        "    sift = cv2.SIFT_create()\n",
        "    kp, des = sift.detectAndCompute(image8bit,None)\n",
        "\n",
        "    img = cv2.drawKeypoints(image=image8bit, outImage=sample[0], keypoints = kp, flags = 4, color = (255, 0, 0))\n",
        "    axes[i].set_title(\"Expression = \"+str(CATEGORIES[sample[1]]))\n",
        "    axes[i].imshow(img, cmap='gray')\n",
        "    axes[i].axis('off')\n",
        "plt.subplots_adjust(wspace=0.5)"
      ],
      "metadata": {
        "colab": {
          "base_uri": "https://localhost:8080/",
          "height": 832
        },
        "id": "6zyevA6ohvyX",
        "outputId": "c553e1e0-4d42-40f7-aec8-f1c00043249a"
      },
      "execution_count": 70,
      "outputs": [
        {
          "output_type": "display_data",
          "data": {
            "text/plain": [
              "<Figure size 1080x1080 with 9 Axes>"
            ],
            "image/png": "[encoded data removed]"
          },
          "metadata": {
            "needs_background": "light"
          }
        }
      ]
    },
    {
      "cell_type": "code",
      "source": [
        "img.shape"
      ],
      "metadata": {
        "colab": {
          "base_uri": "https://localhost:8080/"
        },
        "id": "OR7S0LAIh2RG",
        "outputId": "77fc26f5-1326-45b3-f184-c3eb734bd0d6"
      },
      "execution_count": 71,
      "outputs": [
        {
          "output_type": "execute_result",
          "data": {
            "text/plain": [
              "(48, 48, 3)"
            ]
          },
          "metadata": {},
          "execution_count": 71
        }
      ]
    },
    {
      "cell_type": "markdown",
      "source": [
        "**Creating Feature Vectors for training and testing**"
      ],
      "metadata": {
        "id": "Epo2kmhGh-gF"
      }
    },
    {
      "cell_type": "code",
      "source": [
        "#so to create a feature vector we will have to create an empty array of shape (len(data), 48,48,3)\n",
        "def create_SIFT_features(data):\n",
        "    Feature_data = np.zeros((len(data),48,48,3))\n",
        "\n",
        "    for i in range(len(data)):\n",
        "        img = data[i]\n",
        "        image8bit = cv2.normalize(img, None, 0, 255, cv2.NORM_MINMAX).astype('uint8')\n",
        "        sift = cv2.SIFT_create()\n",
        "        kp, des = sift.detectAndCompute(image8bit,None)\n",
        "\n",
        "        img = cv2.drawKeypoints(image=image8bit, outImage=img, keypoints = kp, flags = 4, color = (255, 0, 0))\n",
        "        Feature_data[i] = img/255.0\n",
        "\n",
        "        \n",
        "    return Feature_data "
      ],
      "metadata": {
        "id": "1GhjrEJch7fr"
      },
      "execution_count": 72,
      "outputs": []
    },
    {
      "cell_type": "code",
      "source": [
        "X_train_SIFT = create_SIFT_features(X_train) \n",
        "X_train_SIFT.shape\n",
        "plt.imshow(X_train_SIFT[0], cmap='gray')"
      ],
      "metadata": {
        "colab": {
          "base_uri": "https://localhost:8080/",
          "height": 284
        },
        "id": "A6Qg5DcQiIqZ",
        "outputId": "2c77f00e-8175-43f7-8cbe-d9248b678e46"
      },
      "execution_count": 73,
      "outputs": [
        {
          "output_type": "execute_result",
          "data": {
            "text/plain": [
              "<matplotlib.image.AxesImage at 0x7fac025e4bb0>"
            ]
          },
          "metadata": {},
          "execution_count": 73
        },
        {
          "output_type": "display_data",
          "data": {
            "text/plain": [
              "<Figure size 432x288 with 1 Axes>"
            ],
            "image/png": "[encoded data removed]"
          },
          "metadata": {
            "needs_background": "light"
          }
        }
      ]
    },
    {
      "cell_type": "code",
      "source": [
        "X_test_SIFT = create_SIFT_features(X_test) \n",
        "X_test_SIFT.shape\n",
        "plt.imshow(X_test_SIFT[0], cmap='gray')"
      ],
      "metadata": {
        "colab": {
          "base_uri": "https://localhost:8080/",
          "height": 284
        },
        "id": "VYD-B55LiQ0V",
        "outputId": "897aa90c-d158-427e-c810-cbd6328f1c1c"
      },
      "execution_count": 74,
      "outputs": [
        {
          "output_type": "execute_result",
          "data": {
            "text/plain": [
              "<matplotlib.image.AxesImage at 0x7fac025b2af0>"
            ]
          },
          "metadata": {},
          "execution_count": 74
        },
        {
          "output_type": "display_data",
          "data": {
            "text/plain": [
              "<Figure size 432x288 with 1 Axes>"
            ],
            "image/png": "[encoded data removed]"
          },
          "metadata": {
            "needs_background": "light"
          }
        }
      ]
    },
    {
      "cell_type": "markdown",
      "source": [
        "**Training and testing SIFT-CNN model**"
      ],
      "metadata": {
        "id": "HSLulwYmuA7r"
      }
    },
    {
      "cell_type": "code",
      "source": [
        "SIFT_model = create_model(input_shape=(48,48,3))\n",
        "SIFT_model.compile(loss='categorical_crossentropy', metrics=['accuracy'], optimizer='adam' )"
      ],
      "metadata": {
        "id": "Ak9hx80CiVxP"
      },
      "execution_count": 75,
      "outputs": []
    },
    {
      "cell_type": "code",
      "source": [
        "SIFT_history = SIFT_model.fit(X_train_SIFT, y_train, batch_size=8 , epochs=50, validation_data = (X_test_SIFT, y_test),  callbacks = [callbacks])"
      ],
      "metadata": {
        "colab": {
          "base_uri": "https://localhost:8080/"
        },
        "id": "7_4_p8hkiYBS",
        "outputId": "53b73147-7140-4f73-e7a3-f92c7726674e"
      },
      "execution_count": 76,
      "outputs": [
        {
          "output_type": "stream",
          "name": "stdout",
          "text": [
            "Epoch 1/50\n",
            "98/98 [==============================] - 1s 7ms/step - loss: 1.8444 - accuracy: 0.2730 - val_loss: 1.6210 - val_accuracy: 0.4365 - lr: 0.0010\n",
            "Epoch 2/50\n",
            "98/98 [==============================] - 0s 5ms/step - loss: 1.3357 - accuracy: 0.5128 - val_loss: 1.1383 - val_accuracy: 0.5279 - lr: 0.0010\n",
            "Epoch 3/50\n",
            "98/98 [==============================] - 0s 4ms/step - loss: 1.0284 - accuracy: 0.6173 - val_loss: 0.7914 - val_accuracy: 0.6853 - lr: 0.0010\n",
            "Epoch 4/50\n",
            "98/98 [==============================] - 0s 5ms/step - loss: 0.7862 - accuracy: 0.7130 - val_loss: 0.6388 - val_accuracy: 0.7411 - lr: 0.0010\n",
            "Epoch 5/50\n",
            "98/98 [==============================] - 0s 4ms/step - loss: 0.6323 - accuracy: 0.7832 - val_loss: 0.5571 - val_accuracy: 0.7868 - lr: 0.0010\n",
            "Epoch 6/50\n",
            "98/98 [==============================] - 0s 4ms/step - loss: 0.5362 - accuracy: 0.8099 - val_loss: 0.4540 - val_accuracy: 0.8223 - lr: 0.0010\n",
            "Epoch 7/50\n",
            "98/98 [==============================] - 0s 4ms/step - loss: 0.4041 - accuracy: 0.8635 - val_loss: 0.4065 - val_accuracy: 0.8122 - lr: 0.0010\n",
            "Epoch 8/50\n",
            "98/98 [==============================] - 0s 4ms/step - loss: 0.3014 - accuracy: 0.8992 - val_loss: 0.4144 - val_accuracy: 0.8426 - lr: 0.0010\n",
            "Epoch 9/50\n",
            "98/98 [==============================] - 0s 4ms/step - loss: 0.3496 - accuracy: 0.8648 - val_loss: 0.3578 - val_accuracy: 0.8782 - lr: 0.0010\n",
            "Epoch 10/50\n",
            "98/98 [==============================] - 0s 5ms/step - loss: 0.2516 - accuracy: 0.9031 - val_loss: 0.2937 - val_accuracy: 0.8680 - lr: 0.0010\n",
            "Epoch 11/50\n",
            "98/98 [==============================] - 0s 5ms/step - loss: 0.1757 - accuracy: 0.9439 - val_loss: 0.3010 - val_accuracy: 0.8832 - lr: 0.0010\n",
            "Epoch 12/50\n",
            "98/98 [==============================] - 0s 4ms/step - loss: 0.1605 - accuracy: 0.9439 - val_loss: 0.3092 - val_accuracy: 0.8832 - lr: 0.0010\n",
            "Epoch 13/50\n",
            "98/98 [==============================] - 0s 4ms/step - loss: 0.1008 - accuracy: 0.9681 - val_loss: 0.2399 - val_accuracy: 0.9188 - lr: 0.0010\n",
            "Epoch 14/50\n",
            "98/98 [==============================] - 0s 4ms/step - loss: 0.1276 - accuracy: 0.9515 - val_loss: 0.2811 - val_accuracy: 0.8883 - lr: 0.0010\n",
            "Epoch 15/50\n",
            "98/98 [==============================] - 0s 4ms/step - loss: 0.1174 - accuracy: 0.9592 - val_loss: 0.2524 - val_accuracy: 0.9086 - lr: 0.0010\n",
            "Epoch 16/50\n",
            "98/98 [==============================] - 0s 4ms/step - loss: 0.0774 - accuracy: 0.9758 - val_loss: 0.1825 - val_accuracy: 0.9391 - lr: 0.0010\n",
            "Epoch 17/50\n",
            "98/98 [==============================] - 0s 4ms/step - loss: 0.1040 - accuracy: 0.9617 - val_loss: 0.2444 - val_accuracy: 0.9137 - lr: 0.0010\n",
            "Epoch 18/50\n",
            "98/98 [==============================] - 0s 4ms/step - loss: 0.0706 - accuracy: 0.9809 - val_loss: 0.2507 - val_accuracy: 0.9188 - lr: 0.0010\n",
            "Epoch 19/50\n",
            "98/98 [==============================] - 0s 4ms/step - loss: 0.0484 - accuracy: 0.9847 - val_loss: 0.2277 - val_accuracy: 0.9391 - lr: 0.0010\n",
            "Epoch 20/50\n",
            "98/98 [==============================] - 0s 5ms/step - loss: 0.0897 - accuracy: 0.9630 - val_loss: 0.2761 - val_accuracy: 0.9289 - lr: 0.0010\n",
            "Epoch 21/50\n",
            "92/98 [===========================>..] - ETA: 0s - loss: 0.0549 - accuracy: 0.9851\n",
            "Epoch 21: ReduceLROnPlateau reducing learning rate to 0.00010000000474974513.\n",
            "98/98 [==============================] - 0s 4ms/step - loss: 0.0558 - accuracy: 0.9847 - val_loss: 0.1994 - val_accuracy: 0.9391 - lr: 0.0010\n",
            "Epoch 22/50\n",
            "98/98 [==============================] - 0s 4ms/step - loss: 0.0437 - accuracy: 0.9821 - val_loss: 0.2112 - val_accuracy: 0.9442 - lr: 1.0000e-04\n",
            "Epoch 23/50\n",
            "98/98 [==============================] - 0s 4ms/step - loss: 0.0239 - accuracy: 0.9936 - val_loss: 0.1988 - val_accuracy: 0.9391 - lr: 1.0000e-04\n",
            "Epoch 24/50\n",
            "98/98 [==============================] - 0s 4ms/step - loss: 0.0256 - accuracy: 0.9923 - val_loss: 0.1997 - val_accuracy: 0.9391 - lr: 1.0000e-04\n",
            "Epoch 25/50\n",
            "98/98 [==============================] - 0s 4ms/step - loss: 0.0169 - accuracy: 0.9949 - val_loss: 0.2039 - val_accuracy: 0.9543 - lr: 1.0000e-04\n",
            "Epoch 26/50\n",
            "98/98 [==============================] - 0s 4ms/step - loss: 0.0226 - accuracy: 0.9911 - val_loss: 0.2034 - val_accuracy: 0.9543 - lr: 1.0000e-04\n",
            "Epoch 27/50\n",
            "98/98 [==============================] - 0s 4ms/step - loss: 0.0222 - accuracy: 0.9949 - val_loss: 0.2022 - val_accuracy: 0.9391 - lr: 1.0000e-04\n",
            "Epoch 28/50\n",
            "98/98 [==============================] - 0s 4ms/step - loss: 0.0193 - accuracy: 0.9974 - val_loss: 0.2060 - val_accuracy: 0.9340 - lr: 1.0000e-04\n",
            "Epoch 29/50\n",
            "98/98 [==============================] - 1s 5ms/step - loss: 0.0111 - accuracy: 1.0000 - val_loss: 0.2084 - val_accuracy: 0.9391 - lr: 1.0000e-04\n",
            "Epoch 30/50\n",
            "97/98 [============================>.] - ETA: 0s - loss: 0.0181 - accuracy: 0.9961\n",
            "Epoch 30: ReduceLROnPlateau reducing learning rate to 1.0000000474974514e-05.\n",
            "98/98 [==============================] - 1s 7ms/step - loss: 0.0186 - accuracy: 0.9962 - val_loss: 0.2083 - val_accuracy: 0.9442 - lr: 1.0000e-04\n",
            "Epoch 31/50\n",
            "98/98 [==============================] - 1s 6ms/step - loss: 0.0134 - accuracy: 0.9974 - val_loss: 0.2090 - val_accuracy: 0.9442 - lr: 1.0000e-05\n",
            "Epoch 32/50\n",
            "98/98 [==============================] - 0s 4ms/step - loss: 0.0203 - accuracy: 0.9949 - val_loss: 0.2090 - val_accuracy: 0.9442 - lr: 1.0000e-05\n",
            "Epoch 33/50\n",
            "98/98 [==============================] - 1s 7ms/step - loss: 0.0180 - accuracy: 0.9936 - val_loss: 0.2097 - val_accuracy: 0.9442 - lr: 1.0000e-05\n",
            "Epoch 34/50\n",
            "98/98 [==============================] - 0s 5ms/step - loss: 0.0261 - accuracy: 0.9936 - val_loss: 0.2091 - val_accuracy: 0.9442 - lr: 1.0000e-05\n",
            "Epoch 35/50\n",
            "87/98 [=========================>....] - ETA: 0s - loss: 0.0202 - accuracy: 0.9957Restoring model weights from the end of the best epoch: 25.\n",
            "\n",
            "Epoch 35: ReduceLROnPlateau reducing learning rate to 1.0000000656873453e-06.\n",
            "98/98 [==============================] - 1s 5ms/step - loss: 0.0221 - accuracy: 0.9949 - val_loss: 0.2104 - val_accuracy: 0.9442 - lr: 1.0000e-05\n",
            "Epoch 35: early stopping\n"
          ]
        }
      ]
    },
    {
      "cell_type": "code",
      "source": [
        "plot_performance(SIFT_history)"
      ],
      "metadata": {
        "colab": {
          "base_uri": "https://localhost:8080/",
          "height": 499
        },
        "id": "OrmuLqhkibyd",
        "outputId": "005c94ab-3ed1-4273-b77e-ed0f8add67a2"
      },
      "execution_count": 77,
      "outputs": [
        {
          "output_type": "display_data",
          "data": {
            "text/plain": [
              "<Figure size 864x576 with 2 Axes>"
            ],
            "image/png": "[encoded data removed]"
          },
          "metadata": {
            "needs_background": "light"
          }
        }
      ]
    },
    {
      "cell_type": "code",
      "source": [
        "SIFT_acc = SIFT_model.evaluate(X_test_SIFT, y_test, verbose = 0)[1]\n",
        "acc.append(SIFT_acc)\n",
        "print(\"SIFT Accuracy :\",SIFT_model.evaluate(X_test_SIFT, y_test, verbose = 0)[1])\n",
        "SIFT_model.save('SIFT_model.h5')"
      ],
      "metadata": {
        "colab": {
          "base_uri": "https://localhost:8080/"
        },
        "id": "rGmG1S9oid-_",
        "outputId": "c846f1a6-5df0-40b0-ca0f-144c5552ce7f"
      },
      "execution_count": 78,
      "outputs": [
        {
          "output_type": "stream",
          "name": "stdout",
          "text": [
            "SIFT Accuracy : 0.9543147087097168\n"
          ]
        }
      ]
    },
    {
      "cell_type": "markdown",
      "source": [
        "#### Gabor Filters"
      ],
      "metadata": {
        "id": "5Nk3qfkdimKj"
      }
    },
    {
      "cell_type": "code",
      "source": [
        "def Gabor_filter(K_size=111, Sigma=10, Gamma=1.2, Lambda=10, Psi=0, angle=0):\n",
        "    # get half size\n",
        "    d = K_size // 2\n",
        "\n",
        "    # prepare kernel\n",
        "    gabor = np.zeros((K_size, K_size), dtype=np.float32)\n",
        "\n",
        "    # each value\n",
        "    for y in range(K_size):\n",
        "        for x in range(K_size):\n",
        "            # distance from center\n",
        "            px = x - d\n",
        "            py = y - d\n",
        "\n",
        "            # degree -> radian\n",
        "            theta = angle / 180. * np.pi\n",
        "\n",
        "            # get kernel x\n",
        "            _x = np.cos(theta) * px + np.sin(theta) * py\n",
        "\n",
        "            # get kernel y\n",
        "            _y = -np.sin(theta) * px + np.cos(theta) * py\n",
        "\n",
        "            # fill kernel\n",
        "            gabor[y, x] = np.exp(-(_x**2 + Gamma**2 * _y**2) / (2 * Sigma**2)) * np.cos(2*np.pi*_x/Lambda + Psi)\n",
        "\n",
        "    # kernel normalization\n",
        "    gabor /= np.sum(np.abs(gabor))\n",
        "\n",
        "    return gabor\n",
        "\n",
        "\n",
        "# Use Gabor filter to act on the image\n",
        "def Gabor_filtering(gray, K_size=111, Sigma=10, Gamma=1.2, Lambda=10, Psi=0, angle=0):\n",
        "    # get shape\n",
        "    H, W = gray.shape\n",
        "\n",
        "    # padding\n",
        "    gray = np.pad(gray, (K_size//2, K_size//2), 'edge')\n",
        "\n",
        "    # prepare out image\n",
        "    out = np.zeros((H, W), dtype=np.float32)\n",
        "\n",
        "    # get gabor filter\n",
        "    gabor = Gabor_filter(K_size=K_size, Sigma=Sigma, Gamma=Gamma, Lambda=Lambda, Psi=0, angle=angle)\n",
        "\n",
        "    # filtering\n",
        "    for y in range(H):\n",
        "        for x in range(W):\n",
        "            out[y, x] = np.sum(gray[y : y + K_size, x : x + K_size] * gabor)\n",
        "\n",
        "    out = np.clip(out, 0, 255)\n",
        "    out = out.astype(np.uint8)\n",
        "\n",
        "    return out\n",
        "\n",
        "\n",
        "# Use 6 Gabor filters with different angles to perform feature extraction on the image\n",
        "def Gabor_process(img):\n",
        "#     print(img.shape)\n",
        "    # get shape\n",
        "    H, W = img.shape\n",
        "\n",
        "    # gray scale\n",
        "#     gray = BGR2GRAY(img).astype(np.float32)\n",
        "\n",
        "    # define angle\n",
        "    #As = [0, 45, 90, 135]\n",
        "    As = [0,30,60,90,120,150]\n",
        "\n",
        "    # prepare pyplot\n",
        "#     plt.subplots_adjust(left=0, right=1, top=1, bottom=0, hspace=0, wspace=0.2)\n",
        "\n",
        "    out = np.zeros([H, W], dtype=np.float32)\n",
        "\n",
        "    # each angle\n",
        "    for i, A in enumerate(As):\n",
        "    \n",
        "        # gabor filtering\n",
        "        _out = Gabor_filtering(img, K_size=11, Sigma=1.5, Gamma=1.2, Lambda=3, angle=A)\n",
        "         \n",
        "\n",
        "        # add gabor filtered image\n",
        "        out += _out\n",
        "        \n",
        "\n",
        "    # scale normalization\n",
        "    out = out /out.max()*255\n",
        "    out = out.astype(np.uint8)\n",
        "\n",
        "    return out"
      ],
      "metadata": {
        "id": "OPgyfmPsioQU"
      },
      "execution_count": 79,
      "outputs": []
    },
    {
      "cell_type": "code",
      "source": [
        "def create_Gabor_features(data):\n",
        "    Feature_data = np.zeros((len(data),48,48,1))\n",
        "\n",
        "    for i in range(len(data)):\n",
        "        img = data[i]\n",
        "        out = Gabor_process(img)\n",
        "        out = np.expand_dims(out , axis = 2) # adding color channel\n",
        "        Feature_data[i] = out/255.00\n",
        "\n",
        "        \n",
        "    return Feature_data "
      ],
      "metadata": {
        "id": "sCIV83C9iyZj"
      },
      "execution_count": 80,
      "outputs": []
    },
    {
      "cell_type": "code",
      "source": [
        "X_train.shape\n",
        "plt.imshow(X_train_Gabor[0]/255.0, cmap ='gray')"
      ],
      "metadata": {
        "colab": {
          "base_uri": "https://localhost:8080/",
          "height": 284
        },
        "id": "xq3ZMv2Ei1P4",
        "outputId": "7758a711-1d2e-461d-be83-f682a838d2fc"
      },
      "execution_count": 81,
      "outputs": [
        {
          "output_type": "execute_result",
          "data": {
            "text/plain": [
              "<matplotlib.image.AxesImage at 0x7fac03717eb0>"
            ]
          },
          "metadata": {},
          "execution_count": 81
        },
        {
          "output_type": "display_data",
          "data": {
            "text/plain": [
              "<Figure size 432x288 with 1 Axes>"
            ],
            "image/png": "[encoded data removed]"
          },
          "metadata": {
            "needs_background": "light"
          }
        }
      ]
    },
    {
      "cell_type": "code",
      "source": [
        "X_train_Gabor=create_Gabor_features(X_train_Gabor)\n",
        "X_test_Gabor=create_Gabor_features(X_test_Gabor)\n",
        "\n",
        "X_train_Gabor.shape , X_test_Gabor.shape"
      ],
      "metadata": {
        "colab": {
          "base_uri": "https://localhost:8080/"
        },
        "id": "X6kfGU_Fi7cy",
        "outputId": "3759a154-451c-449e-a868-15ccdce9b7d1"
      },
      "execution_count": 82,
      "outputs": [
        {
          "output_type": "execute_result",
          "data": {
            "text/plain": [
              "((784, 48, 48, 1), (197, 48, 48, 1))"
            ]
          },
          "metadata": {},
          "execution_count": 82
        }
      ]
    },
    {
      "cell_type": "code",
      "source": [
        "sample = random.randint(100,500)\n",
        "plt.subplot(1,2,1)\n",
        "plt.imshow(X_train[sample][:,:,0],cmap='gray')\n",
        "plt.axis(\"off\")\n",
        "plt.subplot(1,2,2)\n",
        "plt.imshow(X_train_Gabor[sample][:,:,0],cmap='gray')\n",
        "plt.axis(\"off\")\n",
        "X_train_Gabor.shape"
      ],
      "metadata": {
        "colab": {
          "base_uri": "https://localhost:8080/",
          "height": 200
        },
        "id": "uTum08rCi963",
        "outputId": "bcf82d80-4b85-46c8-c3a4-494f7e723593"
      },
      "execution_count": 84,
      "outputs": [
        {
          "output_type": "execute_result",
          "data": {
            "text/plain": [
              "(784, 48, 48, 1)"
            ]
          },
          "metadata": {},
          "execution_count": 84
        },
        {
          "output_type": "display_data",
          "data": {
            "text/plain": [
              "<Figure size 432x288 with 2 Axes>"
            ],
            "image/png": "[encoded data removed]"
          },
          "metadata": {
            "needs_background": "light"
          }
        }
      ]
    },
    {
      "cell_type": "markdown",
      "source": [
        "**Training and testing Gabor-CNN model**"
      ],
      "metadata": {
        "id": "soX7RiUVuKbx"
      }
    },
    {
      "cell_type": "code",
      "source": [
        "Gabor_model = create_model()\n",
        "Gabor_model.compile(loss='categorical_crossentropy', metrics=['accuracy'], optimizer='adam' )"
      ],
      "metadata": {
        "id": "DJIO9sSmjDWa"
      },
      "execution_count": 85,
      "outputs": []
    },
    {
      "cell_type": "code",
      "source": [
        "Gabor_history = Gabor_model.fit(X_train_Gabor, y_train, batch_size=8 , epochs=50, validation_data = (X_test_Gabor, y_test) ,callbacks = [callbacks])"
      ],
      "metadata": {
        "colab": {
          "base_uri": "https://localhost:8080/"
        },
        "id": "-lCKWH2kjFEA",
        "outputId": "c7a6ae02-7aba-48c7-d87a-6b424d9109dd"
      },
      "execution_count": 86,
      "outputs": [
        {
          "output_type": "stream",
          "name": "stdout",
          "text": [
            "Epoch 1/50\n",
            "98/98 [==============================] - 1s 6ms/step - loss: 1.8449 - accuracy: 0.2883 - val_loss: 1.7090 - val_accuracy: 0.4619 - lr: 0.0010\n",
            "Epoch 2/50\n",
            "98/98 [==============================] - 0s 4ms/step - loss: 1.5243 - accuracy: 0.4732 - val_loss: 1.1572 - val_accuracy: 0.5990 - lr: 0.0010\n",
            "Epoch 3/50\n",
            "98/98 [==============================] - 0s 4ms/step - loss: 1.1127 - accuracy: 0.6339 - val_loss: 0.8951 - val_accuracy: 0.6853 - lr: 0.0010\n",
            "Epoch 4/50\n",
            "98/98 [==============================] - 0s 5ms/step - loss: 0.8456 - accuracy: 0.7041 - val_loss: 0.6747 - val_accuracy: 0.7665 - lr: 0.0010\n",
            "Epoch 5/50\n",
            "98/98 [==============================] - 0s 4ms/step - loss: 0.6373 - accuracy: 0.7895 - val_loss: 0.5311 - val_accuracy: 0.8325 - lr: 0.0010\n",
            "Epoch 6/50\n",
            "98/98 [==============================] - 0s 4ms/step - loss: 0.5144 - accuracy: 0.8278 - val_loss: 0.3691 - val_accuracy: 0.8731 - lr: 0.0010\n",
            "Epoch 7/50\n",
            "98/98 [==============================] - 0s 4ms/step - loss: 0.4103 - accuracy: 0.8622 - val_loss: 0.3212 - val_accuracy: 0.8934 - lr: 0.0010\n",
            "Epoch 8/50\n",
            "98/98 [==============================] - 0s 4ms/step - loss: 0.3412 - accuracy: 0.8763 - val_loss: 0.2493 - val_accuracy: 0.9086 - lr: 0.0010\n",
            "Epoch 9/50\n",
            "98/98 [==============================] - 0s 4ms/step - loss: 0.2824 - accuracy: 0.9133 - val_loss: 0.2509 - val_accuracy: 0.9188 - lr: 0.0010\n",
            "Epoch 10/50\n",
            "98/98 [==============================] - 0s 4ms/step - loss: 0.2382 - accuracy: 0.9133 - val_loss: 0.1776 - val_accuracy: 0.9442 - lr: 0.0010\n",
            "Epoch 11/50\n",
            "98/98 [==============================] - 0s 4ms/step - loss: 0.1620 - accuracy: 0.9464 - val_loss: 0.1619 - val_accuracy: 0.9543 - lr: 0.0010\n",
            "Epoch 12/50\n",
            "98/98 [==============================] - 0s 4ms/step - loss: 0.1559 - accuracy: 0.9464 - val_loss: 0.1297 - val_accuracy: 0.9594 - lr: 0.0010\n",
            "Epoch 13/50\n",
            "98/98 [==============================] - 0s 4ms/step - loss: 0.1467 - accuracy: 0.9490 - val_loss: 0.1058 - val_accuracy: 0.9442 - lr: 0.0010\n",
            "Epoch 14/50\n",
            "98/98 [==============================] - 0s 4ms/step - loss: 0.1228 - accuracy: 0.9630 - val_loss: 0.0820 - val_accuracy: 0.9746 - lr: 0.0010\n",
            "Epoch 15/50\n",
            "98/98 [==============================] - 1s 5ms/step - loss: 0.0989 - accuracy: 0.9707 - val_loss: 0.0772 - val_accuracy: 0.9797 - lr: 0.0010\n",
            "Epoch 16/50\n",
            "98/98 [==============================] - 0s 4ms/step - loss: 0.1046 - accuracy: 0.9605 - val_loss: 0.1259 - val_accuracy: 0.9695 - lr: 0.0010\n",
            "Epoch 17/50\n",
            "98/98 [==============================] - 0s 4ms/step - loss: 0.0820 - accuracy: 0.9770 - val_loss: 0.1524 - val_accuracy: 0.9594 - lr: 0.0010\n",
            "Epoch 18/50\n",
            "98/98 [==============================] - 0s 4ms/step - loss: 0.1048 - accuracy: 0.9681 - val_loss: 0.0272 - val_accuracy: 0.9898 - lr: 0.0010\n",
            "Epoch 19/50\n",
            "98/98 [==============================] - 0s 4ms/step - loss: 0.0706 - accuracy: 0.9783 - val_loss: 0.0906 - val_accuracy: 0.9848 - lr: 0.0010\n",
            "Epoch 20/50\n",
            "98/98 [==============================] - 0s 4ms/step - loss: 0.0857 - accuracy: 0.9694 - val_loss: 0.1277 - val_accuracy: 0.9695 - lr: 0.0010\n",
            "Epoch 21/50\n",
            "98/98 [==============================] - 0s 4ms/step - loss: 0.0792 - accuracy: 0.9719 - val_loss: 0.1289 - val_accuracy: 0.9645 - lr: 0.0010\n",
            "Epoch 22/50\n",
            "98/98 [==============================] - 0s 4ms/step - loss: 0.0604 - accuracy: 0.9821 - val_loss: 0.0483 - val_accuracy: 0.9746 - lr: 0.0010\n",
            "Epoch 23/50\n",
            "95/98 [============================>.] - ETA: 0s - loss: 0.0616 - accuracy: 0.9763\n",
            "Epoch 23: ReduceLROnPlateau reducing learning rate to 0.00010000000474974513.\n",
            "98/98 [==============================] - 0s 4ms/step - loss: 0.0666 - accuracy: 0.9758 - val_loss: 0.1074 - val_accuracy: 0.9746 - lr: 0.0010\n",
            "Epoch 24/50\n",
            "98/98 [==============================] - 0s 4ms/step - loss: 0.0606 - accuracy: 0.9770 - val_loss: 0.1114 - val_accuracy: 0.9797 - lr: 1.0000e-04\n",
            "Epoch 25/50\n",
            "98/98 [==============================] - 0s 4ms/step - loss: 0.0395 - accuracy: 0.9860 - val_loss: 0.1179 - val_accuracy: 0.9797 - lr: 1.0000e-04\n",
            "Epoch 26/50\n",
            "98/98 [==============================] - 0s 4ms/step - loss: 0.0324 - accuracy: 0.9911 - val_loss: 0.1059 - val_accuracy: 0.9797 - lr: 1.0000e-04\n",
            "Epoch 27/50\n",
            "98/98 [==============================] - 0s 4ms/step - loss: 0.0355 - accuracy: 0.9911 - val_loss: 0.1377 - val_accuracy: 0.9848 - lr: 1.0000e-04\n",
            "Epoch 28/50\n",
            "91/98 [==========================>...] - ETA: 0s - loss: 0.0209 - accuracy: 0.9931Restoring model weights from the end of the best epoch: 18.\n",
            "\n",
            "Epoch 28: ReduceLROnPlateau reducing learning rate to 1.0000000474974514e-05.\n",
            "98/98 [==============================] - 0s 4ms/step - loss: 0.0197 - accuracy: 0.9936 - val_loss: 0.1347 - val_accuracy: 0.9848 - lr: 1.0000e-04\n",
            "Epoch 28: early stopping\n"
          ]
        }
      ]
    },
    {
      "cell_type": "code",
      "source": [
        "plot_performance(Gabor_history)"
      ],
      "metadata": {
        "colab": {
          "base_uri": "https://localhost:8080/",
          "height": 499
        },
        "id": "6GZATxU9jIKs",
        "outputId": "867d249a-a407-4f66-9ece-87886f9a12a6"
      },
      "execution_count": 87,
      "outputs": [
        {
          "output_type": "display_data",
          "data": {
            "text/plain": [
              "<Figure size 864x576 with 2 Axes>"
            ],
            "image/png": "[encoded data removed]"
          },
          "metadata": {
            "needs_background": "light"
          }
        }
      ]
    },
    {
      "cell_type": "code",
      "source": [
        "Gabor_acc = Gabor_model.evaluate(X_test_Gabor, y_test, verbose = 0)[1]\n",
        "acc.append(Gabor_acc)\n",
        "print(\"Gabor Accuracy :\",Gabor_model.evaluate(X_test_Gabor, y_test, verbose = 0)[1])\n",
        "Gabor_model.save('Gabor_model.h5')"
      ],
      "metadata": {
        "colab": {
          "base_uri": "https://localhost:8080/"
        },
        "id": "kCbi7IHDjLI9",
        "outputId": "422d42e7-3bee-4d4d-bb77-19981f4b198e"
      },
      "execution_count": 88,
      "outputs": [
        {
          "output_type": "stream",
          "name": "stdout",
          "text": [
            "Gabor Accuracy : 0.989847719669342\n"
          ]
        }
      ]
    },
    {
      "cell_type": "markdown",
      "source": [
        "## Without Feature Extraction"
      ],
      "metadata": {
        "id": "tv5McS8hjQBR"
      }
    },
    {
      "cell_type": "code",
      "source": [
        "WFE_model = create_model()\n",
        "WFE_model.compile(loss='categorical_crossentropy', metrics=['accuracy'], optimizer='adam' )\n",
        "WFE_history = WFE_model.fit(X_train, y_train, batch_size=8 , epochs=50, validation_data = (X_test, y_test) ,callbacks = [callbacks])"
      ],
      "metadata": {
        "colab": {
          "base_uri": "https://localhost:8080/"
        },
        "id": "Heyt5OaKjUd4",
        "outputId": "6b9a088c-ce88-4495-c7e3-ec478ec610d8"
      },
      "execution_count": 89,
      "outputs": [
        {
          "output_type": "stream",
          "name": "stdout",
          "text": [
            "Epoch 1/50\n",
            "98/98 [==============================] - 1s 6ms/step - loss: 1.7547 - accuracy: 0.3546 - val_loss: 1.3285 - val_accuracy: 0.6244 - lr: 0.0010\n",
            "Epoch 2/50\n",
            "98/98 [==============================] - 0s 4ms/step - loss: 1.1169 - accuracy: 0.5918 - val_loss: 0.7959 - val_accuracy: 0.7513 - lr: 0.0010\n",
            "Epoch 3/50\n",
            "98/98 [==============================] - 0s 4ms/step - loss: 0.8176 - accuracy: 0.7105 - val_loss: 0.6182 - val_accuracy: 0.7614 - lr: 0.0010\n",
            "Epoch 4/50\n",
            "98/98 [==============================] - 0s 4ms/step - loss: 0.6137 - accuracy: 0.7857 - val_loss: 0.4115 - val_accuracy: 0.8629 - lr: 0.0010\n",
            "Epoch 5/50\n",
            "98/98 [==============================] - 0s 4ms/step - loss: 0.4708 - accuracy: 0.8163 - val_loss: 0.3502 - val_accuracy: 0.8680 - lr: 0.0010\n",
            "Epoch 6/50\n",
            "98/98 [==============================] - 0s 5ms/step - loss: 0.3539 - accuracy: 0.8737 - val_loss: 0.2416 - val_accuracy: 0.9036 - lr: 0.0010\n",
            "Epoch 7/50\n",
            "98/98 [==============================] - 0s 4ms/step - loss: 0.2847 - accuracy: 0.8954 - val_loss: 0.2665 - val_accuracy: 0.9239 - lr: 0.0010\n",
            "Epoch 8/50\n",
            "98/98 [==============================] - 0s 4ms/step - loss: 0.2180 - accuracy: 0.9222 - val_loss: 0.1829 - val_accuracy: 0.9391 - lr: 0.0010\n",
            "Epoch 9/50\n",
            "98/98 [==============================] - 0s 4ms/step - loss: 0.1850 - accuracy: 0.9401 - val_loss: 0.1598 - val_accuracy: 0.9645 - lr: 0.0010\n",
            "Epoch 10/50\n",
            "98/98 [==============================] - 0s 4ms/step - loss: 0.1739 - accuracy: 0.9401 - val_loss: 0.1380 - val_accuracy: 0.9492 - lr: 0.0010\n",
            "Epoch 11/50\n",
            "98/98 [==============================] - 0s 4ms/step - loss: 0.1488 - accuracy: 0.9503 - val_loss: 0.1788 - val_accuracy: 0.9391 - lr: 0.0010\n",
            "Epoch 12/50\n",
            "98/98 [==============================] - 0s 5ms/step - loss: 0.1141 - accuracy: 0.9656 - val_loss: 0.1353 - val_accuracy: 0.9695 - lr: 0.0010\n",
            "Epoch 13/50\n",
            "98/98 [==============================] - 1s 8ms/step - loss: 0.0948 - accuracy: 0.9681 - val_loss: 0.0985 - val_accuracy: 0.9797 - lr: 0.0010\n",
            "Epoch 14/50\n",
            "98/98 [==============================] - 0s 4ms/step - loss: 0.0891 - accuracy: 0.9732 - val_loss: 0.1039 - val_accuracy: 0.9797 - lr: 0.0010\n",
            "Epoch 15/50\n",
            "98/98 [==============================] - 1s 7ms/step - loss: 0.0808 - accuracy: 0.9719 - val_loss: 0.0604 - val_accuracy: 0.9848 - lr: 0.0010\n",
            "Epoch 16/50\n",
            "98/98 [==============================] - 0s 4ms/step - loss: 0.0773 - accuracy: 0.9770 - val_loss: 0.0449 - val_accuracy: 0.9848 - lr: 0.0010\n",
            "Epoch 17/50\n",
            "98/98 [==============================] - 0s 4ms/step - loss: 0.0700 - accuracy: 0.9719 - val_loss: 0.0988 - val_accuracy: 0.9695 - lr: 0.0010\n",
            "Epoch 18/50\n",
            "98/98 [==============================] - 0s 4ms/step - loss: 0.0636 - accuracy: 0.9796 - val_loss: 0.0301 - val_accuracy: 0.9848 - lr: 0.0010\n",
            "Epoch 19/50\n",
            "98/98 [==============================] - 0s 4ms/step - loss: 0.0327 - accuracy: 0.9885 - val_loss: 0.0386 - val_accuracy: 0.9848 - lr: 0.0010\n",
            "Epoch 20/50\n",
            "87/98 [=========================>....] - ETA: 0s - loss: 0.0527 - accuracy: 0.9828\n",
            "Epoch 20: ReduceLROnPlateau reducing learning rate to 0.00010000000474974513.\n",
            "98/98 [==============================] - 1s 5ms/step - loss: 0.0517 - accuracy: 0.9834 - val_loss: 0.0969 - val_accuracy: 0.9695 - lr: 0.0010\n",
            "Epoch 21/50\n",
            "98/98 [==============================] - 0s 4ms/step - loss: 0.0568 - accuracy: 0.9783 - val_loss: 0.0368 - val_accuracy: 0.9848 - lr: 1.0000e-04\n",
            "Epoch 22/50\n",
            "98/98 [==============================] - 0s 4ms/step - loss: 0.0265 - accuracy: 0.9949 - val_loss: 0.0369 - val_accuracy: 0.9797 - lr: 1.0000e-04\n",
            "Epoch 23/50\n",
            "98/98 [==============================] - 0s 4ms/step - loss: 0.0301 - accuracy: 0.9885 - val_loss: 0.0325 - val_accuracy: 0.9848 - lr: 1.0000e-04\n",
            "Epoch 24/50\n",
            "98/98 [==============================] - 0s 4ms/step - loss: 0.0193 - accuracy: 0.9974 - val_loss: 0.0448 - val_accuracy: 0.9848 - lr: 1.0000e-04\n",
            "Epoch 25/50\n",
            "98/98 [==============================] - 0s 4ms/step - loss: 0.0217 - accuracy: 0.9923 - val_loss: 0.0255 - val_accuracy: 0.9898 - lr: 1.0000e-04\n",
            "Epoch 26/50\n",
            "98/98 [==============================] - 0s 4ms/step - loss: 0.0208 - accuracy: 0.9962 - val_loss: 0.0422 - val_accuracy: 0.9848 - lr: 1.0000e-04\n",
            "Epoch 27/50\n",
            "98/98 [==============================] - 0s 4ms/step - loss: 0.0176 - accuracy: 0.9949 - val_loss: 0.0386 - val_accuracy: 0.9848 - lr: 1.0000e-04\n",
            "Epoch 28/50\n",
            "98/98 [==============================] - 0s 4ms/step - loss: 0.0228 - accuracy: 0.9962 - val_loss: 0.0331 - val_accuracy: 0.9848 - lr: 1.0000e-04\n",
            "Epoch 29/50\n",
            "98/98 [==============================] - 0s 4ms/step - loss: 0.0184 - accuracy: 0.9962 - val_loss: 0.0362 - val_accuracy: 0.9848 - lr: 1.0000e-04\n",
            "Epoch 30/50\n",
            "87/98 [=========================>....] - ETA: 0s - loss: 0.0110 - accuracy: 0.9986\n",
            "Epoch 30: ReduceLROnPlateau reducing learning rate to 1.0000000474974514e-05.\n",
            "98/98 [==============================] - 0s 4ms/step - loss: 0.0126 - accuracy: 0.9974 - val_loss: 0.0415 - val_accuracy: 0.9848 - lr: 1.0000e-04\n",
            "Epoch 31/50\n",
            "98/98 [==============================] - 0s 4ms/step - loss: 0.0170 - accuracy: 0.9936 - val_loss: 0.0399 - val_accuracy: 0.9848 - lr: 1.0000e-05\n",
            "Epoch 32/50\n",
            "98/98 [==============================] - 0s 4ms/step - loss: 0.0239 - accuracy: 0.9949 - val_loss: 0.0394 - val_accuracy: 0.9848 - lr: 1.0000e-05\n",
            "Epoch 33/50\n",
            "98/98 [==============================] - 0s 4ms/step - loss: 0.0156 - accuracy: 0.9962 - val_loss: 0.0405 - val_accuracy: 0.9848 - lr: 1.0000e-05\n",
            "Epoch 34/50\n",
            "98/98 [==============================] - 0s 4ms/step - loss: 0.0116 - accuracy: 0.9987 - val_loss: 0.0402 - val_accuracy: 0.9848 - lr: 1.0000e-05\n",
            "Epoch 35/50\n",
            "93/98 [===========================>..] - ETA: 0s - loss: 0.0231 - accuracy: 0.9879Restoring model weights from the end of the best epoch: 25.\n",
            "\n",
            "Epoch 35: ReduceLROnPlateau reducing learning rate to 1.0000000656873453e-06.\n",
            "98/98 [==============================] - 0s 4ms/step - loss: 0.0230 - accuracy: 0.9885 - val_loss: 0.0370 - val_accuracy: 0.9848 - lr: 1.0000e-05\n",
            "Epoch 35: early stopping\n"
          ]
        }
      ]
    },
    {
      "cell_type": "code",
      "source": [
        "plot_performance(WFE_history)"
      ],
      "metadata": {
        "colab": {
          "base_uri": "https://localhost:8080/",
          "height": 499
        },
        "id": "6-JORXDUjaRd",
        "outputId": "28878933-0ce8-40ea-fd30-865493e5039b"
      },
      "execution_count": 91,
      "outputs": [
        {
          "output_type": "display_data",
          "data": {
            "text/plain": [
              "<Figure size 864x576 with 2 Axes>"
            ],
            "image/png": "[encoded data removed]"
          },
          "metadata": {
            "needs_background": "light"
          }
        }
      ]
    },
    {
      "cell_type": "code",
      "source": [
        "WFE_acc = WFE_model.evaluate(X_test, y_test, verbose = 0)[1]\n",
        "acc.append(WFE_acc)\n",
        "print(\"Without Feature extraction Accuracy :\", WFE_acc)\n",
        "WFE_model.save('WFE_model.h5')"
      ],
      "metadata": {
        "colab": {
          "base_uri": "https://localhost:8080/"
        },
        "id": "OtGVqQxmjcuJ",
        "outputId": "b4eab2b9-7d40-4e59-ffef-fa1671c42072"
      },
      "execution_count": 92,
      "outputs": [
        {
          "output_type": "stream",
          "name": "stdout",
          "text": [
            "Without Feature extraction Accuracy : 0.989847719669342\n"
          ]
        }
      ]
    },
    {
      "cell_type": "markdown",
      "source": [
        "## Comparing accuracies"
      ],
      "metadata": {
        "id": "0G0Mmm9wjhHR"
      }
    },
    {
      "cell_type": "code",
      "source": [
        "acc"
      ],
      "metadata": {
        "colab": {
          "base_uri": "https://localhost:8080/"
        },
        "id": "mIQD6zTfj5Ut",
        "outputId": "504171be-533e-4dcc-e5c8-ac962ce0cf28"
      },
      "execution_count": 93,
      "outputs": [
        {
          "output_type": "execute_result",
          "data": {
            "text/plain": [
              "[0.9441624283790588,\n",
              " 0.9695431590080261,\n",
              " 0.9543147087097168,\n",
              " 0.989847719669342,\n",
              " 0.989847719669342]"
            ]
          },
          "metadata": {},
          "execution_count": 93
        }
      ]
    },
    {
      "cell_type": "code",
      "source": [
        "results = pd.DataFrame(acc, index=['HOG', 'LBP', 'SIFT', 'Gabor', 'Without Feature Extraction'], columns = ['Accuracies'])\n",
        "dfStyler = results.style.set_properties(**{'text-align': 'left'})\n",
        "dfStyler.set_table_styles([dict(selector='th', props=[('text-align', 'left')])])"
      ],
      "metadata": {
        "colab": {
          "base_uri": "https://localhost:8080/",
          "height": 206
        },
        "id": "-5Fpe4A0kCbA",
        "outputId": "26294b6d-eba0-4132-ce99-7e5c51b2fe59"
      },
      "execution_count": 94,
      "outputs": [
        {
          "output_type": "execute_result",
          "data": {
            "text/plain": [
              "<pandas.io.formats.style.Styler at 0x7fac037a20a0>"
            ],
            "text/html": [
              "<style type=\"text/css\">\n",
              "#T_ab52b_ th {\n",
              "  text-align: left;\n",
              "}\n",
              "#T_ab52b_row0_col0, #T_ab52b_row1_col0, #T_ab52b_row2_col0, #T_ab52b_row3_col0, #T_ab52b_row4_col0 {\n",
              "  text-align: left;\n",
              "}\n",
              "</style>\n",
              "<table id=\"T_ab52b_\" class=\"dataframe\">\n",
              "  <thead>\n",
              "    <tr>\n",
              "      <th class=\"blank level0\" >&nbsp;</th>\n",
              "      <th class=\"col_heading level0 col0\" >Accuracies</th>\n",
              "    </tr>\n",
              "  </thead>\n",
              "  <tbody>\n",
              "    <tr>\n",
              "      <th id=\"T_ab52b_level0_row0\" class=\"row_heading level0 row0\" >HOG</th>\n",
              "      <td id=\"T_ab52b_row0_col0\" class=\"data row0 col0\" >0.944162</td>\n",
              "    </tr>\n",
              "    <tr>\n",
              "      <th id=\"T_ab52b_level0_row1\" class=\"row_heading level0 row1\" >LBP</th>\n",
              "      <td id=\"T_ab52b_row1_col0\" class=\"data row1 col0\" >0.969543</td>\n",
              "    </tr>\n",
              "    <tr>\n",
              "      <th id=\"T_ab52b_level0_row2\" class=\"row_heading level0 row2\" >SIFT</th>\n",
              "      <td id=\"T_ab52b_row2_col0\" class=\"data row2 col0\" >0.954315</td>\n",
              "    </tr>\n",
              "    <tr>\n",
              "      <th id=\"T_ab52b_level0_row3\" class=\"row_heading level0 row3\" >Gabor</th>\n",
              "      <td id=\"T_ab52b_row3_col0\" class=\"data row3 col0\" >0.989848</td>\n",
              "    </tr>\n",
              "    <tr>\n",
              "      <th id=\"T_ab52b_level0_row4\" class=\"row_heading level0 row4\" >Without Feature Extraction</th>\n",
              "      <td id=\"T_ab52b_row4_col0\" class=\"data row4 col0\" >0.989848</td>\n",
              "    </tr>\n",
              "  </tbody>\n",
              "</table>\n"
            ]
          },
          "metadata": {},
          "execution_count": 94
        }
      ]
    },
    {
      "cell_type": "markdown",
      "source": [
        "So it can be seen that feature extraction with gabor filters are giving pretty good results than the other methods but also it can noted that CNNs witout any feature extraction methods are also giving good results than the other feature extraction techniques such as HOG, LBP, SIFT."
      ],
      "metadata": {
        "id": "D4QI5lnjkMsG"
      }
    }
  ]
}